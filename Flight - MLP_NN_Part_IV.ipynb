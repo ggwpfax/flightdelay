{
 "cells": [
  {
   "cell_type": "markdown",
   "metadata": {},
   "source": [
    "<font size=\"6\"><b>MLP Neural Networks - Part IV</b></font>"
   ]
  },
  {
   "cell_type": "markdown",
   "metadata": {},
   "source": [
    "# Libraries"
   ]
  },
  {
   "cell_type": "code",
   "execution_count": 1,
   "metadata": {
    "ExecuteTime": {
     "end_time": "2020-10-14T09:40:28.778475Z",
     "start_time": "2020-10-14T09:40:25.598540Z"
    }
   },
   "outputs": [],
   "source": [
    "import pandas as pd\n",
    "import numpy as np\n",
    "np.random.seed(0)\n",
    "import matplotlib.pyplot as plt\n",
    "%matplotlib inline\n",
    "import seaborn as sns\n",
    "import xgboost as xgb\n",
    "sns.set_style('darkgrid')\n",
    "pd.set_option('display.max_columns', None)\n",
    "import datetime, warnings, scipy\n",
    "warnings.filterwarnings(\"ignore\")\n",
    "\n",
    "import keras\n",
    "from keras.models import Sequential\n",
    "from keras.layers import Dense\n",
    "from sklearn.datasets import load_breast_cancer\n",
    "from sklearn.preprocessing import StandardScaler, LabelBinarizer\n",
    "from sklearn.model_selection import train_test_split\n",
    "from keras.layers import Dense, Conv2D , SeparableConv2D, MaxPool2D, Flatten , Dropout , BatchNormalization\n",
    "\n",
    "import tensorflow as tf\n",
    "from tensorflow import keras"
   ]
  },
  {
   "cell_type": "markdown",
   "metadata": {},
   "source": [
    "## Data Loading"
   ]
  },
  {
   "cell_type": "code",
   "execution_count": 2,
   "metadata": {
    "ExecuteTime": {
     "end_time": "2020-10-14T09:40:38.037735Z",
     "start_time": "2020-10-14T09:40:28.785303Z"
    },
    "scrolled": true
   },
   "outputs": [
    {
     "data": {
      "text/html": [
       "<div>\n",
       "<style scoped>\n",
       "    .dataframe tbody tr th:only-of-type {\n",
       "        vertical-align: middle;\n",
       "    }\n",
       "\n",
       "    .dataframe tbody tr th {\n",
       "        vertical-align: top;\n",
       "    }\n",
       "\n",
       "    .dataframe thead th {\n",
       "        text-align: right;\n",
       "    }\n",
       "</style>\n",
       "<table border=\"1\" class=\"dataframe\">\n",
       "  <thead>\n",
       "    <tr style=\"text-align: right;\">\n",
       "      <th></th>\n",
       "      <th>DEP_DELAY</th>\n",
       "      <th>TAXI_OUT</th>\n",
       "      <th>WHEELS_OFF</th>\n",
       "      <th>WHEELS_ON</th>\n",
       "      <th>TAXI_IN</th>\n",
       "      <th>ARR_DELAY</th>\n",
       "      <th>CRS_ELAPSED_TIME</th>\n",
       "      <th>AIR_TIME</th>\n",
       "      <th>DISTANCE</th>\n",
       "      <th>DAY</th>\n",
       "      <th>FLIGHT_STATUS</th>\n",
       "      <th>OP_CARRIER_Allegiant Air</th>\n",
       "      <th>OP_CARRIER_American Airlines</th>\n",
       "      <th>OP_CARRIER_Delta Airlines</th>\n",
       "      <th>OP_CARRIER_Endeavor Air</th>\n",
       "      <th>OP_CARRIER_Envoy Air</th>\n",
       "      <th>OP_CARRIER_ExpressJet</th>\n",
       "      <th>OP_CARRIER_Frontier Airlines</th>\n",
       "      <th>OP_CARRIER_Hawaiian Airlines</th>\n",
       "      <th>OP_CARRIER_JetBlue Airways</th>\n",
       "      <th>OP_CARRIER_Mesa Airline</th>\n",
       "      <th>OP_CARRIER_PSA Airlines</th>\n",
       "      <th>OP_CARRIER_Republic Airways</th>\n",
       "      <th>OP_CARRIER_SkyWest Airlines</th>\n",
       "      <th>OP_CARRIER_Southwest Airlines</th>\n",
       "      <th>OP_CARRIER_Spirit Airlines</th>\n",
       "      <th>OP_CARRIER_United Airlines</th>\n",
       "      <th>OP_CARRIER_Virgin America</th>\n",
       "      <th>DEST_Atlanta</th>\n",
       "      <th>DEST_Boston</th>\n",
       "      <th>DEST_Charlotte</th>\n",
       "      <th>DEST_Chicago</th>\n",
       "      <th>DEST_Dallas-Fort Worth</th>\n",
       "      <th>DEST_Denver</th>\n",
       "      <th>DEST_Detroit</th>\n",
       "      <th>DEST_Houston</th>\n",
       "      <th>DEST_Las Vegas</th>\n",
       "      <th>DEST_Los Angeles</th>\n",
       "      <th>DEST_Minneapolis</th>\n",
       "      <th>DEST_New York</th>\n",
       "      <th>DEST_Newark</th>\n",
       "      <th>DEST_Orlando</th>\n",
       "      <th>DEST_Philadelphia</th>\n",
       "      <th>DEST_Phoenix</th>\n",
       "      <th>DEST_Salt Lake City</th>\n",
       "      <th>DEST_San Francisco</th>\n",
       "      <th>DEST_Seattle</th>\n",
       "      <th>CRS_DEP_TIME_2</th>\n",
       "      <th>CRS_DEP_TIME_3</th>\n",
       "      <th>CRS_DEP_TIME_4</th>\n",
       "      <th>CRS_ARR_TIME_2</th>\n",
       "      <th>CRS_ARR_TIME_3</th>\n",
       "      <th>CRS_ARR_TIME_4</th>\n",
       "      <th>MONTH_2</th>\n",
       "      <th>MONTH_3</th>\n",
       "      <th>MONTH_4</th>\n",
       "      <th>MONTH_5</th>\n",
       "      <th>MONTH_6</th>\n",
       "      <th>MONTH_7</th>\n",
       "      <th>MONTH_8</th>\n",
       "      <th>MONTH_9</th>\n",
       "      <th>MONTH_10</th>\n",
       "      <th>MONTH_11</th>\n",
       "      <th>MONTH_12</th>\n",
       "      <th>WEEKDAY_1</th>\n",
       "      <th>WEEKDAY_2</th>\n",
       "      <th>WEEKDAY_3</th>\n",
       "      <th>WEEKDAY_4</th>\n",
       "      <th>WEEKDAY_5</th>\n",
       "      <th>WEEKDAY_6</th>\n",
       "    </tr>\n",
       "  </thead>\n",
       "  <tbody>\n",
       "    <tr>\n",
       "      <th>0</th>\n",
       "      <td>-5.0</td>\n",
       "      <td>15.0</td>\n",
       "      <td>3</td>\n",
       "      <td>3</td>\n",
       "      <td>10.0</td>\n",
       "      <td>-23.0</td>\n",
       "      <td>268.0</td>\n",
       "      <td>225.0</td>\n",
       "      <td>1605.0</td>\n",
       "      <td>1</td>\n",
       "      <td>0</td>\n",
       "      <td>0</td>\n",
       "      <td>0</td>\n",
       "      <td>0</td>\n",
       "      <td>0</td>\n",
       "      <td>0</td>\n",
       "      <td>0</td>\n",
       "      <td>0</td>\n",
       "      <td>0</td>\n",
       "      <td>0</td>\n",
       "      <td>0</td>\n",
       "      <td>0</td>\n",
       "      <td>0</td>\n",
       "      <td>0</td>\n",
       "      <td>0</td>\n",
       "      <td>0</td>\n",
       "      <td>1</td>\n",
       "      <td>0</td>\n",
       "      <td>0</td>\n",
       "      <td>0</td>\n",
       "      <td>0</td>\n",
       "      <td>0</td>\n",
       "      <td>0</td>\n",
       "      <td>1</td>\n",
       "      <td>0</td>\n",
       "      <td>0</td>\n",
       "      <td>0</td>\n",
       "      <td>0</td>\n",
       "      <td>0</td>\n",
       "      <td>0</td>\n",
       "      <td>0</td>\n",
       "      <td>0</td>\n",
       "      <td>0</td>\n",
       "      <td>0</td>\n",
       "      <td>0</td>\n",
       "      <td>0</td>\n",
       "      <td>0</td>\n",
       "      <td>0</td>\n",
       "      <td>1</td>\n",
       "      <td>0</td>\n",
       "      <td>0</td>\n",
       "      <td>1</td>\n",
       "      <td>0</td>\n",
       "      <td>0</td>\n",
       "      <td>0</td>\n",
       "      <td>0</td>\n",
       "      <td>0</td>\n",
       "      <td>0</td>\n",
       "      <td>0</td>\n",
       "      <td>0</td>\n",
       "      <td>0</td>\n",
       "      <td>0</td>\n",
       "      <td>0</td>\n",
       "      <td>0</td>\n",
       "      <td>0</td>\n",
       "      <td>0</td>\n",
       "      <td>0</td>\n",
       "      <td>0</td>\n",
       "      <td>0</td>\n",
       "      <td>0</td>\n",
       "    </tr>\n",
       "    <tr>\n",
       "      <th>1</th>\n",
       "      <td>-8.0</td>\n",
       "      <td>11.0</td>\n",
       "      <td>2</td>\n",
       "      <td>3</td>\n",
       "      <td>7.0</td>\n",
       "      <td>-24.0</td>\n",
       "      <td>99.0</td>\n",
       "      <td>65.0</td>\n",
       "      <td>414.0</td>\n",
       "      <td>1</td>\n",
       "      <td>0</td>\n",
       "      <td>0</td>\n",
       "      <td>0</td>\n",
       "      <td>0</td>\n",
       "      <td>0</td>\n",
       "      <td>0</td>\n",
       "      <td>0</td>\n",
       "      <td>0</td>\n",
       "      <td>0</td>\n",
       "      <td>0</td>\n",
       "      <td>0</td>\n",
       "      <td>0</td>\n",
       "      <td>0</td>\n",
       "      <td>0</td>\n",
       "      <td>0</td>\n",
       "      <td>0</td>\n",
       "      <td>1</td>\n",
       "      <td>0</td>\n",
       "      <td>0</td>\n",
       "      <td>0</td>\n",
       "      <td>0</td>\n",
       "      <td>0</td>\n",
       "      <td>0</td>\n",
       "      <td>0</td>\n",
       "      <td>0</td>\n",
       "      <td>0</td>\n",
       "      <td>0</td>\n",
       "      <td>0</td>\n",
       "      <td>0</td>\n",
       "      <td>0</td>\n",
       "      <td>0</td>\n",
       "      <td>0</td>\n",
       "      <td>0</td>\n",
       "      <td>0</td>\n",
       "      <td>0</td>\n",
       "      <td>1</td>\n",
       "      <td>0</td>\n",
       "      <td>1</td>\n",
       "      <td>0</td>\n",
       "      <td>0</td>\n",
       "      <td>0</td>\n",
       "      <td>1</td>\n",
       "      <td>0</td>\n",
       "      <td>0</td>\n",
       "      <td>0</td>\n",
       "      <td>0</td>\n",
       "      <td>0</td>\n",
       "      <td>0</td>\n",
       "      <td>0</td>\n",
       "      <td>0</td>\n",
       "      <td>0</td>\n",
       "      <td>0</td>\n",
       "      <td>0</td>\n",
       "      <td>0</td>\n",
       "      <td>0</td>\n",
       "      <td>0</td>\n",
       "      <td>0</td>\n",
       "      <td>0</td>\n",
       "      <td>0</td>\n",
       "      <td>0</td>\n",
       "    </tr>\n",
       "    <tr>\n",
       "      <th>2</th>\n",
       "      <td>-5.0</td>\n",
       "      <td>15.0</td>\n",
       "      <td>3</td>\n",
       "      <td>3</td>\n",
       "      <td>5.0</td>\n",
       "      <td>-13.0</td>\n",
       "      <td>134.0</td>\n",
       "      <td>106.0</td>\n",
       "      <td>846.0</td>\n",
       "      <td>1</td>\n",
       "      <td>0</td>\n",
       "      <td>0</td>\n",
       "      <td>0</td>\n",
       "      <td>0</td>\n",
       "      <td>0</td>\n",
       "      <td>0</td>\n",
       "      <td>0</td>\n",
       "      <td>0</td>\n",
       "      <td>0</td>\n",
       "      <td>0</td>\n",
       "      <td>0</td>\n",
       "      <td>0</td>\n",
       "      <td>0</td>\n",
       "      <td>0</td>\n",
       "      <td>0</td>\n",
       "      <td>0</td>\n",
       "      <td>1</td>\n",
       "      <td>0</td>\n",
       "      <td>0</td>\n",
       "      <td>0</td>\n",
       "      <td>0</td>\n",
       "      <td>0</td>\n",
       "      <td>0</td>\n",
       "      <td>1</td>\n",
       "      <td>0</td>\n",
       "      <td>0</td>\n",
       "      <td>0</td>\n",
       "      <td>0</td>\n",
       "      <td>0</td>\n",
       "      <td>0</td>\n",
       "      <td>0</td>\n",
       "      <td>0</td>\n",
       "      <td>0</td>\n",
       "      <td>0</td>\n",
       "      <td>0</td>\n",
       "      <td>0</td>\n",
       "      <td>0</td>\n",
       "      <td>0</td>\n",
       "      <td>1</td>\n",
       "      <td>0</td>\n",
       "      <td>0</td>\n",
       "      <td>1</td>\n",
       "      <td>0</td>\n",
       "      <td>0</td>\n",
       "      <td>0</td>\n",
       "      <td>0</td>\n",
       "      <td>0</td>\n",
       "      <td>0</td>\n",
       "      <td>0</td>\n",
       "      <td>0</td>\n",
       "      <td>0</td>\n",
       "      <td>0</td>\n",
       "      <td>0</td>\n",
       "      <td>0</td>\n",
       "      <td>0</td>\n",
       "      <td>0</td>\n",
       "      <td>0</td>\n",
       "      <td>0</td>\n",
       "      <td>0</td>\n",
       "      <td>0</td>\n",
       "    </tr>\n",
       "    <tr>\n",
       "      <th>3</th>\n",
       "      <td>6.0</td>\n",
       "      <td>19.0</td>\n",
       "      <td>3</td>\n",
       "      <td>3</td>\n",
       "      <td>6.0</td>\n",
       "      <td>-2.0</td>\n",
       "      <td>190.0</td>\n",
       "      <td>157.0</td>\n",
       "      <td>1120.0</td>\n",
       "      <td>1</td>\n",
       "      <td>0</td>\n",
       "      <td>0</td>\n",
       "      <td>0</td>\n",
       "      <td>0</td>\n",
       "      <td>0</td>\n",
       "      <td>0</td>\n",
       "      <td>0</td>\n",
       "      <td>0</td>\n",
       "      <td>0</td>\n",
       "      <td>0</td>\n",
       "      <td>0</td>\n",
       "      <td>0</td>\n",
       "      <td>0</td>\n",
       "      <td>0</td>\n",
       "      <td>0</td>\n",
       "      <td>0</td>\n",
       "      <td>1</td>\n",
       "      <td>0</td>\n",
       "      <td>0</td>\n",
       "      <td>0</td>\n",
       "      <td>0</td>\n",
       "      <td>1</td>\n",
       "      <td>0</td>\n",
       "      <td>0</td>\n",
       "      <td>0</td>\n",
       "      <td>0</td>\n",
       "      <td>0</td>\n",
       "      <td>0</td>\n",
       "      <td>0</td>\n",
       "      <td>0</td>\n",
       "      <td>0</td>\n",
       "      <td>0</td>\n",
       "      <td>0</td>\n",
       "      <td>0</td>\n",
       "      <td>0</td>\n",
       "      <td>0</td>\n",
       "      <td>0</td>\n",
       "      <td>0</td>\n",
       "      <td>1</td>\n",
       "      <td>0</td>\n",
       "      <td>0</td>\n",
       "      <td>1</td>\n",
       "      <td>0</td>\n",
       "      <td>0</td>\n",
       "      <td>0</td>\n",
       "      <td>0</td>\n",
       "      <td>0</td>\n",
       "      <td>0</td>\n",
       "      <td>0</td>\n",
       "      <td>0</td>\n",
       "      <td>0</td>\n",
       "      <td>0</td>\n",
       "      <td>0</td>\n",
       "      <td>0</td>\n",
       "      <td>0</td>\n",
       "      <td>0</td>\n",
       "      <td>0</td>\n",
       "      <td>0</td>\n",
       "      <td>0</td>\n",
       "      <td>0</td>\n",
       "    </tr>\n",
       "    <tr>\n",
       "      <th>6</th>\n",
       "      <td>-3.0</td>\n",
       "      <td>14.0</td>\n",
       "      <td>2</td>\n",
       "      <td>2</td>\n",
       "      <td>6.0</td>\n",
       "      <td>-16.0</td>\n",
       "      <td>206.0</td>\n",
       "      <td>173.0</td>\n",
       "      <td>1222.0</td>\n",
       "      <td>1</td>\n",
       "      <td>0</td>\n",
       "      <td>0</td>\n",
       "      <td>0</td>\n",
       "      <td>0</td>\n",
       "      <td>0</td>\n",
       "      <td>0</td>\n",
       "      <td>0</td>\n",
       "      <td>0</td>\n",
       "      <td>0</td>\n",
       "      <td>0</td>\n",
       "      <td>0</td>\n",
       "      <td>0</td>\n",
       "      <td>0</td>\n",
       "      <td>0</td>\n",
       "      <td>0</td>\n",
       "      <td>0</td>\n",
       "      <td>1</td>\n",
       "      <td>0</td>\n",
       "      <td>0</td>\n",
       "      <td>0</td>\n",
       "      <td>0</td>\n",
       "      <td>0</td>\n",
       "      <td>0</td>\n",
       "      <td>0</td>\n",
       "      <td>0</td>\n",
       "      <td>0</td>\n",
       "      <td>1</td>\n",
       "      <td>0</td>\n",
       "      <td>0</td>\n",
       "      <td>0</td>\n",
       "      <td>0</td>\n",
       "      <td>0</td>\n",
       "      <td>0</td>\n",
       "      <td>0</td>\n",
       "      <td>0</td>\n",
       "      <td>0</td>\n",
       "      <td>0</td>\n",
       "      <td>1</td>\n",
       "      <td>0</td>\n",
       "      <td>0</td>\n",
       "      <td>1</td>\n",
       "      <td>0</td>\n",
       "      <td>0</td>\n",
       "      <td>0</td>\n",
       "      <td>0</td>\n",
       "      <td>0</td>\n",
       "      <td>0</td>\n",
       "      <td>0</td>\n",
       "      <td>0</td>\n",
       "      <td>0</td>\n",
       "      <td>0</td>\n",
       "      <td>0</td>\n",
       "      <td>0</td>\n",
       "      <td>0</td>\n",
       "      <td>0</td>\n",
       "      <td>0</td>\n",
       "      <td>0</td>\n",
       "      <td>0</td>\n",
       "      <td>0</td>\n",
       "      <td>0</td>\n",
       "    </tr>\n",
       "    <tr>\n",
       "      <th>7213439</th>\n",
       "      <td>31.0</td>\n",
       "      <td>12.0</td>\n",
       "      <td>4</td>\n",
       "      <td>4</td>\n",
       "      <td>6.0</td>\n",
       "      <td>9.0</td>\n",
       "      <td>182.0</td>\n",
       "      <td>142.0</td>\n",
       "      <td>1303.0</td>\n",
       "      <td>31</td>\n",
       "      <td>1</td>\n",
       "      <td>0</td>\n",
       "      <td>1</td>\n",
       "      <td>0</td>\n",
       "      <td>0</td>\n",
       "      <td>0</td>\n",
       "      <td>0</td>\n",
       "      <td>0</td>\n",
       "      <td>0</td>\n",
       "      <td>0</td>\n",
       "      <td>0</td>\n",
       "      <td>0</td>\n",
       "      <td>0</td>\n",
       "      <td>0</td>\n",
       "      <td>0</td>\n",
       "      <td>0</td>\n",
       "      <td>0</td>\n",
       "      <td>0</td>\n",
       "      <td>0</td>\n",
       "      <td>0</td>\n",
       "      <td>0</td>\n",
       "      <td>0</td>\n",
       "      <td>0</td>\n",
       "      <td>0</td>\n",
       "      <td>0</td>\n",
       "      <td>0</td>\n",
       "      <td>0</td>\n",
       "      <td>0</td>\n",
       "      <td>0</td>\n",
       "      <td>0</td>\n",
       "      <td>0</td>\n",
       "      <td>0</td>\n",
       "      <td>1</td>\n",
       "      <td>0</td>\n",
       "      <td>0</td>\n",
       "      <td>0</td>\n",
       "      <td>0</td>\n",
       "      <td>0</td>\n",
       "      <td>0</td>\n",
       "      <td>1</td>\n",
       "      <td>0</td>\n",
       "      <td>0</td>\n",
       "      <td>1</td>\n",
       "      <td>0</td>\n",
       "      <td>0</td>\n",
       "      <td>0</td>\n",
       "      <td>0</td>\n",
       "      <td>0</td>\n",
       "      <td>0</td>\n",
       "      <td>0</td>\n",
       "      <td>0</td>\n",
       "      <td>0</td>\n",
       "      <td>0</td>\n",
       "      <td>1</td>\n",
       "      <td>0</td>\n",
       "      <td>0</td>\n",
       "      <td>0</td>\n",
       "      <td>0</td>\n",
       "      <td>0</td>\n",
       "      <td>0</td>\n",
       "    </tr>\n",
       "    <tr>\n",
       "      <th>7213440</th>\n",
       "      <td>-1.0</td>\n",
       "      <td>12.0</td>\n",
       "      <td>3</td>\n",
       "      <td>3</td>\n",
       "      <td>4.0</td>\n",
       "      <td>-23.0</td>\n",
       "      <td>84.0</td>\n",
       "      <td>46.0</td>\n",
       "      <td>331.0</td>\n",
       "      <td>31</td>\n",
       "      <td>0</td>\n",
       "      <td>0</td>\n",
       "      <td>1</td>\n",
       "      <td>0</td>\n",
       "      <td>0</td>\n",
       "      <td>0</td>\n",
       "      <td>0</td>\n",
       "      <td>0</td>\n",
       "      <td>0</td>\n",
       "      <td>0</td>\n",
       "      <td>0</td>\n",
       "      <td>0</td>\n",
       "      <td>0</td>\n",
       "      <td>0</td>\n",
       "      <td>0</td>\n",
       "      <td>0</td>\n",
       "      <td>0</td>\n",
       "      <td>0</td>\n",
       "      <td>0</td>\n",
       "      <td>0</td>\n",
       "      <td>0</td>\n",
       "      <td>0</td>\n",
       "      <td>0</td>\n",
       "      <td>0</td>\n",
       "      <td>0</td>\n",
       "      <td>0</td>\n",
       "      <td>0</td>\n",
       "      <td>0</td>\n",
       "      <td>0</td>\n",
       "      <td>0</td>\n",
       "      <td>0</td>\n",
       "      <td>0</td>\n",
       "      <td>0</td>\n",
       "      <td>0</td>\n",
       "      <td>0</td>\n",
       "      <td>0</td>\n",
       "      <td>0</td>\n",
       "      <td>0</td>\n",
       "      <td>1</td>\n",
       "      <td>0</td>\n",
       "      <td>0</td>\n",
       "      <td>1</td>\n",
       "      <td>0</td>\n",
       "      <td>0</td>\n",
       "      <td>0</td>\n",
       "      <td>0</td>\n",
       "      <td>0</td>\n",
       "      <td>0</td>\n",
       "      <td>0</td>\n",
       "      <td>0</td>\n",
       "      <td>0</td>\n",
       "      <td>0</td>\n",
       "      <td>0</td>\n",
       "      <td>1</td>\n",
       "      <td>0</td>\n",
       "      <td>0</td>\n",
       "      <td>0</td>\n",
       "      <td>0</td>\n",
       "      <td>0</td>\n",
       "      <td>0</td>\n",
       "    </tr>\n",
       "    <tr>\n",
       "      <th>7213441</th>\n",
       "      <td>-4.0</td>\n",
       "      <td>20.0</td>\n",
       "      <td>3</td>\n",
       "      <td>3</td>\n",
       "      <td>7.0</td>\n",
       "      <td>-5.0</td>\n",
       "      <td>100.0</td>\n",
       "      <td>72.0</td>\n",
       "      <td>331.0</td>\n",
       "      <td>31</td>\n",
       "      <td>0</td>\n",
       "      <td>0</td>\n",
       "      <td>1</td>\n",
       "      <td>0</td>\n",
       "      <td>0</td>\n",
       "      <td>0</td>\n",
       "      <td>0</td>\n",
       "      <td>0</td>\n",
       "      <td>0</td>\n",
       "      <td>0</td>\n",
       "      <td>0</td>\n",
       "      <td>0</td>\n",
       "      <td>0</td>\n",
       "      <td>0</td>\n",
       "      <td>0</td>\n",
       "      <td>0</td>\n",
       "      <td>0</td>\n",
       "      <td>0</td>\n",
       "      <td>0</td>\n",
       "      <td>0</td>\n",
       "      <td>1</td>\n",
       "      <td>0</td>\n",
       "      <td>0</td>\n",
       "      <td>0</td>\n",
       "      <td>0</td>\n",
       "      <td>0</td>\n",
       "      <td>0</td>\n",
       "      <td>0</td>\n",
       "      <td>0</td>\n",
       "      <td>0</td>\n",
       "      <td>0</td>\n",
       "      <td>0</td>\n",
       "      <td>0</td>\n",
       "      <td>0</td>\n",
       "      <td>0</td>\n",
       "      <td>0</td>\n",
       "      <td>0</td>\n",
       "      <td>0</td>\n",
       "      <td>1</td>\n",
       "      <td>0</td>\n",
       "      <td>0</td>\n",
       "      <td>1</td>\n",
       "      <td>0</td>\n",
       "      <td>0</td>\n",
       "      <td>0</td>\n",
       "      <td>0</td>\n",
       "      <td>0</td>\n",
       "      <td>0</td>\n",
       "      <td>0</td>\n",
       "      <td>0</td>\n",
       "      <td>0</td>\n",
       "      <td>0</td>\n",
       "      <td>0</td>\n",
       "      <td>1</td>\n",
       "      <td>0</td>\n",
       "      <td>0</td>\n",
       "      <td>0</td>\n",
       "      <td>0</td>\n",
       "      <td>0</td>\n",
       "      <td>0</td>\n",
       "    </tr>\n",
       "    <tr>\n",
       "      <th>7213442</th>\n",
       "      <td>6.0</td>\n",
       "      <td>18.0</td>\n",
       "      <td>4</td>\n",
       "      <td>4</td>\n",
       "      <td>10.0</td>\n",
       "      <td>1.0</td>\n",
       "      <td>181.0</td>\n",
       "      <td>148.0</td>\n",
       "      <td>936.0</td>\n",
       "      <td>31</td>\n",
       "      <td>1</td>\n",
       "      <td>0</td>\n",
       "      <td>1</td>\n",
       "      <td>0</td>\n",
       "      <td>0</td>\n",
       "      <td>0</td>\n",
       "      <td>0</td>\n",
       "      <td>0</td>\n",
       "      <td>0</td>\n",
       "      <td>0</td>\n",
       "      <td>0</td>\n",
       "      <td>0</td>\n",
       "      <td>0</td>\n",
       "      <td>0</td>\n",
       "      <td>0</td>\n",
       "      <td>0</td>\n",
       "      <td>0</td>\n",
       "      <td>0</td>\n",
       "      <td>0</td>\n",
       "      <td>0</td>\n",
       "      <td>0</td>\n",
       "      <td>0</td>\n",
       "      <td>1</td>\n",
       "      <td>0</td>\n",
       "      <td>0</td>\n",
       "      <td>0</td>\n",
       "      <td>0</td>\n",
       "      <td>0</td>\n",
       "      <td>0</td>\n",
       "      <td>0</td>\n",
       "      <td>0</td>\n",
       "      <td>0</td>\n",
       "      <td>0</td>\n",
       "      <td>0</td>\n",
       "      <td>0</td>\n",
       "      <td>0</td>\n",
       "      <td>0</td>\n",
       "      <td>0</td>\n",
       "      <td>1</td>\n",
       "      <td>0</td>\n",
       "      <td>0</td>\n",
       "      <td>0</td>\n",
       "      <td>1</td>\n",
       "      <td>0</td>\n",
       "      <td>0</td>\n",
       "      <td>0</td>\n",
       "      <td>0</td>\n",
       "      <td>0</td>\n",
       "      <td>0</td>\n",
       "      <td>0</td>\n",
       "      <td>0</td>\n",
       "      <td>0</td>\n",
       "      <td>0</td>\n",
       "      <td>1</td>\n",
       "      <td>0</td>\n",
       "      <td>0</td>\n",
       "      <td>0</td>\n",
       "      <td>0</td>\n",
       "      <td>0</td>\n",
       "      <td>0</td>\n",
       "    </tr>\n",
       "    <tr>\n",
       "      <th>7213445</th>\n",
       "      <td>8.0</td>\n",
       "      <td>8.0</td>\n",
       "      <td>3</td>\n",
       "      <td>3</td>\n",
       "      <td>7.0</td>\n",
       "      <td>-4.0</td>\n",
       "      <td>71.0</td>\n",
       "      <td>44.0</td>\n",
       "      <td>130.0</td>\n",
       "      <td>31</td>\n",
       "      <td>0</td>\n",
       "      <td>0</td>\n",
       "      <td>1</td>\n",
       "      <td>0</td>\n",
       "      <td>0</td>\n",
       "      <td>0</td>\n",
       "      <td>0</td>\n",
       "      <td>0</td>\n",
       "      <td>0</td>\n",
       "      <td>0</td>\n",
       "      <td>0</td>\n",
       "      <td>0</td>\n",
       "      <td>0</td>\n",
       "      <td>0</td>\n",
       "      <td>0</td>\n",
       "      <td>0</td>\n",
       "      <td>0</td>\n",
       "      <td>0</td>\n",
       "      <td>0</td>\n",
       "      <td>0</td>\n",
       "      <td>1</td>\n",
       "      <td>0</td>\n",
       "      <td>0</td>\n",
       "      <td>0</td>\n",
       "      <td>0</td>\n",
       "      <td>0</td>\n",
       "      <td>0</td>\n",
       "      <td>0</td>\n",
       "      <td>0</td>\n",
       "      <td>0</td>\n",
       "      <td>0</td>\n",
       "      <td>0</td>\n",
       "      <td>0</td>\n",
       "      <td>0</td>\n",
       "      <td>0</td>\n",
       "      <td>0</td>\n",
       "      <td>0</td>\n",
       "      <td>0</td>\n",
       "      <td>1</td>\n",
       "      <td>0</td>\n",
       "      <td>0</td>\n",
       "      <td>1</td>\n",
       "      <td>0</td>\n",
       "      <td>0</td>\n",
       "      <td>0</td>\n",
       "      <td>0</td>\n",
       "      <td>0</td>\n",
       "      <td>0</td>\n",
       "      <td>0</td>\n",
       "      <td>0</td>\n",
       "      <td>0</td>\n",
       "      <td>0</td>\n",
       "      <td>0</td>\n",
       "      <td>1</td>\n",
       "      <td>0</td>\n",
       "      <td>0</td>\n",
       "      <td>0</td>\n",
       "      <td>0</td>\n",
       "      <td>0</td>\n",
       "      <td>0</td>\n",
       "    </tr>\n",
       "  </tbody>\n",
       "</table>\n",
       "</div>"
      ],
      "text/plain": [
       "         DEP_DELAY  TAXI_OUT  WHEELS_OFF  WHEELS_ON  TAXI_IN  ARR_DELAY  \\\n",
       "0             -5.0      15.0           3          3     10.0      -23.0   \n",
       "1             -8.0      11.0           2          3      7.0      -24.0   \n",
       "2             -5.0      15.0           3          3      5.0      -13.0   \n",
       "3              6.0      19.0           3          3      6.0       -2.0   \n",
       "6             -3.0      14.0           2          2      6.0      -16.0   \n",
       "7213439       31.0      12.0           4          4      6.0        9.0   \n",
       "7213440       -1.0      12.0           3          3      4.0      -23.0   \n",
       "7213441       -4.0      20.0           3          3      7.0       -5.0   \n",
       "7213442        6.0      18.0           4          4     10.0        1.0   \n",
       "7213445        8.0       8.0           3          3      7.0       -4.0   \n",
       "\n",
       "         CRS_ELAPSED_TIME  AIR_TIME  DISTANCE  DAY  FLIGHT_STATUS  \\\n",
       "0                   268.0     225.0    1605.0    1              0   \n",
       "1                    99.0      65.0     414.0    1              0   \n",
       "2                   134.0     106.0     846.0    1              0   \n",
       "3                   190.0     157.0    1120.0    1              0   \n",
       "6                   206.0     173.0    1222.0    1              0   \n",
       "7213439             182.0     142.0    1303.0   31              1   \n",
       "7213440              84.0      46.0     331.0   31              0   \n",
       "7213441             100.0      72.0     331.0   31              0   \n",
       "7213442             181.0     148.0     936.0   31              1   \n",
       "7213445              71.0      44.0     130.0   31              0   \n",
       "\n",
       "         OP_CARRIER_Allegiant Air  OP_CARRIER_American Airlines  \\\n",
       "0                               0                             0   \n",
       "1                               0                             0   \n",
       "2                               0                             0   \n",
       "3                               0                             0   \n",
       "6                               0                             0   \n",
       "7213439                         0                             1   \n",
       "7213440                         0                             1   \n",
       "7213441                         0                             1   \n",
       "7213442                         0                             1   \n",
       "7213445                         0                             1   \n",
       "\n",
       "         OP_CARRIER_Delta Airlines  OP_CARRIER_Endeavor Air  \\\n",
       "0                                0                        0   \n",
       "1                                0                        0   \n",
       "2                                0                        0   \n",
       "3                                0                        0   \n",
       "6                                0                        0   \n",
       "7213439                          0                        0   \n",
       "7213440                          0                        0   \n",
       "7213441                          0                        0   \n",
       "7213442                          0                        0   \n",
       "7213445                          0                        0   \n",
       "\n",
       "         OP_CARRIER_Envoy Air  OP_CARRIER_ExpressJet  \\\n",
       "0                           0                      0   \n",
       "1                           0                      0   \n",
       "2                           0                      0   \n",
       "3                           0                      0   \n",
       "6                           0                      0   \n",
       "7213439                     0                      0   \n",
       "7213440                     0                      0   \n",
       "7213441                     0                      0   \n",
       "7213442                     0                      0   \n",
       "7213445                     0                      0   \n",
       "\n",
       "         OP_CARRIER_Frontier Airlines  OP_CARRIER_Hawaiian Airlines  \\\n",
       "0                                   0                             0   \n",
       "1                                   0                             0   \n",
       "2                                   0                             0   \n",
       "3                                   0                             0   \n",
       "6                                   0                             0   \n",
       "7213439                             0                             0   \n",
       "7213440                             0                             0   \n",
       "7213441                             0                             0   \n",
       "7213442                             0                             0   \n",
       "7213445                             0                             0   \n",
       "\n",
       "         OP_CARRIER_JetBlue Airways  OP_CARRIER_Mesa Airline  \\\n",
       "0                                 0                        0   \n",
       "1                                 0                        0   \n",
       "2                                 0                        0   \n",
       "3                                 0                        0   \n",
       "6                                 0                        0   \n",
       "7213439                           0                        0   \n",
       "7213440                           0                        0   \n",
       "7213441                           0                        0   \n",
       "7213442                           0                        0   \n",
       "7213445                           0                        0   \n",
       "\n",
       "         OP_CARRIER_PSA Airlines  OP_CARRIER_Republic Airways  \\\n",
       "0                              0                            0   \n",
       "1                              0                            0   \n",
       "2                              0                            0   \n",
       "3                              0                            0   \n",
       "6                              0                            0   \n",
       "7213439                        0                            0   \n",
       "7213440                        0                            0   \n",
       "7213441                        0                            0   \n",
       "7213442                        0                            0   \n",
       "7213445                        0                            0   \n",
       "\n",
       "         OP_CARRIER_SkyWest Airlines  OP_CARRIER_Southwest Airlines  \\\n",
       "0                                  0                              0   \n",
       "1                                  0                              0   \n",
       "2                                  0                              0   \n",
       "3                                  0                              0   \n",
       "6                                  0                              0   \n",
       "7213439                            0                              0   \n",
       "7213440                            0                              0   \n",
       "7213441                            0                              0   \n",
       "7213442                            0                              0   \n",
       "7213445                            0                              0   \n",
       "\n",
       "         OP_CARRIER_Spirit Airlines  OP_CARRIER_United Airlines  \\\n",
       "0                                 0                           1   \n",
       "1                                 0                           1   \n",
       "2                                 0                           1   \n",
       "3                                 0                           1   \n",
       "6                                 0                           1   \n",
       "7213439                           0                           0   \n",
       "7213440                           0                           0   \n",
       "7213441                           0                           0   \n",
       "7213442                           0                           0   \n",
       "7213445                           0                           0   \n",
       "\n",
       "         OP_CARRIER_Virgin America  DEST_Atlanta  DEST_Boston  DEST_Charlotte  \\\n",
       "0                                0             0            0               0   \n",
       "1                                0             0            0               0   \n",
       "2                                0             0            0               0   \n",
       "3                                0             0            0               0   \n",
       "6                                0             0            0               0   \n",
       "7213439                          0             0            0               0   \n",
       "7213440                          0             0            0               0   \n",
       "7213441                          0             0            0               1   \n",
       "7213442                          0             0            0               0   \n",
       "7213445                          0             0            0               1   \n",
       "\n",
       "         DEST_Chicago  DEST_Dallas-Fort Worth  DEST_Denver  DEST_Detroit  \\\n",
       "0                   0                       0            1             0   \n",
       "1                   0                       0            0             0   \n",
       "2                   0                       0            1             0   \n",
       "3                   1                       0            0             0   \n",
       "6                   0                       0            0             0   \n",
       "7213439             0                       0            0             0   \n",
       "7213440             0                       0            0             0   \n",
       "7213441             0                       0            0             0   \n",
       "7213442             0                       1            0             0   \n",
       "7213445             0                       0            0             0   \n",
       "\n",
       "         DEST_Houston  DEST_Las Vegas  DEST_Los Angeles  DEST_Minneapolis  \\\n",
       "0                   0               0                 0                 0   \n",
       "1                   0               0                 0                 0   \n",
       "2                   0               0                 0                 0   \n",
       "3                   0               0                 0                 0   \n",
       "6                   0               1                 0                 0   \n",
       "7213439             0               0                 0                 0   \n",
       "7213440             0               0                 0                 0   \n",
       "7213441             0               0                 0                 0   \n",
       "7213442             0               0                 0                 0   \n",
       "7213445             0               0                 0                 0   \n",
       "\n",
       "         DEST_New York  DEST_Newark  DEST_Orlando  DEST_Philadelphia  \\\n",
       "0                    0            0             0                  0   \n",
       "1                    0            0             0                  0   \n",
       "2                    0            0             0                  0   \n",
       "3                    0            0             0                  0   \n",
       "6                    0            0             0                  0   \n",
       "7213439              0            0             0                  1   \n",
       "7213440              0            0             0                  0   \n",
       "7213441              0            0             0                  0   \n",
       "7213442              0            0             0                  0   \n",
       "7213445              0            0             0                  0   \n",
       "\n",
       "         DEST_Phoenix  DEST_Salt Lake City  DEST_San Francisco  DEST_Seattle  \\\n",
       "0                   0                    0                   0             0   \n",
       "1                   0                    0                   1             0   \n",
       "2                   0                    0                   0             0   \n",
       "3                   0                    0                   0             0   \n",
       "6                   0                    0                   0             0   \n",
       "7213439             0                    0                   0             0   \n",
       "7213440             0                    0                   0             0   \n",
       "7213441             0                    0                   0             0   \n",
       "7213442             0                    0                   0             0   \n",
       "7213445             0                    0                   0             0   \n",
       "\n",
       "         CRS_DEP_TIME_2  CRS_DEP_TIME_3  CRS_DEP_TIME_4  CRS_ARR_TIME_2  \\\n",
       "0                     0               1               0               0   \n",
       "1                     1               0               0               0   \n",
       "2                     0               1               0               0   \n",
       "3                     0               1               0               0   \n",
       "6                     1               0               0               1   \n",
       "7213439               0               0               1               0   \n",
       "7213440               0               1               0               0   \n",
       "7213441               0               1               0               0   \n",
       "7213442               0               1               0               0   \n",
       "7213445               0               1               0               0   \n",
       "\n",
       "         CRS_ARR_TIME_3  CRS_ARR_TIME_4  MONTH_2  MONTH_3  MONTH_4  MONTH_5  \\\n",
       "0                     1               0        0        0        0        0   \n",
       "1                     1               0        0        0        0        0   \n",
       "2                     1               0        0        0        0        0   \n",
       "3                     1               0        0        0        0        0   \n",
       "6                     0               0        0        0        0        0   \n",
       "7213439               0               1        0        0        0        0   \n",
       "7213440               1               0        0        0        0        0   \n",
       "7213441               1               0        0        0        0        0   \n",
       "7213442               0               1        0        0        0        0   \n",
       "7213445               1               0        0        0        0        0   \n",
       "\n",
       "         MONTH_6  MONTH_7  MONTH_8  MONTH_9  MONTH_10  MONTH_11  MONTH_12  \\\n",
       "0              0        0        0        0         0         0         0   \n",
       "1              0        0        0        0         0         0         0   \n",
       "2              0        0        0        0         0         0         0   \n",
       "3              0        0        0        0         0         0         0   \n",
       "6              0        0        0        0         0         0         0   \n",
       "7213439        0        0        0        0         0         0         1   \n",
       "7213440        0        0        0        0         0         0         1   \n",
       "7213441        0        0        0        0         0         0         1   \n",
       "7213442        0        0        0        0         0         0         1   \n",
       "7213445        0        0        0        0         0         0         1   \n",
       "\n",
       "         WEEKDAY_1  WEEKDAY_2  WEEKDAY_3  WEEKDAY_4  WEEKDAY_5  WEEKDAY_6  \n",
       "0                0          0          0          0          0          0  \n",
       "1                0          0          0          0          0          0  \n",
       "2                0          0          0          0          0          0  \n",
       "3                0          0          0          0          0          0  \n",
       "6                0          0          0          0          0          0  \n",
       "7213439          0          0          0          0          0          0  \n",
       "7213440          0          0          0          0          0          0  \n",
       "7213441          0          0          0          0          0          0  \n",
       "7213442          0          0          0          0          0          0  \n",
       "7213445          0          0          0          0          0          0  "
      ]
     },
     "execution_count": 2,
     "metadata": {},
     "output_type": "execute_result"
    }
   ],
   "source": [
    "dfm_ready = pd.read_csv('dfm_ready.csv', index_col=0)\n",
    "dfm_ready.head().append(dfm_ready.tail())"
   ]
  },
  {
   "cell_type": "markdown",
   "metadata": {},
   "source": [
    "<b>Conditions for the NN to work properly:</b>\n",
    "\n",
    "1. Data is purely numerical<br>\n",
    "2. Data constains no missing values<br>\n",
    "3. Data is normalized"
   ]
  },
  {
   "cell_type": "code",
   "execution_count": 3,
   "metadata": {},
   "outputs": [],
   "source": [
    "dfm_ready.drop(['TAXI_OUT','WHEELS_OFF','WHEELS_ON','DAY','TAXI_IN','ARR_DELAY'], axis=1, inplace=True)"
   ]
  },
  {
   "cell_type": "code",
   "execution_count": 4,
   "metadata": {
    "ExecuteTime": {
     "end_time": "2020-10-14T09:40:39.097059Z",
     "start_time": "2020-10-14T09:40:38.066321Z"
    }
   },
   "outputs": [],
   "source": [
    "df = dfm_ready.astype(float)"
   ]
  },
  {
   "cell_type": "code",
   "execution_count": 5,
   "metadata": {
    "ExecuteTime": {
     "end_time": "2020-10-14T09:40:39.180069Z",
     "start_time": "2020-10-14T09:40:39.165268Z"
    },
    "scrolled": false
   },
   "outputs": [
    {
     "name": "stdout",
     "output_type": "stream",
     "text": [
      "<class 'pandas.core.frame.DataFrame'>\n",
      "Int64Index: 3982067 entries, 0 to 7213445\n",
      "Data columns (total 64 columns):\n",
      " #   Column                         Dtype  \n",
      "---  ------                         -----  \n",
      " 0   DEP_DELAY                      float64\n",
      " 1   CRS_ELAPSED_TIME               float64\n",
      " 2   AIR_TIME                       float64\n",
      " 3   DISTANCE                       float64\n",
      " 4   FLIGHT_STATUS                  float64\n",
      " 5   OP_CARRIER_Allegiant Air       float64\n",
      " 6   OP_CARRIER_American Airlines   float64\n",
      " 7   OP_CARRIER_Delta Airlines      float64\n",
      " 8   OP_CARRIER_Endeavor Air        float64\n",
      " 9   OP_CARRIER_Envoy Air           float64\n",
      " 10  OP_CARRIER_ExpressJet          float64\n",
      " 11  OP_CARRIER_Frontier Airlines   float64\n",
      " 12  OP_CARRIER_Hawaiian Airlines   float64\n",
      " 13  OP_CARRIER_JetBlue Airways     float64\n",
      " 14  OP_CARRIER_Mesa Airline        float64\n",
      " 15  OP_CARRIER_PSA Airlines        float64\n",
      " 16  OP_CARRIER_Republic Airways    float64\n",
      " 17  OP_CARRIER_SkyWest Airlines    float64\n",
      " 18  OP_CARRIER_Southwest Airlines  float64\n",
      " 19  OP_CARRIER_Spirit Airlines     float64\n",
      " 20  OP_CARRIER_United Airlines     float64\n",
      " 21  OP_CARRIER_Virgin America      float64\n",
      " 22  DEST_Atlanta                   float64\n",
      " 23  DEST_Boston                    float64\n",
      " 24  DEST_Charlotte                 float64\n",
      " 25  DEST_Chicago                   float64\n",
      " 26  DEST_Dallas-Fort Worth         float64\n",
      " 27  DEST_Denver                    float64\n",
      " 28  DEST_Detroit                   float64\n",
      " 29  DEST_Houston                   float64\n",
      " 30  DEST_Las Vegas                 float64\n",
      " 31  DEST_Los Angeles               float64\n",
      " 32  DEST_Minneapolis               float64\n",
      " 33  DEST_New York                  float64\n",
      " 34  DEST_Newark                    float64\n",
      " 35  DEST_Orlando                   float64\n",
      " 36  DEST_Philadelphia              float64\n",
      " 37  DEST_Phoenix                   float64\n",
      " 38  DEST_Salt Lake City            float64\n",
      " 39  DEST_San Francisco             float64\n",
      " 40  DEST_Seattle                   float64\n",
      " 41  CRS_DEP_TIME_2                 float64\n",
      " 42  CRS_DEP_TIME_3                 float64\n",
      " 43  CRS_DEP_TIME_4                 float64\n",
      " 44  CRS_ARR_TIME_2                 float64\n",
      " 45  CRS_ARR_TIME_3                 float64\n",
      " 46  CRS_ARR_TIME_4                 float64\n",
      " 47  MONTH_2                        float64\n",
      " 48  MONTH_3                        float64\n",
      " 49  MONTH_4                        float64\n",
      " 50  MONTH_5                        float64\n",
      " 51  MONTH_6                        float64\n",
      " 52  MONTH_7                        float64\n",
      " 53  MONTH_8                        float64\n",
      " 54  MONTH_9                        float64\n",
      " 55  MONTH_10                       float64\n",
      " 56  MONTH_11                       float64\n",
      " 57  MONTH_12                       float64\n",
      " 58  WEEKDAY_1                      float64\n",
      " 59  WEEKDAY_2                      float64\n",
      " 60  WEEKDAY_3                      float64\n",
      " 61  WEEKDAY_4                      float64\n",
      " 62  WEEKDAY_5                      float64\n",
      " 63  WEEKDAY_6                      float64\n",
      "dtypes: float64(64)\n",
      "memory usage: 1.9 GB\n"
     ]
    }
   ],
   "source": [
    "df.info()"
   ]
  },
  {
   "cell_type": "code",
   "execution_count": 6,
   "metadata": {
    "ExecuteTime": {
     "end_time": "2020-10-13T18:17:18.521875Z",
     "start_time": "2020-10-13T18:17:15.904918Z"
    }
   },
   "outputs": [
    {
     "data": {
      "text/plain": [
       "0"
      ]
     },
     "execution_count": 6,
     "metadata": {},
     "output_type": "execute_result"
    }
   ],
   "source": [
    "df.isna().sum().sum()"
   ]
  },
  {
   "cell_type": "code",
   "execution_count": 7,
   "metadata": {
    "ExecuteTime": {
     "end_time": "2020-10-13T18:17:25.859847Z",
     "start_time": "2020-10-13T18:17:18.597090Z"
    }
   },
   "outputs": [],
   "source": [
    "y = df['FLIGHT_STATUS']\n",
    "X = df.drop(['FLIGHT_STATUS', 'DEP_DELAY'], axis = 1)"
   ]
  },
  {
   "cell_type": "code",
   "execution_count": 8,
   "metadata": {
    "ExecuteTime": {
     "end_time": "2020-10-13T18:17:34.603598Z",
     "start_time": "2020-10-13T18:17:26.076847Z"
    }
   },
   "outputs": [],
   "source": [
    "scaler = StandardScaler()\n",
    "scaled_data = scaler.fit_transform(df)"
   ]
  },
  {
   "cell_type": "code",
   "execution_count": 9,
   "metadata": {
    "ExecuteTime": {
     "end_time": "2020-10-13T18:17:35.922989Z",
     "start_time": "2020-10-13T18:17:34.752718Z"
    }
   },
   "outputs": [],
   "source": [
    "binarizer = LabelBinarizer()\n",
    "labels = binarizer.fit_transform(y)"
   ]
  },
  {
   "cell_type": "code",
   "execution_count": 10,
   "metadata": {
    "ExecuteTime": {
     "end_time": "2020-10-13T18:17:36.024154Z",
     "start_time": "2020-10-13T18:17:36.016949Z"
    }
   },
   "outputs": [
    {
     "data": {
      "text/plain": [
       "(3982067, 64)"
      ]
     },
     "execution_count": 10,
     "metadata": {},
     "output_type": "execute_result"
    }
   ],
   "source": [
    "df.shape"
   ]
  },
  {
   "cell_type": "code",
   "execution_count": 11,
   "metadata": {},
   "outputs": [],
   "source": [
    "def visualize_training_results(results):\n",
    "    history = results.history\n",
    "    plt.figure()\n",
    "    plt.plot(history['val_loss'])\n",
    "    plt.plot(history['loss'])\n",
    "    plt.legend(['val_loss', 'loss'])\n",
    "    plt.title('LOSS', fontsize=14)\n",
    "    plt.xlabel('Epochs', fontsize=12)\n",
    "    plt.ylabel('Loss', fontsize=12)\n",
    "    plt.show()\n",
    "    \n",
    "    plt.figure()\n",
    "    plt.plot(history['val_accuracy'])\n",
    "    plt.plot(history['accuracy'])\n",
    "    plt.legend(['val_accuracy', 'accuracy'])\n",
    "    plt.title('ACCURACY', fontsize=14)\n",
    "    plt.xlabel('Epochs', fontsize=12)\n",
    "    plt.ylabel('Accuracy', fontsize=12)\n",
    "    plt.show()"
   ]
  },
  {
   "cell_type": "code",
   "execution_count": 12,
   "metadata": {},
   "outputs": [],
   "source": [
    "def conf_matrix(conf_mat,):\n",
    "    \n",
    "    conf_mat = pd.DataFrame(conf_mat, index = ['0', '1'], columns = ['0', '1'])\n",
    "    sns.set(font_scale=1.4)\n",
    "    plt.figure(figsize = (8,7))\n",
    "    sns.heatmap(conf_mat, cmap= \"Blues\", linecolor = 'black' , linewidth = 1, annot = True, fmt='')\n",
    "    plt.xlabel('Predicted', fontsize=14)\n",
    "    plt.ylabel('True', fontsize=14)\n",
    "    plt.show()"
   ]
  },
  {
   "cell_type": "code",
   "execution_count": 13,
   "metadata": {},
   "outputs": [],
   "source": [
    "def model_metrics(a, b):\n",
    "    \n",
    "    accuracy = metrics.accuracy_score(a, b)\n",
    "    precision = precision_score(a, b)\n",
    "    recall = recall_score(a, b)\n",
    "    f1 = f1_score(a, b)\n",
    "\n",
    "    print('Accuracy:', round(accuracy*100, 2),'%')\n",
    "    print('Precision score:', round(precision*100, 2),'%')\n",
    "    print('Recall score:', round(recall*100, 2),'%')\n",
    "    print('F1 score:', round(f1*100, 2),'%')"
   ]
  },
  {
   "cell_type": "markdown",
   "metadata": {},
   "source": [
    "================================================================================"
   ]
  },
  {
   "cell_type": "code",
   "execution_count": 14,
   "metadata": {},
   "outputs": [],
   "source": [
    "X_train, X_test, y_train, y_test = train_test_split(X, y, test_size=0.2)"
   ]
  },
  {
   "cell_type": "markdown",
   "metadata": {
    "ExecuteTime": {
     "end_time": "2020-10-13T18:19:04.135572Z",
     "start_time": "2020-10-13T18:19:04.115148Z"
    }
   },
   "source": [
    "================================================================================"
   ]
  },
  {
   "cell_type": "markdown",
   "metadata": {},
   "source": [
    "# Modeling"
   ]
  },
  {
   "cell_type": "markdown",
   "metadata": {},
   "source": [
    "## Model 3"
   ]
  },
  {
   "cell_type": "markdown",
   "metadata": {},
   "source": [
    "<b>Building the MLP</b>"
   ]
  },
  {
   "cell_type": "code",
   "execution_count": 56,
   "metadata": {
    "ExecuteTime": {
     "end_time": "2020-10-13T12:23:30.084953Z",
     "start_time": "2020-10-13T12:23:30.050052Z"
    }
   },
   "outputs": [],
   "source": [
    "model_3 = Sequential()\n",
    "\n",
    "model_3.add(Dense(5, activation='relu', input_shape=(70,)))\n",
    "\n",
    "model_3.add(Dense(20, activation='relu'))\n",
    "\n",
    "model_3.add(Dense(1, activation='sigmoid'))"
   ]
  },
  {
   "cell_type": "markdown",
   "metadata": {},
   "source": [
    "<b>Compiling the Model</b>"
   ]
  },
  {
   "cell_type": "code",
   "execution_count": 72,
   "metadata": {
    "ExecuteTime": {
     "end_time": "2020-10-13T12:23:31.023772Z",
     "start_time": "2020-10-13T12:23:30.997260Z"
    }
   },
   "outputs": [],
   "source": [
    "model_3.compile(loss='binary_crossentropy', optimizer='adam', metrics=['accuracy'])"
   ]
  },
  {
   "cell_type": "code",
   "execution_count": 73,
   "metadata": {},
   "outputs": [
    {
     "name": "stdout",
     "output_type": "stream",
     "text": [
      "Model: \"sequential_4\"\n",
      "_________________________________________________________________\n",
      " Layer (type)                Output Shape              Param #   \n",
      "=================================================================\n",
      " dense_12 (Dense)            (None, 5)                 355       \n",
      "                                                                 \n",
      " dense_13 (Dense)            (None, 20)                120       \n",
      "                                                                 \n",
      " dense_14 (Dense)            (None, 1)                 21        \n",
      "                                                                 \n",
      "=================================================================\n",
      "Total params: 496\n",
      "Trainable params: 496\n",
      "Non-trainable params: 0\n",
      "_________________________________________________________________\n"
     ]
    }
   ],
   "source": [
    "model_3.summary()"
   ]
  },
  {
   "cell_type": "markdown",
   "metadata": {},
   "source": [
    "<b>Fitting the Model</b>"
   ]
  },
  {
   "cell_type": "code",
   "execution_count": 84,
   "metadata": {
    "ExecuteTime": {
     "end_time": "2020-10-13T12:30:13.941598Z",
     "start_time": "2020-10-13T12:23:31.845483Z"
    },
    "scrolled": false
   },
   "outputs": [],
   "source": [
    "# results3 = model_3.fit(scaled_data, labels, epochs=1, batch_size=10, validation_split=0.2)"
   ]
  },
  {
   "cell_type": "markdown",
   "metadata": {
    "ExecuteTime": {
     "end_time": "2020-10-13T18:19:04.135572Z",
     "start_time": "2020-10-13T18:19:04.115148Z"
    }
   },
   "source": [
    "================================================================================"
   ]
  },
  {
   "cell_type": "markdown",
   "metadata": {
    "ExecuteTime": {
     "end_time": "2020-10-13T18:19:04.135572Z",
     "start_time": "2020-10-13T18:19:04.115148Z"
    }
   },
   "source": [
    "================================================================================"
   ]
  },
  {
   "cell_type": "markdown",
   "metadata": {},
   "source": [
    "### Model 3 with 5 epochs: "
   ]
  },
  {
   "cell_type": "markdown",
   "metadata": {},
   "source": [
    "This is an attempt to replicate the previous model because when I did it on a separate notebook with 5 epochs it ended up with val_acc of above 90 and the train_acc of 1."
   ]
  },
  {
   "cell_type": "markdown",
   "metadata": {},
   "source": [
    "<b>Building the MLP</b>"
   ]
  },
  {
   "cell_type": "code",
   "execution_count": 85,
   "metadata": {
    "ExecuteTime": {
     "end_time": "2020-10-13T18:20:23.208270Z",
     "start_time": "2020-10-13T18:20:23.052493Z"
    }
   },
   "outputs": [],
   "source": [
    "model_3a = Sequential()\n",
    "\n",
    "model_3a.add(Dense(5, activation='relu', input_shape=(64,)))\n",
    "\n",
    "model_3a.add(Dense(20, activation='relu'))\n",
    "\n",
    "model_3a.add(Dense(1, activation='sigmoid'))"
   ]
  },
  {
   "cell_type": "markdown",
   "metadata": {},
   "source": [
    "<b>Compiling the Model</b>"
   ]
  },
  {
   "cell_type": "code",
   "execution_count": 86,
   "metadata": {
    "ExecuteTime": {
     "end_time": "2020-10-13T18:20:24.208537Z",
     "start_time": "2020-10-13T18:20:24.169315Z"
    }
   },
   "outputs": [],
   "source": [
    "model_3a.compile(loss='binary_crossentropy', optimizer='adam', metrics=['accuracy'])"
   ]
  },
  {
   "cell_type": "markdown",
   "metadata": {},
   "source": [
    "<b>Fitting the Model</b>"
   ]
  },
  {
   "cell_type": "code",
   "execution_count": 87,
   "metadata": {
    "ExecuteTime": {
     "end_time": "2020-10-13T18:27:23.624821Z",
     "start_time": "2020-10-13T18:20:32.150528Z"
    }
   },
   "outputs": [
    {
     "name": "stdout",
     "output_type": "stream",
     "text": [
      "318566/318566 [==============================] - 261s 818us/step - loss: 7.8533e-04 - accuracy: 0.9997 - val_loss: 2.9632 - val_accuracy: 0.7503\n"
     ]
    }
   ],
   "source": [
    "results3a = model_3a.fit(scaled_data, labels, epochs=1, batch_size=10, validation_split=0.2)"
   ]
  },
  {
   "cell_type": "markdown",
   "metadata": {},
   "source": [
    "### Model 3b"
   ]
  },
  {
   "cell_type": "code",
   "execution_count": 88,
   "metadata": {
    "ExecuteTime": {
     "end_time": "2020-10-13T18:28:35.694112Z",
     "start_time": "2020-10-13T18:28:35.654843Z"
    }
   },
   "outputs": [],
   "source": [
    "model_3b = Sequential()\n",
    "\n",
    "model_3b.add(Dense(5, activation='relu', input_shape=(64,)))\n",
    "\n",
    "model_3b.add(Dense(20, activation='relu'))\n",
    "\n",
    "model_3b.add(Dense(1, activation='sigmoid'))"
   ]
  },
  {
   "cell_type": "code",
   "execution_count": 89,
   "metadata": {
    "ExecuteTime": {
     "end_time": "2020-10-13T18:28:37.517823Z",
     "start_time": "2020-10-13T18:28:37.475226Z"
    }
   },
   "outputs": [],
   "source": [
    "model_3b.compile(loss='binary_crossentropy', optimizer='adam', metrics=['accuracy'])"
   ]
  },
  {
   "cell_type": "code",
   "execution_count": 90,
   "metadata": {
    "ExecuteTime": {
     "end_time": "2020-10-13T18:41:53.011590Z",
     "start_time": "2020-10-13T18:29:00.049750Z"
    }
   },
   "outputs": [
    {
     "name": "stdout",
     "output_type": "stream",
     "text": [
      "Epoch 1/2\n",
      "318566/318566 [==============================] - 256s 802us/step - loss: 8.2054e-04 - accuracy: 0.9996 - val_loss: 2.8100 - val_accuracy: 0.7130\n",
      "Epoch 2/2\n",
      "318566/318566 [==============================] - 258s 809us/step - loss: 5.5481e-12 - accuracy: 1.0000 - val_loss: 2.8811 - val_accuracy: 0.7116\n"
     ]
    }
   ],
   "source": [
    "results3b = model_3b.fit(scaled_data, labels, epochs=2, batch_size=10, validation_split=0.2)"
   ]
  },
  {
   "cell_type": "markdown",
   "metadata": {},
   "source": [
    "## Model 3c"
   ]
  },
  {
   "cell_type": "code",
   "execution_count": 91,
   "metadata": {
    "ExecuteTime": {
     "end_time": "2020-10-13T18:43:34.084183Z",
     "start_time": "2020-10-13T18:43:34.027311Z"
    }
   },
   "outputs": [],
   "source": [
    "model_3c = Sequential()\n",
    "\n",
    "model_3c.add(Dense(20, activation='relu', input_shape=(64,)))\n",
    "model_3c.add(Dropout(0.2))\n",
    "model_3c.add(Dense(5, activation='relu'))\n",
    "model_3c.add(Dropout(0.2))\n",
    "\n",
    "model_3c.add(Dense(1, activation='sigmoid'))\n",
    "model_3c.add(Dropout(0.2))"
   ]
  },
  {
   "cell_type": "code",
   "execution_count": 92,
   "metadata": {
    "ExecuteTime": {
     "end_time": "2020-10-13T18:43:34.713611Z",
     "start_time": "2020-10-13T18:43:34.683809Z"
    }
   },
   "outputs": [],
   "source": [
    "model_3c.compile(loss='binary_crossentropy', optimizer='adam', metrics=['accuracy'])"
   ]
  },
  {
   "cell_type": "code",
   "execution_count": 93,
   "metadata": {
    "ExecuteTime": {
     "end_time": "2020-10-13T18:59:04.560158Z",
     "start_time": "2020-10-13T18:43:35.799902Z"
    },
    "scrolled": false
   },
   "outputs": [
    {
     "name": "stdout",
     "output_type": "stream",
     "text": [
      "Epoch 1/2\n",
      "318566/318566 [==============================] - 280s 876us/step - loss: 1.1546 - accuracy: 0.9232 - val_loss: 1.0069e-06 - val_accuracy: 1.0000\n",
      "Epoch 2/2\n",
      "318566/318566 [==============================] - 276s 867us/step - loss: 1.1498 - accuracy: 0.9252 - val_loss: 5.0596e-09 - val_accuracy: 1.0000\n"
     ]
    }
   ],
   "source": [
    "results3c = model_3c.fit(scaled_data, labels, epochs=2, batch_size=10, validation_split=0.2)"
   ]
  },
  {
   "cell_type": "markdown",
   "metadata": {},
   "source": [
    "## Model 4"
   ]
  },
  {
   "cell_type": "code",
   "execution_count": 94,
   "metadata": {
    "ExecuteTime": {
     "end_time": "2020-10-13T18:59:33.165779Z",
     "start_time": "2020-10-13T18:59:33.088831Z"
    }
   },
   "outputs": [],
   "source": [
    "model_4 = Sequential()\n",
    "\n",
    "model_4.add(Dense(20, activation='relu', input_shape=(64,)))\n",
    "model_4.add(Dropout(0.2))\n",
    "model_4.add(Dense(5, activation='relu'))\n",
    "model_4.add(Dropout(0.2))\n",
    "model_4.add(Dense(1, activation='relu'))\n",
    "model_4.add(Dropout(0.2))\n",
    "\n",
    "model_4.add(Dense(1, activation='sigmoid'))\n",
    "model_4.add(Dropout(0.2))"
   ]
  },
  {
   "cell_type": "code",
   "execution_count": 95,
   "metadata": {
    "ExecuteTime": {
     "end_time": "2020-10-13T18:59:33.841318Z",
     "start_time": "2020-10-13T18:59:33.815362Z"
    }
   },
   "outputs": [],
   "source": [
    "model_4.compile(loss='binary_crossentropy', optimizer='adam', metrics=['accuracy'])"
   ]
  },
  {
   "cell_type": "code",
   "execution_count": 96,
   "metadata": {
    "ExecuteTime": {
     "end_time": "2020-10-13T19:07:38.433826Z",
     "start_time": "2020-10-13T18:59:35.459089Z"
    }
   },
   "outputs": [
    {
     "name": "stdout",
     "output_type": "stream",
     "text": [
      "318566/318566 [==============================] - 296s 926us/step - loss: 1.3411 - accuracy: 0.8636 - val_loss: 0.0576 - val_accuracy: 1.0000\n"
     ]
    }
   ],
   "source": [
    "results4 = model_4.fit(scaled_data, labels, epochs=1, batch_size=10, validation_split=0.2)"
   ]
  },
  {
   "cell_type": "markdown",
   "metadata": {},
   "source": [
    "## Model 5"
   ]
  },
  {
   "cell_type": "code",
   "execution_count": 97,
   "metadata": {
    "ExecuteTime": {
     "end_time": "2020-10-13T19:11:55.113961Z",
     "start_time": "2020-10-13T19:11:54.982706Z"
    }
   },
   "outputs": [],
   "source": [
    "model_5 = Sequential()\n",
    "\n",
    "model_5.add(Dense(30, activation='relu', input_shape=(64,)))\n",
    "model_5.add(Dropout(0.2))\n",
    "model_5.add(Dense(15, activation='relu'))\n",
    "model_5.add(Dropout(0.2))\n",
    "model_5.add(Dense(1, activation='relu'))\n",
    "model_5.add(Dropout(0.2))\n",
    "\n",
    "model_5.add(Dense(1, activation='sigmoid'))\n",
    "model_5.add(Dropout(0.2))"
   ]
  },
  {
   "cell_type": "code",
   "execution_count": 98,
   "metadata": {
    "ExecuteTime": {
     "end_time": "2020-10-13T19:12:03.231540Z",
     "start_time": "2020-10-13T19:12:03.201961Z"
    }
   },
   "outputs": [],
   "source": [
    "model_5.compile(loss='binary_crossentropy', optimizer='adam', metrics=['accuracy'])"
   ]
  },
  {
   "cell_type": "code",
   "execution_count": 99,
   "metadata": {
    "ExecuteTime": {
     "end_time": "2020-10-13T20:36:26.877332Z",
     "start_time": "2020-10-13T19:12:21.102568Z"
    }
   },
   "outputs": [
    {
     "name": "stdout",
     "output_type": "stream",
     "text": [
      "Epoch 1/5\n",
      "318566/318566 [==============================] - 300s 939us/step - loss: 1.3388 - accuracy: 0.8652 - val_loss: 0.0532 - val_accuracy: 1.0000\n",
      "Epoch 2/5\n",
      "318566/318566 [==============================] - 302s 950us/step - loss: 1.3334 - accuracy: 0.8663 - val_loss: 0.0566 - val_accuracy: 1.0000\n",
      "Epoch 3/5\n",
      "318566/318566 [==============================] - 300s 941us/step - loss: 1.3347 - accuracy: 0.8663 - val_loss: 0.0553 - val_accuracy: 1.0000\n",
      "Epoch 4/5\n",
      "318566/318566 [==============================] - 296s 929us/step - loss: 1.3328 - accuracy: 0.8665 - val_loss: 0.0549 - val_accuracy: 1.0000\n",
      "Epoch 5/5\n",
      "318566/318566 [==============================] - 298s 935us/step - loss: 1.3312 - accuracy: 0.8665 - val_loss: 0.0562 - val_accuracy: 1.0000\n"
     ]
    }
   ],
   "source": [
    "results5 = model_5.fit(scaled_data, labels, epochs=5, batch_size=10, validation_split=0.2)"
   ]
  },
  {
   "cell_type": "markdown",
   "metadata": {},
   "source": [
    "## Model 6"
   ]
  },
  {
   "cell_type": "code",
   "execution_count": 100,
   "metadata": {
    "ExecuteTime": {
     "end_time": "2020-10-13T20:36:27.111426Z",
     "start_time": "2020-10-13T20:36:27.002747Z"
    }
   },
   "outputs": [],
   "source": [
    "model_6 = Sequential()\n",
    "\n",
    "model_6.add(Dense(30, activation='relu', input_shape=(64,)))\n",
    "model_6.add(Dropout(0.3))\n",
    "model_6.add(Dense(5, activation='relu'))\n",
    "model_6.add(Dropout(0.3))\n",
    "\n",
    "\n",
    "model_6.add(Dense(1, activation='sigmoid'))\n",
    "model_6.add(Dropout(0.3))"
   ]
  },
  {
   "cell_type": "code",
   "execution_count": 101,
   "metadata": {
    "ExecuteTime": {
     "end_time": "2020-10-13T20:36:27.223104Z",
     "start_time": "2020-10-13T20:36:27.190956Z"
    }
   },
   "outputs": [],
   "source": [
    "model_6.compile(loss='binary_crossentropy', optimizer='adam', metrics=['accuracy'])"
   ]
  },
  {
   "cell_type": "code",
   "execution_count": 102,
   "metadata": {
    "ExecuteTime": {
     "end_time": "2020-10-13T21:02:48.869514Z",
     "start_time": "2020-10-13T21:02:48.867371Z"
    },
    "scrolled": true
   },
   "outputs": [],
   "source": [
    "#results6 = model_6.fit(scaled_data, labels, epochs=5, batch_size=10, validation_split=0.2)"
   ]
  },
  {
   "cell_type": "markdown",
   "metadata": {},
   "source": [
    "## Model 7"
   ]
  },
  {
   "cell_type": "code",
   "execution_count": 103,
   "metadata": {
    "ExecuteTime": {
     "end_time": "2020-10-13T21:03:30.722742Z",
     "start_time": "2020-10-13T21:03:30.644593Z"
    }
   },
   "outputs": [],
   "source": [
    "model_7 = Sequential()\n",
    "\n",
    "model_7.add(Dense(16, activation='relu', input_shape=(64,)))\n",
    "model_7.add(Dropout(0.4))\n",
    "model_7.add(Dense(8, activation='relu'))\n",
    "model_7.add(Dropout(0.4))\n",
    "\n",
    "model_7.add(Dense(1, activation='sigmoid'))\n",
    "\n",
    "model_7.compile(loss='binary_crossentropy', optimizer='adam', metrics=['accuracy'])"
   ]
  },
  {
   "cell_type": "code",
   "execution_count": 104,
   "metadata": {
    "ExecuteTime": {
     "end_time": "2020-10-13T21:41:52.800423Z",
     "start_time": "2020-10-13T21:03:31.572554Z"
    }
   },
   "outputs": [
    {
     "name": "stdout",
     "output_type": "stream",
     "text": [
      "Epoch 1/5\n",
      "318566/318566 [==============================] - 268s 840us/step - loss: 0.0194 - accuracy: 0.9916 - val_loss: 9.5061e-05 - val_accuracy: 1.0000\n",
      "Epoch 2/5\n",
      "318566/318566 [==============================] - 267s 840us/step - loss: 0.0162 - accuracy: 0.9932 - val_loss: 3.9498e-06 - val_accuracy: 1.0000\n",
      "Epoch 3/5\n",
      "318566/318566 [==============================] - 268s 840us/step - loss: 0.0163 - accuracy: 0.9932 - val_loss: 8.2662e-07 - val_accuracy: 1.0000\n",
      "Epoch 4/5\n",
      "318566/318566 [==============================] - 269s 843us/step - loss: 0.0164 - accuracy: 0.9931 - val_loss: 2.4314e-06 - val_accuracy: 1.0000\n",
      "Epoch 5/5\n",
      "318566/318566 [==============================] - 270s 846us/step - loss: 0.0162 - accuracy: 0.9932 - val_loss: 1.9689e-06 - val_accuracy: 1.0000\n"
     ]
    }
   ],
   "source": [
    "results7 = model_7.fit(scaled_data, labels, epochs=5, batch_size=10, validation_split=0.2)"
   ]
  },
  {
   "cell_type": "markdown",
   "metadata": {},
   "source": [
    "## Model 8"
   ]
  },
  {
   "cell_type": "code",
   "execution_count": 18,
   "metadata": {
    "ExecuteTime": {
     "end_time": "2020-10-13T22:14:47.404587Z",
     "start_time": "2020-10-13T22:14:47.306755Z"
    }
   },
   "outputs": [],
   "source": [
    "model_8 = Sequential()\n",
    "\n",
    "model_8.add(Dense(30, activation='relu', input_shape=(64,)))\n",
    "model_8.add(Dropout(0.4))\n",
    "model_8.add(Dense(15, activation='relu'))\n",
    "model_8.add(Dropout(0.4))\n",
    "model_8.add(Dense(1, activation='relu'))\n",
    "model_8.add(Dropout(0.4))\n",
    "\n",
    "model_8.add(Dense(1, activation='sigmoid'))\n",
    "model_8.add(Dropout(0.4))\n",
    "\n",
    "model_8.compile(loss='binary_crossentropy', optimizer='adam', metrics=['accuracy'])"
   ]
  },
  {
   "cell_type": "code",
   "execution_count": 106,
   "metadata": {
    "ExecuteTime": {
     "end_time": "2020-10-13T22:14:48.059377Z",
     "start_time": "2020-10-13T22:14:48.032297Z"
    }
   },
   "outputs": [],
   "source": [
    "model_8.compile(loss='binary_crossentropy', optimizer='adam', metrics=['accuracy'])"
   ]
  },
  {
   "cell_type": "code",
   "execution_count": 107,
   "metadata": {
    "ExecuteTime": {
     "end_time": "2020-10-13T23:05:59.174292Z",
     "start_time": "2020-10-13T22:14:48.543137Z"
    },
    "scrolled": true
   },
   "outputs": [
    {
     "name": "stdout",
     "output_type": "stream",
     "text": [
      "Epoch 1/5\n",
      "318566/318566 [==============================] - 304s 951us/step - loss: 2.5182 - accuracy: 0.7598 - val_loss: 0.0758 - val_accuracy: 1.0000\n",
      "Epoch 2/5\n",
      "318566/318566 [==============================] - 301s 943us/step - loss: 2.5195 - accuracy: 0.7623 - val_loss: 0.0755 - val_accuracy: 1.0000\n",
      "Epoch 3/5\n",
      "318566/318566 [==============================] - 301s 944us/step - loss: 2.5244 - accuracy: 0.7623 - val_loss: 0.0776 - val_accuracy: 1.0000\n",
      "Epoch 4/5\n",
      "318566/318566 [==============================] - 298s 936us/step - loss: 2.5197 - accuracy: 0.7623 - val_loss: 0.0750 - val_accuracy: 1.0000\n",
      "Epoch 5/5\n",
      "318566/318566 [==============================] - 298s 935us/step - loss: 2.5219 - accuracy: 0.7622 - val_loss: 0.0766 - val_accuracy: 1.0000\n"
     ]
    }
   ],
   "source": [
    "results8 = model_8.fit(scaled_data, labels, epochs=5, batch_size=10, validation_split=0.2)"
   ]
  },
  {
   "cell_type": "markdown",
   "metadata": {},
   "source": [
    "## Model 9"
   ]
  },
  {
   "cell_type": "code",
   "execution_count": 15,
   "metadata": {
    "ExecuteTime": {
     "end_time": "2020-10-13T23:42:23.904763Z",
     "start_time": "2020-10-13T23:42:23.785403Z"
    }
   },
   "outputs": [],
   "source": [
    "model_9 = Sequential()\n",
    "\n",
    "model_9.add(Dense(30, activation='relu', input_shape=(64,)))\n",
    "model_9.add(Dropout(0.3))\n",
    "model_9.add(Dense(15, activation='relu'))\n",
    "model_9.add(Dropout(0.3))\n",
    "model_9.add(Dense(1, activation='relu'))\n",
    "model_9.add(Dropout(0.3))\n",
    "\n",
    "model_9.add(Dense(1, activation='sigmoid'))\n",
    "model_9.add(Dropout(0.3))\n",
    "\n",
    "model_9.compile(loss='binary_crossentropy', optimizer='sgd', metrics=['accuracy'])"
   ]
  },
  {
   "cell_type": "code",
   "execution_count": 16,
   "metadata": {
    "ExecuteTime": {
     "end_time": "2020-10-14T00:03:36.581033Z",
     "start_time": "2020-10-13T23:42:26.283222Z"
    },
    "scrolled": true
   },
   "outputs": [
    {
     "name": "stdout",
     "output_type": "stream",
     "text": [
      "Epoch 1/5\n",
      "318566/318566 [==============================] - 324s 1ms/step - loss: 1.9764 - accuracy: 0.7530 - val_loss: 0.2816 - val_accuracy: 0.6288\n",
      "Epoch 2/5\n",
      "318566/318566 [==============================] - 309s 970us/step - loss: 1.9680 - accuracy: 0.7564 - val_loss: 0.2860 - val_accuracy: 0.6288\n",
      "Epoch 3/5\n",
      "318566/318566 [==============================] - 382s 1ms/step - loss: 1.9665 - accuracy: 0.7567 - val_loss: 0.2780 - val_accuracy: 0.6288\n",
      "Epoch 4/5\n",
      "318566/318566 [==============================] - 335s 1ms/step - loss: 1.9656 - accuracy: 0.7566 - val_loss: 0.2812 - val_accuracy: 0.6288\n",
      "Epoch 5/5\n",
      "318566/318566 [==============================] - 323s 1ms/step - loss: 1.9707 - accuracy: 0.7564 - val_loss: 0.2812 - val_accuracy: 0.6288\n"
     ]
    }
   ],
   "source": [
    "results9 = model_9.fit(scaled_data, labels, epochs=5, batch_size=10, validation_split=0.2)"
   ]
  },
  {
   "cell_type": "markdown",
   "metadata": {},
   "source": [
    "## Model 10"
   ]
  },
  {
   "cell_type": "code",
   "execution_count": null,
   "metadata": {
    "ExecuteTime": {
     "end_time": "2020-10-13T23:31:08.054283Z",
     "start_time": "2020-10-13T23:31:08.037560Z"
    }
   },
   "outputs": [],
   "source": [
    "model_10 = Sequential()\n",
    "\n",
    "model_10.add(Dense(20, activation='relu'))\n",
    "model_10.add(Dropout(0.3))\n",
    "model_10.add(Dense(10, activation='relu'))\n",
    "model_10.add(Dropout(0.3))\n",
    "model_10.add(Dense(1, activation='relu'))\n",
    "model_10.add(Dropout(0.3))\n",
    "\n",
    "model_10.add(Dense(1, activation='sigmoid'))\n",
    "model_10.add(Dropout(0.3))\n",
    "\n",
    "model_10.compile(loss='binary_crossentropy', optimizer='adam', metrics=['accuracy'])"
   ]
  },
  {
   "cell_type": "code",
   "execution_count": null,
   "metadata": {
    "ExecuteTime": {
     "end_time": "2020-10-13T23:42:04.072518Z",
     "start_time": "2020-10-13T23:31:08.881076Z"
    },
    "scrolled": true
   },
   "outputs": [],
   "source": [
    "results10 = model_10.fit(scaled_data, labels, epochs=5, batch_size=10, validation_split=0.2)"
   ]
  },
  {
   "cell_type": "markdown",
   "metadata": {},
   "source": [
    "## Model 11"
   ]
  },
  {
   "cell_type": "code",
   "execution_count": null,
   "metadata": {
    "ExecuteTime": {
     "end_time": "2020-10-14T00:29:43.744903Z",
     "start_time": "2020-10-14T00:29:43.575699Z"
    }
   },
   "outputs": [],
   "source": [
    "model_11 = Sequential()\n",
    "\n",
    "model_11.add(Dense(25, activation='relu', input_shape=(64,)))\n",
    "model_11.add(Dropout(0.35))\n",
    "model_11.add(Dense(15, activation='relu'))\n",
    "model_11.add(Dropout(0.35))\n",
    "model_11.add(Dense(1, activation='relu'))\n",
    "model_11.add(Dropout(0.35))\n",
    "\n",
    "model_11.add(Dense(1, activation='sigmoid'))\n",
    "model_11.add(Dropout(0.35))\n",
    "\n",
    "model_11.compile(loss='binary_crossentropy', optimizer='adam', metrics=['accuracy'])"
   ]
  },
  {
   "cell_type": "code",
   "execution_count": null,
   "metadata": {
    "ExecuteTime": {
     "end_time": "2020-10-14T00:40:15.638722Z",
     "start_time": "2020-10-14T00:29:44.617769Z"
    },
    "scrolled": true
   },
   "outputs": [],
   "source": [
    "results11 = model_11.fit(scaled_data, labels, epochs=5, batch_size=32, validation_split=0.2)"
   ]
  },
  {
   "cell_type": "markdown",
   "metadata": {},
   "source": [
    "## Model 12"
   ]
  },
  {
   "cell_type": "code",
   "execution_count": null,
   "metadata": {
    "ExecuteTime": {
     "end_time": "2020-10-14T00:41:07.475035Z",
     "start_time": "2020-10-14T00:41:07.377560Z"
    }
   },
   "outputs": [],
   "source": [
    "model_12 = Sequential()\n",
    "\n",
    "model_12.add(Dense(25, activation='relu', input_shape=(64,)))\n",
    "model_12.add(Dropout(0.3))\n",
    "model_12.add(Dense(5, activation='relu'))\n",
    "model_12.add(Dropout(0.3))\n",
    "model_12.add(Dense(1, activation='relu'))\n",
    "model_12.add(Dropout(0.3))\n",
    "\n",
    "model_12.add(Dense(1, activation='sigmoid'))\n",
    "model_12.add(Dropout(0.3))\n",
    "\n",
    "model_12.compile(loss='binary_crossentropy', optimizer='adam', metrics=['accuracy'])"
   ]
  },
  {
   "cell_type": "code",
   "execution_count": null,
   "metadata": {
    "ExecuteTime": {
     "end_time": "2020-10-14T01:00:49.308825Z",
     "start_time": "2020-10-14T00:41:17.478068Z"
    }
   },
   "outputs": [],
   "source": [
    "results12 = model_12.fit(scaled_data, labels, epochs=5, batch_size=32, validation_split=0.2)"
   ]
  },
  {
   "cell_type": "markdown",
   "metadata": {},
   "source": [
    "+++++++++++++++++++++++++++++++++++++++++++++++++++++++++++++++++++++++++++++++++"
   ]
  },
  {
   "cell_type": "code",
   "execution_count": null,
   "metadata": {},
   "outputs": [],
   "source": []
  },
  {
   "cell_type": "code",
   "execution_count": null,
   "metadata": {
    "ExecuteTime": {
     "end_time": "2020-10-14T01:01:41.010048Z",
     "start_time": "2020-10-14T01:01:40.965046Z"
    }
   },
   "outputs": [],
   "source": [
    "df.head(3)"
   ]
  },
  {
   "cell_type": "code",
   "execution_count": null,
   "metadata": {
    "ExecuteTime": {
     "end_time": "2020-10-14T01:02:30.256968Z",
     "start_time": "2020-10-14T01:02:30.250773Z"
    }
   },
   "outputs": [],
   "source": [
    "from sklearn import preprocessing"
   ]
  },
  {
   "cell_type": "code",
   "execution_count": null,
   "metadata": {
    "ExecuteTime": {
     "end_time": "2020-10-14T01:03:45.028169Z",
     "start_time": "2020-10-14T01:03:45.025652Z"
    }
   },
   "outputs": [],
   "source": [
    "col_names = list(df.columns)"
   ]
  },
  {
   "cell_type": "code",
   "execution_count": null,
   "metadata": {
    "ExecuteTime": {
     "end_time": "2020-10-14T09:44:55.636030Z",
     "start_time": "2020-10-14T09:44:53.338838Z"
    }
   },
   "outputs": [],
   "source": [
    "mm_scaler = preprocessing.MinMaxScaler()\n",
    "df_mm = mm_scaler.fit_transform(df)\n",
    "\n",
    "df_mm = pd.DataFrame(df_mm, columns=col_names)"
   ]
  },
  {
   "cell_type": "code",
   "execution_count": null,
   "metadata": {
    "ExecuteTime": {
     "end_time": "2020-10-14T09:44:57.412529Z",
     "start_time": "2020-10-14T09:44:55.753032Z"
    }
   },
   "outputs": [],
   "source": [
    "y = df_mm['FLIGHT_STATUS']\n",
    "X = df_mm.drop(['FLIGHT_STATUS', 'DEP_DELAY'], axis = 1)"
   ]
  },
  {
   "cell_type": "code",
   "execution_count": null,
   "metadata": {
    "ExecuteTime": {
     "end_time": "2020-10-14T09:44:57.581810Z",
     "start_time": "2020-10-14T09:44:57.540553Z"
    },
    "scrolled": true
   },
   "outputs": [],
   "source": [
    "df_mm.head(2)"
   ]
  },
  {
   "cell_type": "code",
   "execution_count": null,
   "metadata": {
    "ExecuteTime": {
     "end_time": "2020-10-14T01:05:15.998105Z",
     "start_time": "2020-10-14T01:05:10.758986Z"
    }
   },
   "outputs": [],
   "source": [
    "#scaler = StandardScaler()\n",
    "#scaled_data = scaler.fit_transform(df_mm)"
   ]
  },
  {
   "cell_type": "code",
   "execution_count": null,
   "metadata": {
    "ExecuteTime": {
     "end_time": "2020-10-14T09:45:01.110604Z",
     "start_time": "2020-10-14T09:45:00.153955Z"
    }
   },
   "outputs": [],
   "source": [
    "binarizer = LabelBinarizer()\n",
    "labels = binarizer.fit_transform(y)"
   ]
  },
  {
   "cell_type": "markdown",
   "metadata": {},
   "source": [
    "## Model 13"
   ]
  },
  {
   "cell_type": "code",
   "execution_count": null,
   "metadata": {
    "ExecuteTime": {
     "end_time": "2020-10-14T09:45:05.804634Z",
     "start_time": "2020-10-14T09:45:05.461672Z"
    }
   },
   "outputs": [],
   "source": [
    "model_13 = Sequential()\n",
    "\n",
    "model_13.add(Dense(30, activation='relu', input_shape=(64,)))\n",
    "model_13.add(Dropout(0.3))\n",
    "model_13.add(Dense(15, activation='relu'))\n",
    "model_13.add(Dropout(0.3))\n",
    "model_13.add(Dense(1, activation='relu'))\n",
    "model_13.add(Dropout(0.3))\n",
    "\n",
    "model_13.add(Dense(1, activation='sigmoid'))\n",
    "model_13.add(Dropout(0.3))\n",
    "\n",
    "model_13.compile(loss='binary_crossentropy', optimizer='adam', metrics=['accuracy'])"
   ]
  },
  {
   "cell_type": "code",
   "execution_count": null,
   "metadata": {
    "ExecuteTime": {
     "end_time": "2020-10-14T09:58:35.780192Z",
     "start_time": "2020-10-14T09:45:16.704768Z"
    },
    "scrolled": true
   },
   "outputs": [],
   "source": [
    "results13 = model_13.fit(df_mm, labels, epochs=5, batch_size=32, validation_split=0.2)"
   ]
  },
  {
   "cell_type": "markdown",
   "metadata": {},
   "source": [
    "## Model 14"
   ]
  },
  {
   "cell_type": "code",
   "execution_count": null,
   "metadata": {
    "ExecuteTime": {
     "end_time": "2020-10-14T10:00:10.395751Z",
     "start_time": "2020-10-14T10:00:10.288756Z"
    }
   },
   "outputs": [],
   "source": [
    "model_14 = Sequential()\n",
    "\n",
    "model_14.add(Dense(60, activation='relu', input_shape=(64,)))\n",
    "model_14.add(Dropout(0.4))\n",
    "model_14.add(Dense(30, activation='relu'))\n",
    "model_14.add(Dropout(0.4))\n",
    "model_14.add(Dense(15, activation='relu'))\n",
    "model_14.add(Dropout(0.4))\n",
    "\n",
    "model_14.add(Dense(1, activation='sigmoid'))\n",
    "model_14.add(Dropout(0.4))\n",
    "\n",
    "model_14.compile(loss='binary_crossentropy', optimizer='adam', metrics=['accuracy'])"
   ]
  },
  {
   "cell_type": "code",
   "execution_count": null,
   "metadata": {
    "ExecuteTime": {
     "end_time": "2020-10-14T10:06:06.040096Z",
     "start_time": "2020-10-14T10:00:11.999517Z"
    },
    "scrolled": true
   },
   "outputs": [],
   "source": [
    "results14 = model_14.fit(df_mm, labels, epochs=2, batch_size=32, validation_split=0.1)"
   ]
  },
  {
   "cell_type": "markdown",
   "metadata": {},
   "source": [
    "## Model 15"
   ]
  },
  {
   "cell_type": "code",
   "execution_count": null,
   "metadata": {
    "ExecuteTime": {
     "end_time": "2020-10-14T10:07:02.922801Z",
     "start_time": "2020-10-14T10:07:02.817403Z"
    }
   },
   "outputs": [],
   "source": [
    "model_15 = Sequential()\n",
    "\n",
    "model_15.add(Dense(128, activation='relu', input_shape=(64,)))\n",
    "model_15.add(Dropout(0.4))\n",
    "model_15.add(Dense(64, activation='relu'))\n",
    "model_15.add(Dropout(0.4))\n",
    "model_15.add(Dense(16, activation='relu'))\n",
    "model_15.add(Dropout(0.4))\n",
    "\n",
    "model_15.add(Dense(1, activation='sigmoid'))\n",
    "model_15.add(Dropout(0.4))\n",
    "\n",
    "model_15.compile(loss='binary_crossentropy', optimizer='adam', metrics=['accuracy'])"
   ]
  },
  {
   "cell_type": "code",
   "execution_count": null,
   "metadata": {
    "ExecuteTime": {
     "end_time": "2020-10-14T10:13:32.334243Z",
     "start_time": "2020-10-14T10:07:16.320543Z"
    }
   },
   "outputs": [],
   "source": [
    "results15 = model_15.fit(df_mm, labels, epochs=2, batch_size=32, validation_split=0.1)"
   ]
  },
  {
   "cell_type": "code",
   "execution_count": null,
   "metadata": {},
   "outputs": [],
   "source": []
  },
  {
   "cell_type": "markdown",
   "metadata": {},
   "source": [
    "StandardScaler"
   ]
  },
  {
   "cell_type": "code",
   "execution_count": null,
   "metadata": {
    "ExecuteTime": {
     "end_time": "2020-10-14T10:21:18.426639Z",
     "start_time": "2020-10-14T10:21:18.424124Z"
    }
   },
   "outputs": [],
   "source": [
    "from sklearn import preprocessing"
   ]
  },
  {
   "cell_type": "code",
   "execution_count": null,
   "metadata": {
    "ExecuteTime": {
     "end_time": "2020-10-14T10:21:20.717555Z",
     "start_time": "2020-10-14T10:21:20.714907Z"
    }
   },
   "outputs": [],
   "source": [
    "col_names = list(df.columns)"
   ]
  },
  {
   "cell_type": "code",
   "execution_count": null,
   "metadata": {
    "ExecuteTime": {
     "end_time": "2020-10-14T10:21:51.518549Z",
     "start_time": "2020-10-14T10:21:46.612599Z"
    }
   },
   "outputs": [],
   "source": [
    "s_scaler = preprocessing.StandardScaler()\n",
    "df_s = s_scaler.fit_transform(df)\n",
    "\n",
    "df_s = pd.DataFrame(df_s, columns=col_names)"
   ]
  },
  {
   "cell_type": "code",
   "execution_count": null,
   "metadata": {
    "ExecuteTime": {
     "end_time": "2020-10-14T10:21:51.676263Z",
     "start_time": "2020-10-14T10:21:51.638370Z"
    }
   },
   "outputs": [],
   "source": [
    "df_s.head(2)"
   ]
  },
  {
   "cell_type": "code",
   "execution_count": null,
   "metadata": {
    "ExecuteTime": {
     "end_time": "2020-10-14T10:22:18.343167Z",
     "start_time": "2020-10-14T10:22:17.096069Z"
    }
   },
   "outputs": [],
   "source": [
    "y = df_s['FLIGHT_STATUS']\n",
    "X = df_s.drop(['FLIGHT_STATUS', 'DEP_DELAY'], axis = 1)"
   ]
  },
  {
   "cell_type": "code",
   "execution_count": null,
   "metadata": {
    "ExecuteTime": {
     "end_time": "2020-10-14T12:01:06.077839Z",
     "start_time": "2020-10-14T12:01:06.075722Z"
    }
   },
   "outputs": [],
   "source": [
    "#binarizer = LabelBinarizer()\n",
    "#labels = binarizer.fit_transform(y)"
   ]
  },
  {
   "cell_type": "code",
   "execution_count": null,
   "metadata": {},
   "outputs": [],
   "source": []
  },
  {
   "cell_type": "markdown",
   "metadata": {},
   "source": [
    "## Model 16"
   ]
  },
  {
   "cell_type": "code",
   "execution_count": null,
   "metadata": {
    "ExecuteTime": {
     "end_time": "2020-10-14T10:57:31.206423Z",
     "start_time": "2020-10-14T10:57:31.115241Z"
    }
   },
   "outputs": [],
   "source": [
    "model_16 = Sequential()\n",
    "model_16.add(Dense(20, activation='relu', input_shape=(64,)))\n",
    "model_16.add(Dropout(0.3))\n",
    "model_16.add(Dense(5, activation='relu'))\n",
    "model_16.add(Dropout(0.3))\n",
    "model_16.add(Dense(1, activation='sigmoid'))\n",
    "model_16.add(Dropout(0.3))\n",
    "\n",
    "model_16.compile(loss='binary_crossentropy', optimizer='adam', metrics=['accuracy'])"
   ]
  },
  {
   "cell_type": "code",
   "execution_count": null,
   "metadata": {
    "ExecuteTime": {
     "end_time": "2020-10-14T11:02:15.146479Z",
     "start_time": "2020-10-14T10:57:32.747223Z"
    },
    "scrolled": false
   },
   "outputs": [],
   "source": [
    "results16 = model_16.fit(df_s, labels, epochs=2, batch_size=32, validation_split=0.3)"
   ]
  },
  {
   "cell_type": "code",
   "execution_count": null,
   "metadata": {},
   "outputs": [],
   "source": []
  },
  {
   "cell_type": "markdown",
   "metadata": {},
   "source": [
    "## Model 17"
   ]
  },
  {
   "cell_type": "code",
   "execution_count": null,
   "metadata": {
    "ExecuteTime": {
     "end_time": "2020-10-14T11:40:05.787703Z",
     "start_time": "2020-10-14T11:40:05.682197Z"
    }
   },
   "outputs": [],
   "source": [
    "model_17 = Sequential()\n",
    "model_17.add(Dense(30, activation='relu', input_shape=(64,)))\n",
    "model_17.add(Dropout(0.3))\n",
    "model_17.add(Dense(10, activation='relu'))\n",
    "model_17.add(Dropout(0.3))\n",
    "model_17.add(Dense(1, activation='relu'))\n",
    "model_17.add(Dropout(0.3))\n",
    "model_17.add(Dense(1, activation='sigmoid'))\n",
    "model_17.add(Dropout(0.3))\n",
    "\n",
    "model_17.compile(loss='binary_crossentropy', optimizer='adam', metrics=['accuracy'])"
   ]
  },
  {
   "cell_type": "code",
   "execution_count": null,
   "metadata": {
    "ExecuteTime": {
     "end_time": "2020-10-14T11:46:44.401383Z",
     "start_time": "2020-10-14T11:40:08.094086Z"
    }
   },
   "outputs": [],
   "source": [
    "results17 = model_17.fit(df_s, labels, epochs=2, batch_size=32, validation_split=0.1)"
   ]
  },
  {
   "cell_type": "markdown",
   "metadata": {},
   "source": [
    "================================================================================"
   ]
  },
  {
   "cell_type": "markdown",
   "metadata": {},
   "source": [
    "<b>Normalized Dataset</b>"
   ]
  },
  {
   "cell_type": "code",
   "execution_count": null,
   "metadata": {
    "ExecuteTime": {
     "end_time": "2020-10-14T11:58:56.330232Z",
     "start_time": "2020-10-14T11:58:53.044826Z"
    }
   },
   "outputs": [],
   "source": [
    "n_scaler = preprocessing.Normalizer()\n",
    "df_n = n_scaler.fit_transform(df)\n",
    "\n",
    "df_n = pd.DataFrame(df_n, columns=col_names)"
   ]
  },
  {
   "cell_type": "code",
   "execution_count": null,
   "metadata": {},
   "outputs": [],
   "source": []
  },
  {
   "cell_type": "code",
   "execution_count": null,
   "metadata": {
    "ExecuteTime": {
     "end_time": "2020-10-14T11:59:20.210909Z",
     "start_time": "2020-10-14T11:59:20.164179Z"
    }
   },
   "outputs": [],
   "source": [
    "df_n.head(2)"
   ]
  },
  {
   "cell_type": "code",
   "execution_count": null,
   "metadata": {
    "ExecuteTime": {
     "end_time": "2020-10-14T11:59:30.752873Z",
     "start_time": "2020-10-14T11:59:28.955553Z"
    }
   },
   "outputs": [],
   "source": [
    "y = df_n['FLIGHT_STATUS']\n",
    "X = df_n.drop(['FLIGHT_STATUS', 'DEP_DELAY'], axis = 1)"
   ]
  },
  {
   "cell_type": "code",
   "execution_count": null,
   "metadata": {
    "ExecuteTime": {
     "end_time": "2020-10-14T12:01:25.114501Z",
     "start_time": "2020-10-14T12:01:25.112443Z"
    }
   },
   "outputs": [],
   "source": [
    "#binarizer = LabelBinarizer()\n",
    "#labels = binarizer.fit_transform(y)"
   ]
  },
  {
   "cell_type": "code",
   "execution_count": null,
   "metadata": {},
   "outputs": [],
   "source": []
  },
  {
   "cell_type": "markdown",
   "metadata": {},
   "source": [
    "## Model 18"
   ]
  },
  {
   "cell_type": "code",
   "execution_count": null,
   "metadata": {
    "ExecuteTime": {
     "end_time": "2020-10-14T12:01:51.449074Z",
     "start_time": "2020-10-14T12:01:51.331442Z"
    }
   },
   "outputs": [],
   "source": [
    "model_18 = Sequential()\n",
    "\n",
    "model_18.add(Dense(30, activation='relu', input_shape=(64,)))\n",
    "model_18.add(Dropout(0.3))\n",
    "model_18.add(Dense(15, activation='relu'))\n",
    "model_18.add(Dropout(0.3))\n",
    "model_18.add(Dense(1, activation='relu'))\n",
    "model_18.add(Dropout(0.3))\n",
    "\n",
    "model_18.add(Dense(1, activation='sigmoid'))\n",
    "model_18.add(Dropout(0.3))\n",
    "\n",
    "model_18.compile(loss='binary_crossentropy', optimizer='adam', metrics=['accuracy'])"
   ]
  },
  {
   "cell_type": "code",
   "execution_count": null,
   "metadata": {
    "ExecuteTime": {
     "end_time": "2020-10-14T12:17:20.059264Z",
     "start_time": "2020-10-14T12:02:01.846983Z"
    }
   },
   "outputs": [],
   "source": [
    "results18 = model_18.fit(df_n, labels, epochs=5, batch_size=32, validation_split=0.1)"
   ]
  },
  {
   "cell_type": "markdown",
   "metadata": {},
   "source": [
    "## Model 19"
   ]
  },
  {
   "cell_type": "code",
   "execution_count": null,
   "metadata": {
    "ExecuteTime": {
     "end_time": "2020-10-14T12:23:43.707156Z",
     "start_time": "2020-10-14T12:23:43.604539Z"
    }
   },
   "outputs": [],
   "source": [
    "model_19 = Sequential()\n",
    "\n",
    "model_19.add(Dense(30, activation='relu', input_shape=(64,)))\n",
    "model_19.add(Dropout(0.3))\n",
    "model_19.add(Dense(10, activation='relu'))\n",
    "model_19.add(Dropout(0.3))\n",
    "model_19.add(Dense(1, activation='relu'))\n",
    "model_19.add(Dropout(0.3))\n",
    "\n",
    "model_19.add(Dense(1, activation='sigmoid'))\n",
    "model_19.add(Dropout(0.3))\n",
    "\n",
    "model_19.compile(loss='binary_crossentropy', optimizer='adam', metrics=['accuracy'])"
   ]
  },
  {
   "cell_type": "code",
   "execution_count": null,
   "metadata": {
    "ExecuteTime": {
     "end_time": "2020-10-14T12:40:00.714376Z",
     "start_time": "2020-10-14T12:24:09.493571Z"
    },
    "scrolled": true
   },
   "outputs": [],
   "source": [
    "results19 = model_19.fit(df_n, labels, epochs=5, batch_size=32, validation_split=0.1)"
   ]
  },
  {
   "cell_type": "markdown",
   "metadata": {},
   "source": [
    "## Model 20"
   ]
  },
  {
   "cell_type": "code",
   "execution_count": null,
   "metadata": {
    "ExecuteTime": {
     "end_time": "2020-10-14T12:47:31.420799Z",
     "start_time": "2020-10-14T12:47:31.308517Z"
    }
   },
   "outputs": [],
   "source": [
    "model_20 = Sequential()\n",
    "\n",
    "model_20.add(Dense(30, activation='relu', input_shape=(64,)))\n",
    "model_20.add(Dropout(0.4))\n",
    "model_20.add(Dense(15, activation='relu'))\n",
    "model_20.add(Dropout(0.4))\n",
    "model_20.add(Dense(5, activation='relu'))\n",
    "model_20.add(Dropout(0.4))\n",
    "\n",
    "model_20.add(Dense(1, activation='sigmoid'))\n",
    "model_20.add(Dropout(0.3))\n",
    "\n",
    "model_20.compile(loss='binary_crossentropy', optimizer='adam', metrics=['accuracy'])"
   ]
  },
  {
   "cell_type": "code",
   "execution_count": null,
   "metadata": {
    "ExecuteTime": {
     "end_time": "2020-10-14T13:04:46.212728Z",
     "start_time": "2020-10-14T12:47:31.702590Z"
    },
    "scrolled": true
   },
   "outputs": [],
   "source": [
    "results20 = model_20.fit(df_n, labels, epochs=5, batch_size=32, validation_split=0.1)"
   ]
  },
  {
   "cell_type": "markdown",
   "metadata": {},
   "source": [
    "## Model 21"
   ]
  },
  {
   "cell_type": "code",
   "execution_count": null,
   "metadata": {
    "ExecuteTime": {
     "end_time": "2020-10-14T13:04:53.301962Z",
     "start_time": "2020-10-14T13:04:53.192532Z"
    }
   },
   "outputs": [],
   "source": [
    "model_21 = Sequential()\n",
    "\n",
    "model_21.add(Dense(24, activation='relu', input_shape=(64,)))\n",
    "model_21.add(Dropout(0.3))\n",
    "model_21.add(Dense(8, activation='relu'))\n",
    "model_21.add(Dropout(0.3))\n",
    "model_21.add(Dense(2, activation='relu'))\n",
    "model_21.add(Dropout(0.3))\n",
    "\n",
    "model_21.add(Dense(1, activation='sigmoid'))\n",
    "model_21.add(Dropout(0.3))\n",
    "\n",
    "model_21.compile(loss='binary_crossentropy', optimizer='adam', metrics=['accuracy'])"
   ]
  },
  {
   "cell_type": "code",
   "execution_count": null,
   "metadata": {
    "ExecuteTime": {
     "end_time": "2020-10-14T13:25:37.385118Z",
     "start_time": "2020-10-14T13:04:55.037059Z"
    }
   },
   "outputs": [],
   "source": [
    "results21 = model_21.fit(df_n, labels, epochs=5, batch_size=32, validation_split=0.1)"
   ]
  }
 ],
 "metadata": {
  "kernelspec": {
   "display_name": "Python 3 (ipykernel)",
   "language": "python",
   "name": "python3"
  },
  "language_info": {
   "codemirror_mode": {
    "name": "ipython",
    "version": 3
   },
   "file_extension": ".py",
   "mimetype": "text/x-python",
   "name": "python",
   "nbconvert_exporter": "python",
   "pygments_lexer": "ipython3",
   "version": "3.9.13"
  },
  "toc": {
   "base_numbering": 1,
   "nav_menu": {},
   "number_sections": true,
   "sideBar": true,
   "skip_h1_title": false,
   "title_cell": "Table of Contents",
   "title_sidebar": "Contents",
   "toc_cell": false,
   "toc_position": {},
   "toc_section_display": true,
   "toc_window_display": true
  },
  "varInspector": {
   "cols": {
    "lenName": 16,
    "lenType": 16,
    "lenVar": 40
   },
   "kernels_config": {
    "python": {
     "delete_cmd_postfix": "",
     "delete_cmd_prefix": "del ",
     "library": "var_list.py",
     "varRefreshCmd": "print(var_dic_list())"
    },
    "r": {
     "delete_cmd_postfix": ") ",
     "delete_cmd_prefix": "rm(",
     "library": "var_list.r",
     "varRefreshCmd": "cat(var_dic_list()) "
    }
   },
   "types_to_exclude": [
    "module",
    "function",
    "builtin_function_or_method",
    "instance",
    "_Feature"
   ],
   "window_display": false
  }
 },
 "nbformat": 4,
 "nbformat_minor": 4
}
