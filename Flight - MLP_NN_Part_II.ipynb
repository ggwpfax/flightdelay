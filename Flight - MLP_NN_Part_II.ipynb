{
 "cells": [
  {
   "cell_type": "markdown",
   "metadata": {
    "ExecuteTime": {
     "end_time": "2020-10-15T16:00:00.253988Z",
     "start_time": "2020-10-15T16:00:00.250223Z"
    }
   },
   "source": [
    "<font size=\"6\"><b>MLP Neural Networks - Part II</b></font>"
   ]
  },
  {
   "cell_type": "markdown",
   "metadata": {},
   "source": [
    "# Libraries"
   ]
  },
  {
   "cell_type": "code",
   "execution_count": 1,
   "metadata": {
    "ExecuteTime": {
     "end_time": "2020-10-15T12:11:06.734486Z",
     "start_time": "2020-10-15T12:11:06.720791Z"
    }
   },
   "outputs": [],
   "source": [
    "import pandas as pd\n",
    "import numpy as np\n",
    "np.random.seed(0)\n",
    "import matplotlib.pyplot as plt\n",
    "%matplotlib inline\n",
    "import seaborn as sns\n",
    "import xgboost as xgb\n",
    "sns.set_style('darkgrid')\n",
    "pd.set_option('display.max_columns', None)\n",
    "\n",
    "import datetime, warnings, scipy\n",
    "warnings.filterwarnings(\"ignore\")\n",
    "\n",
    "import keras\n",
    "from keras.models import Sequential\n",
    "from keras.layers import Dense\n",
    "from sklearn.preprocessing import StandardScaler, LabelBinarizer\n",
    "from sklearn.model_selection import train_test_split\n",
    "from keras.layers import Dense, Dropout , BatchNormalization\n",
    "from sklearn import preprocessing\n",
    "import sklearn.metrics as metrics\n",
    "from sklearn.metrics import classification_report, confusion_matrix\n",
    "from sklearn.metrics import precision_score, recall_score, f1_score\n",
    "import tensorflow as tf\n",
    "from tensorflow import keras"
   ]
  },
  {
   "cell_type": "markdown",
   "metadata": {},
   "source": [
    "# Data Loading"
   ]
  },
  {
   "cell_type": "code",
   "execution_count": 2,
   "metadata": {
    "ExecuteTime": {
     "end_time": "2020-10-14T21:52:18.727333Z",
     "start_time": "2020-10-14T21:51:59.813476Z"
    }
   },
   "outputs": [
    {
     "data": {
      "text/html": [
       "<div>\n",
       "<style scoped>\n",
       "    .dataframe tbody tr th:only-of-type {\n",
       "        vertical-align: middle;\n",
       "    }\n",
       "\n",
       "    .dataframe tbody tr th {\n",
       "        vertical-align: top;\n",
       "    }\n",
       "\n",
       "    .dataframe thead th {\n",
       "        text-align: right;\n",
       "    }\n",
       "</style>\n",
       "<table border=\"1\" class=\"dataframe\">\n",
       "  <thead>\n",
       "    <tr style=\"text-align: right;\">\n",
       "      <th></th>\n",
       "      <th>DEP_DELAY</th>\n",
       "      <th>TAXI_OUT</th>\n",
       "      <th>WHEELS_OFF</th>\n",
       "      <th>WHEELS_ON</th>\n",
       "      <th>TAXI_IN</th>\n",
       "      <th>ARR_DELAY</th>\n",
       "      <th>CRS_ELAPSED_TIME</th>\n",
       "      <th>AIR_TIME</th>\n",
       "      <th>DISTANCE</th>\n",
       "      <th>DAY</th>\n",
       "      <th>FLIGHT_STATUS</th>\n",
       "      <th>OP_CARRIER_Allegiant Air</th>\n",
       "      <th>OP_CARRIER_American Airlines</th>\n",
       "      <th>OP_CARRIER_Delta Airlines</th>\n",
       "      <th>OP_CARRIER_Endeavor Air</th>\n",
       "      <th>OP_CARRIER_Envoy Air</th>\n",
       "      <th>OP_CARRIER_ExpressJet</th>\n",
       "      <th>OP_CARRIER_Frontier Airlines</th>\n",
       "      <th>OP_CARRIER_Hawaiian Airlines</th>\n",
       "      <th>OP_CARRIER_JetBlue Airways</th>\n",
       "      <th>OP_CARRIER_Mesa Airline</th>\n",
       "      <th>OP_CARRIER_PSA Airlines</th>\n",
       "      <th>OP_CARRIER_Republic Airways</th>\n",
       "      <th>OP_CARRIER_SkyWest Airlines</th>\n",
       "      <th>OP_CARRIER_Southwest Airlines</th>\n",
       "      <th>OP_CARRIER_Spirit Airlines</th>\n",
       "      <th>OP_CARRIER_United Airlines</th>\n",
       "      <th>OP_CARRIER_Virgin America</th>\n",
       "      <th>DEST_Atlanta</th>\n",
       "      <th>DEST_Boston</th>\n",
       "      <th>DEST_Charlotte</th>\n",
       "      <th>DEST_Chicago</th>\n",
       "      <th>DEST_Dallas-Fort Worth</th>\n",
       "      <th>DEST_Denver</th>\n",
       "      <th>DEST_Detroit</th>\n",
       "      <th>DEST_Houston</th>\n",
       "      <th>DEST_Las Vegas</th>\n",
       "      <th>DEST_Los Angeles</th>\n",
       "      <th>DEST_Minneapolis</th>\n",
       "      <th>DEST_New York</th>\n",
       "      <th>DEST_Newark</th>\n",
       "      <th>DEST_Orlando</th>\n",
       "      <th>DEST_Philadelphia</th>\n",
       "      <th>DEST_Phoenix</th>\n",
       "      <th>DEST_Salt Lake City</th>\n",
       "      <th>DEST_San Francisco</th>\n",
       "      <th>DEST_Seattle</th>\n",
       "      <th>CRS_DEP_TIME_2</th>\n",
       "      <th>CRS_DEP_TIME_3</th>\n",
       "      <th>CRS_DEP_TIME_4</th>\n",
       "      <th>CRS_ARR_TIME_2</th>\n",
       "      <th>CRS_ARR_TIME_3</th>\n",
       "      <th>CRS_ARR_TIME_4</th>\n",
       "      <th>MONTH_2</th>\n",
       "      <th>MONTH_3</th>\n",
       "      <th>MONTH_4</th>\n",
       "      <th>MONTH_5</th>\n",
       "      <th>MONTH_6</th>\n",
       "      <th>MONTH_7</th>\n",
       "      <th>MONTH_8</th>\n",
       "      <th>MONTH_9</th>\n",
       "      <th>MONTH_10</th>\n",
       "      <th>MONTH_11</th>\n",
       "      <th>MONTH_12</th>\n",
       "      <th>WEEKDAY_1</th>\n",
       "      <th>WEEKDAY_2</th>\n",
       "      <th>WEEKDAY_3</th>\n",
       "      <th>WEEKDAY_4</th>\n",
       "      <th>WEEKDAY_5</th>\n",
       "      <th>WEEKDAY_6</th>\n",
       "    </tr>\n",
       "  </thead>\n",
       "  <tbody>\n",
       "    <tr>\n",
       "      <th>0</th>\n",
       "      <td>-5.0</td>\n",
       "      <td>15.0</td>\n",
       "      <td>3</td>\n",
       "      <td>3</td>\n",
       "      <td>10.0</td>\n",
       "      <td>-23.0</td>\n",
       "      <td>268.0</td>\n",
       "      <td>225.0</td>\n",
       "      <td>1605.0</td>\n",
       "      <td>1</td>\n",
       "      <td>0</td>\n",
       "      <td>0</td>\n",
       "      <td>0</td>\n",
       "      <td>0</td>\n",
       "      <td>0</td>\n",
       "      <td>0</td>\n",
       "      <td>0</td>\n",
       "      <td>0</td>\n",
       "      <td>0</td>\n",
       "      <td>0</td>\n",
       "      <td>0</td>\n",
       "      <td>0</td>\n",
       "      <td>0</td>\n",
       "      <td>0</td>\n",
       "      <td>0</td>\n",
       "      <td>0</td>\n",
       "      <td>1</td>\n",
       "      <td>0</td>\n",
       "      <td>0</td>\n",
       "      <td>0</td>\n",
       "      <td>0</td>\n",
       "      <td>0</td>\n",
       "      <td>0</td>\n",
       "      <td>1</td>\n",
       "      <td>0</td>\n",
       "      <td>0</td>\n",
       "      <td>0</td>\n",
       "      <td>0</td>\n",
       "      <td>0</td>\n",
       "      <td>0</td>\n",
       "      <td>0</td>\n",
       "      <td>0</td>\n",
       "      <td>0</td>\n",
       "      <td>0</td>\n",
       "      <td>0</td>\n",
       "      <td>0</td>\n",
       "      <td>0</td>\n",
       "      <td>0</td>\n",
       "      <td>1</td>\n",
       "      <td>0</td>\n",
       "      <td>0</td>\n",
       "      <td>1</td>\n",
       "      <td>0</td>\n",
       "      <td>0</td>\n",
       "      <td>0</td>\n",
       "      <td>0</td>\n",
       "      <td>0</td>\n",
       "      <td>0</td>\n",
       "      <td>0</td>\n",
       "      <td>0</td>\n",
       "      <td>0</td>\n",
       "      <td>0</td>\n",
       "      <td>0</td>\n",
       "      <td>0</td>\n",
       "      <td>0</td>\n",
       "      <td>0</td>\n",
       "      <td>0</td>\n",
       "      <td>0</td>\n",
       "      <td>0</td>\n",
       "      <td>0</td>\n",
       "    </tr>\n",
       "    <tr>\n",
       "      <th>1</th>\n",
       "      <td>-8.0</td>\n",
       "      <td>11.0</td>\n",
       "      <td>2</td>\n",
       "      <td>3</td>\n",
       "      <td>7.0</td>\n",
       "      <td>-24.0</td>\n",
       "      <td>99.0</td>\n",
       "      <td>65.0</td>\n",
       "      <td>414.0</td>\n",
       "      <td>1</td>\n",
       "      <td>0</td>\n",
       "      <td>0</td>\n",
       "      <td>0</td>\n",
       "      <td>0</td>\n",
       "      <td>0</td>\n",
       "      <td>0</td>\n",
       "      <td>0</td>\n",
       "      <td>0</td>\n",
       "      <td>0</td>\n",
       "      <td>0</td>\n",
       "      <td>0</td>\n",
       "      <td>0</td>\n",
       "      <td>0</td>\n",
       "      <td>0</td>\n",
       "      <td>0</td>\n",
       "      <td>0</td>\n",
       "      <td>1</td>\n",
       "      <td>0</td>\n",
       "      <td>0</td>\n",
       "      <td>0</td>\n",
       "      <td>0</td>\n",
       "      <td>0</td>\n",
       "      <td>0</td>\n",
       "      <td>0</td>\n",
       "      <td>0</td>\n",
       "      <td>0</td>\n",
       "      <td>0</td>\n",
       "      <td>0</td>\n",
       "      <td>0</td>\n",
       "      <td>0</td>\n",
       "      <td>0</td>\n",
       "      <td>0</td>\n",
       "      <td>0</td>\n",
       "      <td>0</td>\n",
       "      <td>0</td>\n",
       "      <td>1</td>\n",
       "      <td>0</td>\n",
       "      <td>1</td>\n",
       "      <td>0</td>\n",
       "      <td>0</td>\n",
       "      <td>0</td>\n",
       "      <td>1</td>\n",
       "      <td>0</td>\n",
       "      <td>0</td>\n",
       "      <td>0</td>\n",
       "      <td>0</td>\n",
       "      <td>0</td>\n",
       "      <td>0</td>\n",
       "      <td>0</td>\n",
       "      <td>0</td>\n",
       "      <td>0</td>\n",
       "      <td>0</td>\n",
       "      <td>0</td>\n",
       "      <td>0</td>\n",
       "      <td>0</td>\n",
       "      <td>0</td>\n",
       "      <td>0</td>\n",
       "      <td>0</td>\n",
       "      <td>0</td>\n",
       "      <td>0</td>\n",
       "    </tr>\n",
       "    <tr>\n",
       "      <th>2</th>\n",
       "      <td>-5.0</td>\n",
       "      <td>15.0</td>\n",
       "      <td>3</td>\n",
       "      <td>3</td>\n",
       "      <td>5.0</td>\n",
       "      <td>-13.0</td>\n",
       "      <td>134.0</td>\n",
       "      <td>106.0</td>\n",
       "      <td>846.0</td>\n",
       "      <td>1</td>\n",
       "      <td>0</td>\n",
       "      <td>0</td>\n",
       "      <td>0</td>\n",
       "      <td>0</td>\n",
       "      <td>0</td>\n",
       "      <td>0</td>\n",
       "      <td>0</td>\n",
       "      <td>0</td>\n",
       "      <td>0</td>\n",
       "      <td>0</td>\n",
       "      <td>0</td>\n",
       "      <td>0</td>\n",
       "      <td>0</td>\n",
       "      <td>0</td>\n",
       "      <td>0</td>\n",
       "      <td>0</td>\n",
       "      <td>1</td>\n",
       "      <td>0</td>\n",
       "      <td>0</td>\n",
       "      <td>0</td>\n",
       "      <td>0</td>\n",
       "      <td>0</td>\n",
       "      <td>0</td>\n",
       "      <td>1</td>\n",
       "      <td>0</td>\n",
       "      <td>0</td>\n",
       "      <td>0</td>\n",
       "      <td>0</td>\n",
       "      <td>0</td>\n",
       "      <td>0</td>\n",
       "      <td>0</td>\n",
       "      <td>0</td>\n",
       "      <td>0</td>\n",
       "      <td>0</td>\n",
       "      <td>0</td>\n",
       "      <td>0</td>\n",
       "      <td>0</td>\n",
       "      <td>0</td>\n",
       "      <td>1</td>\n",
       "      <td>0</td>\n",
       "      <td>0</td>\n",
       "      <td>1</td>\n",
       "      <td>0</td>\n",
       "      <td>0</td>\n",
       "      <td>0</td>\n",
       "      <td>0</td>\n",
       "      <td>0</td>\n",
       "      <td>0</td>\n",
       "      <td>0</td>\n",
       "      <td>0</td>\n",
       "      <td>0</td>\n",
       "      <td>0</td>\n",
       "      <td>0</td>\n",
       "      <td>0</td>\n",
       "      <td>0</td>\n",
       "      <td>0</td>\n",
       "      <td>0</td>\n",
       "      <td>0</td>\n",
       "      <td>0</td>\n",
       "      <td>0</td>\n",
       "    </tr>\n",
       "    <tr>\n",
       "      <th>3</th>\n",
       "      <td>6.0</td>\n",
       "      <td>19.0</td>\n",
       "      <td>3</td>\n",
       "      <td>3</td>\n",
       "      <td>6.0</td>\n",
       "      <td>-2.0</td>\n",
       "      <td>190.0</td>\n",
       "      <td>157.0</td>\n",
       "      <td>1120.0</td>\n",
       "      <td>1</td>\n",
       "      <td>0</td>\n",
       "      <td>0</td>\n",
       "      <td>0</td>\n",
       "      <td>0</td>\n",
       "      <td>0</td>\n",
       "      <td>0</td>\n",
       "      <td>0</td>\n",
       "      <td>0</td>\n",
       "      <td>0</td>\n",
       "      <td>0</td>\n",
       "      <td>0</td>\n",
       "      <td>0</td>\n",
       "      <td>0</td>\n",
       "      <td>0</td>\n",
       "      <td>0</td>\n",
       "      <td>0</td>\n",
       "      <td>1</td>\n",
       "      <td>0</td>\n",
       "      <td>0</td>\n",
       "      <td>0</td>\n",
       "      <td>0</td>\n",
       "      <td>1</td>\n",
       "      <td>0</td>\n",
       "      <td>0</td>\n",
       "      <td>0</td>\n",
       "      <td>0</td>\n",
       "      <td>0</td>\n",
       "      <td>0</td>\n",
       "      <td>0</td>\n",
       "      <td>0</td>\n",
       "      <td>0</td>\n",
       "      <td>0</td>\n",
       "      <td>0</td>\n",
       "      <td>0</td>\n",
       "      <td>0</td>\n",
       "      <td>0</td>\n",
       "      <td>0</td>\n",
       "      <td>0</td>\n",
       "      <td>1</td>\n",
       "      <td>0</td>\n",
       "      <td>0</td>\n",
       "      <td>1</td>\n",
       "      <td>0</td>\n",
       "      <td>0</td>\n",
       "      <td>0</td>\n",
       "      <td>0</td>\n",
       "      <td>0</td>\n",
       "      <td>0</td>\n",
       "      <td>0</td>\n",
       "      <td>0</td>\n",
       "      <td>0</td>\n",
       "      <td>0</td>\n",
       "      <td>0</td>\n",
       "      <td>0</td>\n",
       "      <td>0</td>\n",
       "      <td>0</td>\n",
       "      <td>0</td>\n",
       "      <td>0</td>\n",
       "      <td>0</td>\n",
       "      <td>0</td>\n",
       "    </tr>\n",
       "    <tr>\n",
       "      <th>6</th>\n",
       "      <td>-3.0</td>\n",
       "      <td>14.0</td>\n",
       "      <td>2</td>\n",
       "      <td>2</td>\n",
       "      <td>6.0</td>\n",
       "      <td>-16.0</td>\n",
       "      <td>206.0</td>\n",
       "      <td>173.0</td>\n",
       "      <td>1222.0</td>\n",
       "      <td>1</td>\n",
       "      <td>0</td>\n",
       "      <td>0</td>\n",
       "      <td>0</td>\n",
       "      <td>0</td>\n",
       "      <td>0</td>\n",
       "      <td>0</td>\n",
       "      <td>0</td>\n",
       "      <td>0</td>\n",
       "      <td>0</td>\n",
       "      <td>0</td>\n",
       "      <td>0</td>\n",
       "      <td>0</td>\n",
       "      <td>0</td>\n",
       "      <td>0</td>\n",
       "      <td>0</td>\n",
       "      <td>0</td>\n",
       "      <td>1</td>\n",
       "      <td>0</td>\n",
       "      <td>0</td>\n",
       "      <td>0</td>\n",
       "      <td>0</td>\n",
       "      <td>0</td>\n",
       "      <td>0</td>\n",
       "      <td>0</td>\n",
       "      <td>0</td>\n",
       "      <td>0</td>\n",
       "      <td>1</td>\n",
       "      <td>0</td>\n",
       "      <td>0</td>\n",
       "      <td>0</td>\n",
       "      <td>0</td>\n",
       "      <td>0</td>\n",
       "      <td>0</td>\n",
       "      <td>0</td>\n",
       "      <td>0</td>\n",
       "      <td>0</td>\n",
       "      <td>0</td>\n",
       "      <td>1</td>\n",
       "      <td>0</td>\n",
       "      <td>0</td>\n",
       "      <td>1</td>\n",
       "      <td>0</td>\n",
       "      <td>0</td>\n",
       "      <td>0</td>\n",
       "      <td>0</td>\n",
       "      <td>0</td>\n",
       "      <td>0</td>\n",
       "      <td>0</td>\n",
       "      <td>0</td>\n",
       "      <td>0</td>\n",
       "      <td>0</td>\n",
       "      <td>0</td>\n",
       "      <td>0</td>\n",
       "      <td>0</td>\n",
       "      <td>0</td>\n",
       "      <td>0</td>\n",
       "      <td>0</td>\n",
       "      <td>0</td>\n",
       "      <td>0</td>\n",
       "      <td>0</td>\n",
       "    </tr>\n",
       "    <tr>\n",
       "      <th>7213439</th>\n",
       "      <td>31.0</td>\n",
       "      <td>12.0</td>\n",
       "      <td>4</td>\n",
       "      <td>4</td>\n",
       "      <td>6.0</td>\n",
       "      <td>9.0</td>\n",
       "      <td>182.0</td>\n",
       "      <td>142.0</td>\n",
       "      <td>1303.0</td>\n",
       "      <td>31</td>\n",
       "      <td>1</td>\n",
       "      <td>0</td>\n",
       "      <td>1</td>\n",
       "      <td>0</td>\n",
       "      <td>0</td>\n",
       "      <td>0</td>\n",
       "      <td>0</td>\n",
       "      <td>0</td>\n",
       "      <td>0</td>\n",
       "      <td>0</td>\n",
       "      <td>0</td>\n",
       "      <td>0</td>\n",
       "      <td>0</td>\n",
       "      <td>0</td>\n",
       "      <td>0</td>\n",
       "      <td>0</td>\n",
       "      <td>0</td>\n",
       "      <td>0</td>\n",
       "      <td>0</td>\n",
       "      <td>0</td>\n",
       "      <td>0</td>\n",
       "      <td>0</td>\n",
       "      <td>0</td>\n",
       "      <td>0</td>\n",
       "      <td>0</td>\n",
       "      <td>0</td>\n",
       "      <td>0</td>\n",
       "      <td>0</td>\n",
       "      <td>0</td>\n",
       "      <td>0</td>\n",
       "      <td>0</td>\n",
       "      <td>0</td>\n",
       "      <td>1</td>\n",
       "      <td>0</td>\n",
       "      <td>0</td>\n",
       "      <td>0</td>\n",
       "      <td>0</td>\n",
       "      <td>0</td>\n",
       "      <td>0</td>\n",
       "      <td>1</td>\n",
       "      <td>0</td>\n",
       "      <td>0</td>\n",
       "      <td>1</td>\n",
       "      <td>0</td>\n",
       "      <td>0</td>\n",
       "      <td>0</td>\n",
       "      <td>0</td>\n",
       "      <td>0</td>\n",
       "      <td>0</td>\n",
       "      <td>0</td>\n",
       "      <td>0</td>\n",
       "      <td>0</td>\n",
       "      <td>0</td>\n",
       "      <td>1</td>\n",
       "      <td>0</td>\n",
       "      <td>0</td>\n",
       "      <td>0</td>\n",
       "      <td>0</td>\n",
       "      <td>0</td>\n",
       "      <td>0</td>\n",
       "    </tr>\n",
       "    <tr>\n",
       "      <th>7213440</th>\n",
       "      <td>-1.0</td>\n",
       "      <td>12.0</td>\n",
       "      <td>3</td>\n",
       "      <td>3</td>\n",
       "      <td>4.0</td>\n",
       "      <td>-23.0</td>\n",
       "      <td>84.0</td>\n",
       "      <td>46.0</td>\n",
       "      <td>331.0</td>\n",
       "      <td>31</td>\n",
       "      <td>0</td>\n",
       "      <td>0</td>\n",
       "      <td>1</td>\n",
       "      <td>0</td>\n",
       "      <td>0</td>\n",
       "      <td>0</td>\n",
       "      <td>0</td>\n",
       "      <td>0</td>\n",
       "      <td>0</td>\n",
       "      <td>0</td>\n",
       "      <td>0</td>\n",
       "      <td>0</td>\n",
       "      <td>0</td>\n",
       "      <td>0</td>\n",
       "      <td>0</td>\n",
       "      <td>0</td>\n",
       "      <td>0</td>\n",
       "      <td>0</td>\n",
       "      <td>0</td>\n",
       "      <td>0</td>\n",
       "      <td>0</td>\n",
       "      <td>0</td>\n",
       "      <td>0</td>\n",
       "      <td>0</td>\n",
       "      <td>0</td>\n",
       "      <td>0</td>\n",
       "      <td>0</td>\n",
       "      <td>0</td>\n",
       "      <td>0</td>\n",
       "      <td>0</td>\n",
       "      <td>0</td>\n",
       "      <td>0</td>\n",
       "      <td>0</td>\n",
       "      <td>0</td>\n",
       "      <td>0</td>\n",
       "      <td>0</td>\n",
       "      <td>0</td>\n",
       "      <td>0</td>\n",
       "      <td>1</td>\n",
       "      <td>0</td>\n",
       "      <td>0</td>\n",
       "      <td>1</td>\n",
       "      <td>0</td>\n",
       "      <td>0</td>\n",
       "      <td>0</td>\n",
       "      <td>0</td>\n",
       "      <td>0</td>\n",
       "      <td>0</td>\n",
       "      <td>0</td>\n",
       "      <td>0</td>\n",
       "      <td>0</td>\n",
       "      <td>0</td>\n",
       "      <td>0</td>\n",
       "      <td>1</td>\n",
       "      <td>0</td>\n",
       "      <td>0</td>\n",
       "      <td>0</td>\n",
       "      <td>0</td>\n",
       "      <td>0</td>\n",
       "      <td>0</td>\n",
       "    </tr>\n",
       "    <tr>\n",
       "      <th>7213441</th>\n",
       "      <td>-4.0</td>\n",
       "      <td>20.0</td>\n",
       "      <td>3</td>\n",
       "      <td>3</td>\n",
       "      <td>7.0</td>\n",
       "      <td>-5.0</td>\n",
       "      <td>100.0</td>\n",
       "      <td>72.0</td>\n",
       "      <td>331.0</td>\n",
       "      <td>31</td>\n",
       "      <td>0</td>\n",
       "      <td>0</td>\n",
       "      <td>1</td>\n",
       "      <td>0</td>\n",
       "      <td>0</td>\n",
       "      <td>0</td>\n",
       "      <td>0</td>\n",
       "      <td>0</td>\n",
       "      <td>0</td>\n",
       "      <td>0</td>\n",
       "      <td>0</td>\n",
       "      <td>0</td>\n",
       "      <td>0</td>\n",
       "      <td>0</td>\n",
       "      <td>0</td>\n",
       "      <td>0</td>\n",
       "      <td>0</td>\n",
       "      <td>0</td>\n",
       "      <td>0</td>\n",
       "      <td>0</td>\n",
       "      <td>1</td>\n",
       "      <td>0</td>\n",
       "      <td>0</td>\n",
       "      <td>0</td>\n",
       "      <td>0</td>\n",
       "      <td>0</td>\n",
       "      <td>0</td>\n",
       "      <td>0</td>\n",
       "      <td>0</td>\n",
       "      <td>0</td>\n",
       "      <td>0</td>\n",
       "      <td>0</td>\n",
       "      <td>0</td>\n",
       "      <td>0</td>\n",
       "      <td>0</td>\n",
       "      <td>0</td>\n",
       "      <td>0</td>\n",
       "      <td>0</td>\n",
       "      <td>1</td>\n",
       "      <td>0</td>\n",
       "      <td>0</td>\n",
       "      <td>1</td>\n",
       "      <td>0</td>\n",
       "      <td>0</td>\n",
       "      <td>0</td>\n",
       "      <td>0</td>\n",
       "      <td>0</td>\n",
       "      <td>0</td>\n",
       "      <td>0</td>\n",
       "      <td>0</td>\n",
       "      <td>0</td>\n",
       "      <td>0</td>\n",
       "      <td>0</td>\n",
       "      <td>1</td>\n",
       "      <td>0</td>\n",
       "      <td>0</td>\n",
       "      <td>0</td>\n",
       "      <td>0</td>\n",
       "      <td>0</td>\n",
       "      <td>0</td>\n",
       "    </tr>\n",
       "    <tr>\n",
       "      <th>7213442</th>\n",
       "      <td>6.0</td>\n",
       "      <td>18.0</td>\n",
       "      <td>4</td>\n",
       "      <td>4</td>\n",
       "      <td>10.0</td>\n",
       "      <td>1.0</td>\n",
       "      <td>181.0</td>\n",
       "      <td>148.0</td>\n",
       "      <td>936.0</td>\n",
       "      <td>31</td>\n",
       "      <td>1</td>\n",
       "      <td>0</td>\n",
       "      <td>1</td>\n",
       "      <td>0</td>\n",
       "      <td>0</td>\n",
       "      <td>0</td>\n",
       "      <td>0</td>\n",
       "      <td>0</td>\n",
       "      <td>0</td>\n",
       "      <td>0</td>\n",
       "      <td>0</td>\n",
       "      <td>0</td>\n",
       "      <td>0</td>\n",
       "      <td>0</td>\n",
       "      <td>0</td>\n",
       "      <td>0</td>\n",
       "      <td>0</td>\n",
       "      <td>0</td>\n",
       "      <td>0</td>\n",
       "      <td>0</td>\n",
       "      <td>0</td>\n",
       "      <td>0</td>\n",
       "      <td>1</td>\n",
       "      <td>0</td>\n",
       "      <td>0</td>\n",
       "      <td>0</td>\n",
       "      <td>0</td>\n",
       "      <td>0</td>\n",
       "      <td>0</td>\n",
       "      <td>0</td>\n",
       "      <td>0</td>\n",
       "      <td>0</td>\n",
       "      <td>0</td>\n",
       "      <td>0</td>\n",
       "      <td>0</td>\n",
       "      <td>0</td>\n",
       "      <td>0</td>\n",
       "      <td>0</td>\n",
       "      <td>1</td>\n",
       "      <td>0</td>\n",
       "      <td>0</td>\n",
       "      <td>0</td>\n",
       "      <td>1</td>\n",
       "      <td>0</td>\n",
       "      <td>0</td>\n",
       "      <td>0</td>\n",
       "      <td>0</td>\n",
       "      <td>0</td>\n",
       "      <td>0</td>\n",
       "      <td>0</td>\n",
       "      <td>0</td>\n",
       "      <td>0</td>\n",
       "      <td>0</td>\n",
       "      <td>1</td>\n",
       "      <td>0</td>\n",
       "      <td>0</td>\n",
       "      <td>0</td>\n",
       "      <td>0</td>\n",
       "      <td>0</td>\n",
       "      <td>0</td>\n",
       "    </tr>\n",
       "    <tr>\n",
       "      <th>7213445</th>\n",
       "      <td>8.0</td>\n",
       "      <td>8.0</td>\n",
       "      <td>3</td>\n",
       "      <td>3</td>\n",
       "      <td>7.0</td>\n",
       "      <td>-4.0</td>\n",
       "      <td>71.0</td>\n",
       "      <td>44.0</td>\n",
       "      <td>130.0</td>\n",
       "      <td>31</td>\n",
       "      <td>0</td>\n",
       "      <td>0</td>\n",
       "      <td>1</td>\n",
       "      <td>0</td>\n",
       "      <td>0</td>\n",
       "      <td>0</td>\n",
       "      <td>0</td>\n",
       "      <td>0</td>\n",
       "      <td>0</td>\n",
       "      <td>0</td>\n",
       "      <td>0</td>\n",
       "      <td>0</td>\n",
       "      <td>0</td>\n",
       "      <td>0</td>\n",
       "      <td>0</td>\n",
       "      <td>0</td>\n",
       "      <td>0</td>\n",
       "      <td>0</td>\n",
       "      <td>0</td>\n",
       "      <td>0</td>\n",
       "      <td>1</td>\n",
       "      <td>0</td>\n",
       "      <td>0</td>\n",
       "      <td>0</td>\n",
       "      <td>0</td>\n",
       "      <td>0</td>\n",
       "      <td>0</td>\n",
       "      <td>0</td>\n",
       "      <td>0</td>\n",
       "      <td>0</td>\n",
       "      <td>0</td>\n",
       "      <td>0</td>\n",
       "      <td>0</td>\n",
       "      <td>0</td>\n",
       "      <td>0</td>\n",
       "      <td>0</td>\n",
       "      <td>0</td>\n",
       "      <td>0</td>\n",
       "      <td>1</td>\n",
       "      <td>0</td>\n",
       "      <td>0</td>\n",
       "      <td>1</td>\n",
       "      <td>0</td>\n",
       "      <td>0</td>\n",
       "      <td>0</td>\n",
       "      <td>0</td>\n",
       "      <td>0</td>\n",
       "      <td>0</td>\n",
       "      <td>0</td>\n",
       "      <td>0</td>\n",
       "      <td>0</td>\n",
       "      <td>0</td>\n",
       "      <td>0</td>\n",
       "      <td>1</td>\n",
       "      <td>0</td>\n",
       "      <td>0</td>\n",
       "      <td>0</td>\n",
       "      <td>0</td>\n",
       "      <td>0</td>\n",
       "      <td>0</td>\n",
       "    </tr>\n",
       "  </tbody>\n",
       "</table>\n",
       "</div>"
      ],
      "text/plain": [
       "         DEP_DELAY  TAXI_OUT  WHEELS_OFF  WHEELS_ON  TAXI_IN  ARR_DELAY  \\\n",
       "0             -5.0      15.0           3          3     10.0      -23.0   \n",
       "1             -8.0      11.0           2          3      7.0      -24.0   \n",
       "2             -5.0      15.0           3          3      5.0      -13.0   \n",
       "3              6.0      19.0           3          3      6.0       -2.0   \n",
       "6             -3.0      14.0           2          2      6.0      -16.0   \n",
       "7213439       31.0      12.0           4          4      6.0        9.0   \n",
       "7213440       -1.0      12.0           3          3      4.0      -23.0   \n",
       "7213441       -4.0      20.0           3          3      7.0       -5.0   \n",
       "7213442        6.0      18.0           4          4     10.0        1.0   \n",
       "7213445        8.0       8.0           3          3      7.0       -4.0   \n",
       "\n",
       "         CRS_ELAPSED_TIME  AIR_TIME  DISTANCE  DAY  FLIGHT_STATUS  \\\n",
       "0                   268.0     225.0    1605.0    1              0   \n",
       "1                    99.0      65.0     414.0    1              0   \n",
       "2                   134.0     106.0     846.0    1              0   \n",
       "3                   190.0     157.0    1120.0    1              0   \n",
       "6                   206.0     173.0    1222.0    1              0   \n",
       "7213439             182.0     142.0    1303.0   31              1   \n",
       "7213440              84.0      46.0     331.0   31              0   \n",
       "7213441             100.0      72.0     331.0   31              0   \n",
       "7213442             181.0     148.0     936.0   31              1   \n",
       "7213445              71.0      44.0     130.0   31              0   \n",
       "\n",
       "         OP_CARRIER_Allegiant Air  OP_CARRIER_American Airlines  \\\n",
       "0                               0                             0   \n",
       "1                               0                             0   \n",
       "2                               0                             0   \n",
       "3                               0                             0   \n",
       "6                               0                             0   \n",
       "7213439                         0                             1   \n",
       "7213440                         0                             1   \n",
       "7213441                         0                             1   \n",
       "7213442                         0                             1   \n",
       "7213445                         0                             1   \n",
       "\n",
       "         OP_CARRIER_Delta Airlines  OP_CARRIER_Endeavor Air  \\\n",
       "0                                0                        0   \n",
       "1                                0                        0   \n",
       "2                                0                        0   \n",
       "3                                0                        0   \n",
       "6                                0                        0   \n",
       "7213439                          0                        0   \n",
       "7213440                          0                        0   \n",
       "7213441                          0                        0   \n",
       "7213442                          0                        0   \n",
       "7213445                          0                        0   \n",
       "\n",
       "         OP_CARRIER_Envoy Air  OP_CARRIER_ExpressJet  \\\n",
       "0                           0                      0   \n",
       "1                           0                      0   \n",
       "2                           0                      0   \n",
       "3                           0                      0   \n",
       "6                           0                      0   \n",
       "7213439                     0                      0   \n",
       "7213440                     0                      0   \n",
       "7213441                     0                      0   \n",
       "7213442                     0                      0   \n",
       "7213445                     0                      0   \n",
       "\n",
       "         OP_CARRIER_Frontier Airlines  OP_CARRIER_Hawaiian Airlines  \\\n",
       "0                                   0                             0   \n",
       "1                                   0                             0   \n",
       "2                                   0                             0   \n",
       "3                                   0                             0   \n",
       "6                                   0                             0   \n",
       "7213439                             0                             0   \n",
       "7213440                             0                             0   \n",
       "7213441                             0                             0   \n",
       "7213442                             0                             0   \n",
       "7213445                             0                             0   \n",
       "\n",
       "         OP_CARRIER_JetBlue Airways  OP_CARRIER_Mesa Airline  \\\n",
       "0                                 0                        0   \n",
       "1                                 0                        0   \n",
       "2                                 0                        0   \n",
       "3                                 0                        0   \n",
       "6                                 0                        0   \n",
       "7213439                           0                        0   \n",
       "7213440                           0                        0   \n",
       "7213441                           0                        0   \n",
       "7213442                           0                        0   \n",
       "7213445                           0                        0   \n",
       "\n",
       "         OP_CARRIER_PSA Airlines  OP_CARRIER_Republic Airways  \\\n",
       "0                              0                            0   \n",
       "1                              0                            0   \n",
       "2                              0                            0   \n",
       "3                              0                            0   \n",
       "6                              0                            0   \n",
       "7213439                        0                            0   \n",
       "7213440                        0                            0   \n",
       "7213441                        0                            0   \n",
       "7213442                        0                            0   \n",
       "7213445                        0                            0   \n",
       "\n",
       "         OP_CARRIER_SkyWest Airlines  OP_CARRIER_Southwest Airlines  \\\n",
       "0                                  0                              0   \n",
       "1                                  0                              0   \n",
       "2                                  0                              0   \n",
       "3                                  0                              0   \n",
       "6                                  0                              0   \n",
       "7213439                            0                              0   \n",
       "7213440                            0                              0   \n",
       "7213441                            0                              0   \n",
       "7213442                            0                              0   \n",
       "7213445                            0                              0   \n",
       "\n",
       "         OP_CARRIER_Spirit Airlines  OP_CARRIER_United Airlines  \\\n",
       "0                                 0                           1   \n",
       "1                                 0                           1   \n",
       "2                                 0                           1   \n",
       "3                                 0                           1   \n",
       "6                                 0                           1   \n",
       "7213439                           0                           0   \n",
       "7213440                           0                           0   \n",
       "7213441                           0                           0   \n",
       "7213442                           0                           0   \n",
       "7213445                           0                           0   \n",
       "\n",
       "         OP_CARRIER_Virgin America  DEST_Atlanta  DEST_Boston  DEST_Charlotte  \\\n",
       "0                                0             0            0               0   \n",
       "1                                0             0            0               0   \n",
       "2                                0             0            0               0   \n",
       "3                                0             0            0               0   \n",
       "6                                0             0            0               0   \n",
       "7213439                          0             0            0               0   \n",
       "7213440                          0             0            0               0   \n",
       "7213441                          0             0            0               1   \n",
       "7213442                          0             0            0               0   \n",
       "7213445                          0             0            0               1   \n",
       "\n",
       "         DEST_Chicago  DEST_Dallas-Fort Worth  DEST_Denver  DEST_Detroit  \\\n",
       "0                   0                       0            1             0   \n",
       "1                   0                       0            0             0   \n",
       "2                   0                       0            1             0   \n",
       "3                   1                       0            0             0   \n",
       "6                   0                       0            0             0   \n",
       "7213439             0                       0            0             0   \n",
       "7213440             0                       0            0             0   \n",
       "7213441             0                       0            0             0   \n",
       "7213442             0                       1            0             0   \n",
       "7213445             0                       0            0             0   \n",
       "\n",
       "         DEST_Houston  DEST_Las Vegas  DEST_Los Angeles  DEST_Minneapolis  \\\n",
       "0                   0               0                 0                 0   \n",
       "1                   0               0                 0                 0   \n",
       "2                   0               0                 0                 0   \n",
       "3                   0               0                 0                 0   \n",
       "6                   0               1                 0                 0   \n",
       "7213439             0               0                 0                 0   \n",
       "7213440             0               0                 0                 0   \n",
       "7213441             0               0                 0                 0   \n",
       "7213442             0               0                 0                 0   \n",
       "7213445             0               0                 0                 0   \n",
       "\n",
       "         DEST_New York  DEST_Newark  DEST_Orlando  DEST_Philadelphia  \\\n",
       "0                    0            0             0                  0   \n",
       "1                    0            0             0                  0   \n",
       "2                    0            0             0                  0   \n",
       "3                    0            0             0                  0   \n",
       "6                    0            0             0                  0   \n",
       "7213439              0            0             0                  1   \n",
       "7213440              0            0             0                  0   \n",
       "7213441              0            0             0                  0   \n",
       "7213442              0            0             0                  0   \n",
       "7213445              0            0             0                  0   \n",
       "\n",
       "         DEST_Phoenix  DEST_Salt Lake City  DEST_San Francisco  DEST_Seattle  \\\n",
       "0                   0                    0                   0             0   \n",
       "1                   0                    0                   1             0   \n",
       "2                   0                    0                   0             0   \n",
       "3                   0                    0                   0             0   \n",
       "6                   0                    0                   0             0   \n",
       "7213439             0                    0                   0             0   \n",
       "7213440             0                    0                   0             0   \n",
       "7213441             0                    0                   0             0   \n",
       "7213442             0                    0                   0             0   \n",
       "7213445             0                    0                   0             0   \n",
       "\n",
       "         CRS_DEP_TIME_2  CRS_DEP_TIME_3  CRS_DEP_TIME_4  CRS_ARR_TIME_2  \\\n",
       "0                     0               1               0               0   \n",
       "1                     1               0               0               0   \n",
       "2                     0               1               0               0   \n",
       "3                     0               1               0               0   \n",
       "6                     1               0               0               1   \n",
       "7213439               0               0               1               0   \n",
       "7213440               0               1               0               0   \n",
       "7213441               0               1               0               0   \n",
       "7213442               0               1               0               0   \n",
       "7213445               0               1               0               0   \n",
       "\n",
       "         CRS_ARR_TIME_3  CRS_ARR_TIME_4  MONTH_2  MONTH_3  MONTH_4  MONTH_5  \\\n",
       "0                     1               0        0        0        0        0   \n",
       "1                     1               0        0        0        0        0   \n",
       "2                     1               0        0        0        0        0   \n",
       "3                     1               0        0        0        0        0   \n",
       "6                     0               0        0        0        0        0   \n",
       "7213439               0               1        0        0        0        0   \n",
       "7213440               1               0        0        0        0        0   \n",
       "7213441               1               0        0        0        0        0   \n",
       "7213442               0               1        0        0        0        0   \n",
       "7213445               1               0        0        0        0        0   \n",
       "\n",
       "         MONTH_6  MONTH_7  MONTH_8  MONTH_9  MONTH_10  MONTH_11  MONTH_12  \\\n",
       "0              0        0        0        0         0         0         0   \n",
       "1              0        0        0        0         0         0         0   \n",
       "2              0        0        0        0         0         0         0   \n",
       "3              0        0        0        0         0         0         0   \n",
       "6              0        0        0        0         0         0         0   \n",
       "7213439        0        0        0        0         0         0         1   \n",
       "7213440        0        0        0        0         0         0         1   \n",
       "7213441        0        0        0        0         0         0         1   \n",
       "7213442        0        0        0        0         0         0         1   \n",
       "7213445        0        0        0        0         0         0         1   \n",
       "\n",
       "         WEEKDAY_1  WEEKDAY_2  WEEKDAY_3  WEEKDAY_4  WEEKDAY_5  WEEKDAY_6  \n",
       "0                0          0          0          0          0          0  \n",
       "1                0          0          0          0          0          0  \n",
       "2                0          0          0          0          0          0  \n",
       "3                0          0          0          0          0          0  \n",
       "6                0          0          0          0          0          0  \n",
       "7213439          0          0          0          0          0          0  \n",
       "7213440          0          0          0          0          0          0  \n",
       "7213441          0          0          0          0          0          0  \n",
       "7213442          0          0          0          0          0          0  \n",
       "7213445          0          0          0          0          0          0  "
      ]
     },
     "execution_count": 2,
     "metadata": {},
     "output_type": "execute_result"
    }
   ],
   "source": [
    "dfm_ready = pd.read_csv('dfm_ready.csv', index_col=0)\n",
    "dfm_ready.head().append(dfm_ready.tail())"
   ]
  },
  {
   "cell_type": "markdown",
   "metadata": {},
   "source": [
    "The next cell will make sure that all my features are in floating format, followed by a double check with the .info() function"
   ]
  },
  {
   "cell_type": "code",
   "execution_count": 3,
   "metadata": {},
   "outputs": [],
   "source": [
    "dfm_ready.drop(['TAXI_OUT','WHEELS_OFF','WHEELS_ON','DAY','TAXI_IN','ARR_DELAY'], axis=1, inplace=True)"
   ]
  },
  {
   "cell_type": "code",
   "execution_count": 4,
   "metadata": {
    "ExecuteTime": {
     "end_time": "2020-10-14T21:52:20.235354Z",
     "start_time": "2020-10-14T21:52:18.798061Z"
    }
   },
   "outputs": [],
   "source": [
    "df = dfm_ready.astype(float)"
   ]
  },
  {
   "cell_type": "code",
   "execution_count": 5,
   "metadata": {
    "ExecuteTime": {
     "end_time": "2020-10-14T21:52:20.401045Z",
     "start_time": "2020-10-14T21:52:20.388404Z"
    }
   },
   "outputs": [
    {
     "name": "stdout",
     "output_type": "stream",
     "text": [
      "<class 'pandas.core.frame.DataFrame'>\n",
      "Int64Index: 3982067 entries, 0 to 7213445\n",
      "Data columns (total 64 columns):\n",
      " #   Column                         Dtype  \n",
      "---  ------                         -----  \n",
      " 0   DEP_DELAY                      float64\n",
      " 1   CRS_ELAPSED_TIME               float64\n",
      " 2   AIR_TIME                       float64\n",
      " 3   DISTANCE                       float64\n",
      " 4   FLIGHT_STATUS                  float64\n",
      " 5   OP_CARRIER_Allegiant Air       float64\n",
      " 6   OP_CARRIER_American Airlines   float64\n",
      " 7   OP_CARRIER_Delta Airlines      float64\n",
      " 8   OP_CARRIER_Endeavor Air        float64\n",
      " 9   OP_CARRIER_Envoy Air           float64\n",
      " 10  OP_CARRIER_ExpressJet          float64\n",
      " 11  OP_CARRIER_Frontier Airlines   float64\n",
      " 12  OP_CARRIER_Hawaiian Airlines   float64\n",
      " 13  OP_CARRIER_JetBlue Airways     float64\n",
      " 14  OP_CARRIER_Mesa Airline        float64\n",
      " 15  OP_CARRIER_PSA Airlines        float64\n",
      " 16  OP_CARRIER_Republic Airways    float64\n",
      " 17  OP_CARRIER_SkyWest Airlines    float64\n",
      " 18  OP_CARRIER_Southwest Airlines  float64\n",
      " 19  OP_CARRIER_Spirit Airlines     float64\n",
      " 20  OP_CARRIER_United Airlines     float64\n",
      " 21  OP_CARRIER_Virgin America      float64\n",
      " 22  DEST_Atlanta                   float64\n",
      " 23  DEST_Boston                    float64\n",
      " 24  DEST_Charlotte                 float64\n",
      " 25  DEST_Chicago                   float64\n",
      " 26  DEST_Dallas-Fort Worth         float64\n",
      " 27  DEST_Denver                    float64\n",
      " 28  DEST_Detroit                   float64\n",
      " 29  DEST_Houston                   float64\n",
      " 30  DEST_Las Vegas                 float64\n",
      " 31  DEST_Los Angeles               float64\n",
      " 32  DEST_Minneapolis               float64\n",
      " 33  DEST_New York                  float64\n",
      " 34  DEST_Newark                    float64\n",
      " 35  DEST_Orlando                   float64\n",
      " 36  DEST_Philadelphia              float64\n",
      " 37  DEST_Phoenix                   float64\n",
      " 38  DEST_Salt Lake City            float64\n",
      " 39  DEST_San Francisco             float64\n",
      " 40  DEST_Seattle                   float64\n",
      " 41  CRS_DEP_TIME_2                 float64\n",
      " 42  CRS_DEP_TIME_3                 float64\n",
      " 43  CRS_DEP_TIME_4                 float64\n",
      " 44  CRS_ARR_TIME_2                 float64\n",
      " 45  CRS_ARR_TIME_3                 float64\n",
      " 46  CRS_ARR_TIME_4                 float64\n",
      " 47  MONTH_2                        float64\n",
      " 48  MONTH_3                        float64\n",
      " 49  MONTH_4                        float64\n",
      " 50  MONTH_5                        float64\n",
      " 51  MONTH_6                        float64\n",
      " 52  MONTH_7                        float64\n",
      " 53  MONTH_8                        float64\n",
      " 54  MONTH_9                        float64\n",
      " 55  MONTH_10                       float64\n",
      " 56  MONTH_11                       float64\n",
      " 57  MONTH_12                       float64\n",
      " 58  WEEKDAY_1                      float64\n",
      " 59  WEEKDAY_2                      float64\n",
      " 60  WEEKDAY_3                      float64\n",
      " 61  WEEKDAY_4                      float64\n",
      " 62  WEEKDAY_5                      float64\n",
      " 63  WEEKDAY_6                      float64\n",
      "dtypes: float64(64)\n",
      "memory usage: 1.9 GB\n"
     ]
    }
   ],
   "source": [
    "df.info()"
   ]
  },
  {
   "cell_type": "markdown",
   "metadata": {},
   "source": [
    "=================================================================================="
   ]
  },
  {
   "cell_type": "markdown",
   "metadata": {},
   "source": [
    "# Function Library"
   ]
  },
  {
   "cell_type": "markdown",
   "metadata": {},
   "source": [
    "This is a quick parenthesis to write down a few functions that I will be using to evaluate every model once finish training it. "
   ]
  },
  {
   "cell_type": "code",
   "execution_count": 6,
   "metadata": {
    "ExecuteTime": {
     "end_time": "2020-10-15T14:37:31.495394Z",
     "start_time": "2020-10-15T14:37:31.489870Z"
    }
   },
   "outputs": [],
   "source": [
    "def visualize_training_results(results):\n",
    "    history = results.history\n",
    "    plt.figure()\n",
    "    plt.plot(history['val_loss'])\n",
    "    plt.plot(history['loss'])\n",
    "    plt.legend(['val_loss', 'loss'])\n",
    "    plt.title('LOSS', fontsize=14)\n",
    "    plt.xlabel('Epochs', fontsize=12)\n",
    "    plt.ylabel('Loss', fontsize=12)\n",
    "    plt.show()\n",
    "    \n",
    "    plt.figure()\n",
    "    plt.plot(history['val_accuracy'])\n",
    "    plt.plot(history['accuracy'])\n",
    "    plt.legend(['val_accuracy', 'accuracy'])\n",
    "    plt.title('ACCURACY', fontsize=14)\n",
    "    plt.xlabel('Epochs', fontsize=12)\n",
    "    plt.ylabel('Accuracy', fontsize=12)\n",
    "    plt.show()"
   ]
  },
  {
   "cell_type": "code",
   "execution_count": 7,
   "metadata": {
    "ExecuteTime": {
     "end_time": "2020-10-15T14:43:21.746980Z",
     "start_time": "2020-10-15T14:43:21.740738Z"
    }
   },
   "outputs": [],
   "source": [
    "def conf_matrix(conf_mat):\n",
    "    \n",
    "    conf_mat = pd.DataFrame(conf_mat, index = ['0', '1'], columns = ['0', '1'])\n",
    "    sns.set(font_scale=1.4)\n",
    "    plt.figure(figsize = (8,7))\n",
    "    sns.heatmap(conf_mat, cmap= \"Blues\", linecolor = 'black' , linewidth = 1, annot = True, fmt='')\n",
    "    plt.xlabel('Predicted', fontsize=14)\n",
    "    plt.ylabel('True', fontsize=14)\n",
    "    plt.show()\n"
   ]
  },
  {
   "cell_type": "code",
   "execution_count": 8,
   "metadata": {
    "ExecuteTime": {
     "end_time": "2020-10-15T11:45:40.336096Z",
     "start_time": "2020-10-15T11:45:40.331752Z"
    }
   },
   "outputs": [],
   "source": [
    "def model_metrics(a, b):\n",
    "    \n",
    "    accuracy = metrics.accuracy_score(a, b)\n",
    "    precision = precision_score(a, b)\n",
    "    recall = recall_score(a, b)\n",
    "    f1 = f1_score(a, b)\n",
    "\n",
    "    print('Accuracy:', round(accuracy*100, 2),'%')\n",
    "    print('Precision score:', round(precision*100, 2),'%')\n",
    "    print('Recall score:', round(recall*100, 2),'%')\n",
    "    print('F1 score:', round(f1*100, 2),'%')"
   ]
  },
  {
   "cell_type": "markdown",
   "metadata": {},
   "source": [
    "=================================================================================="
   ]
  },
  {
   "cell_type": "markdown",
   "metadata": {},
   "source": [
    "<b>Target (y) and Features (X) definitions:</b>"
   ]
  },
  {
   "cell_type": "markdown",
   "metadata": {},
   "source": [
    "The first model of this Notebook will have only the FLIGHT_STATUS (target) dropped from the input data. The reason for this is to be able to compare the accuracy and other metrics with the other models which will have the DEP_DELAY and all the MONTHS dropped as well. The months have been dropped following a feature selection done, which suggested that the months would not affect the model and by looking at the plots on the EDA, this is clear as there are no real trends or patterns with the months"
   ]
  },
  {
   "cell_type": "code",
   "execution_count": 9,
   "metadata": {
    "ExecuteTime": {
     "end_time": "2020-10-14T21:52:49.645818Z",
     "start_time": "2020-10-14T21:52:43.141644Z"
    }
   },
   "outputs": [],
   "source": [
    "y = df['FLIGHT_STATUS']\n",
    "X = df.drop(['FLIGHT_STATUS'], axis=1)"
   ]
  },
  {
   "cell_type": "markdown",
   "metadata": {},
   "source": [
    "# Neural Network Conditions\n",
    "\n",
    "1. Data has to be purely numerical<br>\n",
    "2. Data cannot contain missing values<br>\n",
    "3. Data has to be Normalized<br>"
   ]
  },
  {
   "cell_type": "code",
   "execution_count": 10,
   "metadata": {
    "ExecuteTime": {
     "end_time": "2020-10-15T17:02:26.468135Z",
     "start_time": "2020-10-15T17:02:23.221146Z"
    }
   },
   "outputs": [
    {
     "data": {
      "text/plain": [
       "0"
      ]
     },
     "execution_count": 10,
     "metadata": {},
     "output_type": "execute_result"
    }
   ],
   "source": [
    "df.isna().sum().sum()"
   ]
  },
  {
   "cell_type": "markdown",
   "metadata": {},
   "source": [
    "We know the data is purely numerical and that it has no missing values, now all is needed is to normalized and we will do it by using the <b>StandardScaler</b>"
   ]
  },
  {
   "cell_type": "code",
   "execution_count": 11,
   "metadata": {
    "ExecuteTime": {
     "end_time": "2020-10-14T21:53:01.223879Z",
     "start_time": "2020-10-14T21:52:52.071446Z"
    }
   },
   "outputs": [],
   "source": [
    "col_names = list(df.columns)\n",
    "\n",
    "s_scaler = preprocessing.StandardScaler()\n",
    "df_s = s_scaler.fit_transform(df)\n",
    "\n",
    "df_s = pd.DataFrame(df_s, columns=col_names)"
   ]
  },
  {
   "cell_type": "code",
   "execution_count": 12,
   "metadata": {
    "ExecuteTime": {
     "end_time": "2020-10-14T21:53:01.716359Z",
     "start_time": "2020-10-14T21:53:01.626703Z"
    }
   },
   "outputs": [
    {
     "data": {
      "text/html": [
       "<div>\n",
       "<style scoped>\n",
       "    .dataframe tbody tr th:only-of-type {\n",
       "        vertical-align: middle;\n",
       "    }\n",
       "\n",
       "    .dataframe tbody tr th {\n",
       "        vertical-align: top;\n",
       "    }\n",
       "\n",
       "    .dataframe thead th {\n",
       "        text-align: right;\n",
       "    }\n",
       "</style>\n",
       "<table border=\"1\" class=\"dataframe\">\n",
       "  <thead>\n",
       "    <tr style=\"text-align: right;\">\n",
       "      <th></th>\n",
       "      <th>DEP_DELAY</th>\n",
       "      <th>CRS_ELAPSED_TIME</th>\n",
       "      <th>AIR_TIME</th>\n",
       "      <th>DISTANCE</th>\n",
       "      <th>FLIGHT_STATUS</th>\n",
       "      <th>OP_CARRIER_Allegiant Air</th>\n",
       "      <th>OP_CARRIER_American Airlines</th>\n",
       "      <th>OP_CARRIER_Delta Airlines</th>\n",
       "      <th>OP_CARRIER_Endeavor Air</th>\n",
       "      <th>OP_CARRIER_Envoy Air</th>\n",
       "      <th>OP_CARRIER_ExpressJet</th>\n",
       "      <th>OP_CARRIER_Frontier Airlines</th>\n",
       "      <th>OP_CARRIER_Hawaiian Airlines</th>\n",
       "      <th>OP_CARRIER_JetBlue Airways</th>\n",
       "      <th>OP_CARRIER_Mesa Airline</th>\n",
       "      <th>OP_CARRIER_PSA Airlines</th>\n",
       "      <th>OP_CARRIER_Republic Airways</th>\n",
       "      <th>OP_CARRIER_SkyWest Airlines</th>\n",
       "      <th>OP_CARRIER_Southwest Airlines</th>\n",
       "      <th>OP_CARRIER_Spirit Airlines</th>\n",
       "      <th>OP_CARRIER_United Airlines</th>\n",
       "      <th>OP_CARRIER_Virgin America</th>\n",
       "      <th>DEST_Atlanta</th>\n",
       "      <th>DEST_Boston</th>\n",
       "      <th>DEST_Charlotte</th>\n",
       "      <th>DEST_Chicago</th>\n",
       "      <th>DEST_Dallas-Fort Worth</th>\n",
       "      <th>DEST_Denver</th>\n",
       "      <th>DEST_Detroit</th>\n",
       "      <th>DEST_Houston</th>\n",
       "      <th>DEST_Las Vegas</th>\n",
       "      <th>DEST_Los Angeles</th>\n",
       "      <th>DEST_Minneapolis</th>\n",
       "      <th>DEST_New York</th>\n",
       "      <th>DEST_Newark</th>\n",
       "      <th>DEST_Orlando</th>\n",
       "      <th>DEST_Philadelphia</th>\n",
       "      <th>DEST_Phoenix</th>\n",
       "      <th>DEST_Salt Lake City</th>\n",
       "      <th>DEST_San Francisco</th>\n",
       "      <th>DEST_Seattle</th>\n",
       "      <th>CRS_DEP_TIME_2</th>\n",
       "      <th>CRS_DEP_TIME_3</th>\n",
       "      <th>CRS_DEP_TIME_4</th>\n",
       "      <th>CRS_ARR_TIME_2</th>\n",
       "      <th>CRS_ARR_TIME_3</th>\n",
       "      <th>CRS_ARR_TIME_4</th>\n",
       "      <th>MONTH_2</th>\n",
       "      <th>MONTH_3</th>\n",
       "      <th>MONTH_4</th>\n",
       "      <th>MONTH_5</th>\n",
       "      <th>MONTH_6</th>\n",
       "      <th>MONTH_7</th>\n",
       "      <th>MONTH_8</th>\n",
       "      <th>MONTH_9</th>\n",
       "      <th>MONTH_10</th>\n",
       "      <th>MONTH_11</th>\n",
       "      <th>MONTH_12</th>\n",
       "      <th>WEEKDAY_1</th>\n",
       "      <th>WEEKDAY_2</th>\n",
       "      <th>WEEKDAY_3</th>\n",
       "      <th>WEEKDAY_4</th>\n",
       "      <th>WEEKDAY_5</th>\n",
       "      <th>WEEKDAY_6</th>\n",
       "    </tr>\n",
       "  </thead>\n",
       "  <tbody>\n",
       "    <tr>\n",
       "      <th>0</th>\n",
       "      <td>-0.321391</td>\n",
       "      <td>1.529193</td>\n",
       "      <td>1.414654</td>\n",
       "      <td>1.172975</td>\n",
       "      <td>-0.768317</td>\n",
       "      <td>-0.050067</td>\n",
       "      <td>-0.436987</td>\n",
       "      <td>-0.444443</td>\n",
       "      <td>-0.181004</td>\n",
       "      <td>-0.187551</td>\n",
       "      <td>-0.160379</td>\n",
       "      <td>-0.127262</td>\n",
       "      <td>-0.036521</td>\n",
       "      <td>-0.213085</td>\n",
       "      <td>-0.160239</td>\n",
       "      <td>-0.185638</td>\n",
       "      <td>-0.21801</td>\n",
       "      <td>-0.331799</td>\n",
       "      <td>-0.408159</td>\n",
       "      <td>-0.164808</td>\n",
       "      <td>2.836956</td>\n",
       "      <td>-0.058718</td>\n",
       "      <td>-0.32781</td>\n",
       "      <td>-0.193782</td>\n",
       "      <td>-0.243678</td>\n",
       "      <td>-0.337531</td>\n",
       "      <td>-0.270339</td>\n",
       "      <td>4.024041</td>\n",
       "      <td>-0.201662</td>\n",
       "      <td>-0.246484</td>\n",
       "      <td>-0.203853</td>\n",
       "      <td>-0.241257</td>\n",
       "      <td>-0.202764</td>\n",
       "      <td>-0.279531</td>\n",
       "      <td>-0.189913</td>\n",
       "      <td>-0.188279</td>\n",
       "      <td>-0.17047</td>\n",
       "      <td>-0.212175</td>\n",
       "      <td>-0.170563</td>\n",
       "      <td>-0.212592</td>\n",
       "      <td>-0.19016</td>\n",
       "      <td>-0.789857</td>\n",
       "      <td>1.318873</td>\n",
       "      <td>-0.469791</td>\n",
       "      <td>-0.677184</td>\n",
       "      <td>1.357611</td>\n",
       "      <td>-0.666194</td>\n",
       "      <td>-0.279091</td>\n",
       "      <td>-0.301801</td>\n",
       "      <td>-0.301174</td>\n",
       "      <td>-0.307043</td>\n",
       "      <td>-0.308123</td>\n",
       "      <td>-0.312796</td>\n",
       "      <td>-0.31331</td>\n",
       "      <td>-0.298723</td>\n",
       "      <td>-0.307682</td>\n",
       "      <td>-0.297409</td>\n",
       "      <td>-0.298946</td>\n",
       "      <td>-0.409881</td>\n",
       "      <td>-0.411999</td>\n",
       "      <td>-0.417128</td>\n",
       "      <td>-0.418755</td>\n",
       "      <td>-0.371965</td>\n",
       "      <td>-0.405741</td>\n",
       "    </tr>\n",
       "    <tr>\n",
       "      <th>1</th>\n",
       "      <td>-0.384870</td>\n",
       "      <td>-0.705450</td>\n",
       "      <td>-0.755912</td>\n",
       "      <td>-0.730105</td>\n",
       "      <td>-0.768317</td>\n",
       "      <td>-0.050067</td>\n",
       "      <td>-0.436987</td>\n",
       "      <td>-0.444443</td>\n",
       "      <td>-0.181004</td>\n",
       "      <td>-0.187551</td>\n",
       "      <td>-0.160379</td>\n",
       "      <td>-0.127262</td>\n",
       "      <td>-0.036521</td>\n",
       "      <td>-0.213085</td>\n",
       "      <td>-0.160239</td>\n",
       "      <td>-0.185638</td>\n",
       "      <td>-0.21801</td>\n",
       "      <td>-0.331799</td>\n",
       "      <td>-0.408159</td>\n",
       "      <td>-0.164808</td>\n",
       "      <td>2.836956</td>\n",
       "      <td>-0.058718</td>\n",
       "      <td>-0.32781</td>\n",
       "      <td>-0.193782</td>\n",
       "      <td>-0.243678</td>\n",
       "      <td>-0.337531</td>\n",
       "      <td>-0.270339</td>\n",
       "      <td>-0.248506</td>\n",
       "      <td>-0.201662</td>\n",
       "      <td>-0.246484</td>\n",
       "      <td>-0.203853</td>\n",
       "      <td>-0.241257</td>\n",
       "      <td>-0.202764</td>\n",
       "      <td>-0.279531</td>\n",
       "      <td>-0.189913</td>\n",
       "      <td>-0.188279</td>\n",
       "      <td>-0.17047</td>\n",
       "      <td>-0.212175</td>\n",
       "      <td>-0.170563</td>\n",
       "      <td>4.703843</td>\n",
       "      <td>-0.19016</td>\n",
       "      <td>1.266053</td>\n",
       "      <td>-0.758223</td>\n",
       "      <td>-0.469791</td>\n",
       "      <td>-0.677184</td>\n",
       "      <td>1.357611</td>\n",
       "      <td>-0.666194</td>\n",
       "      <td>-0.279091</td>\n",
       "      <td>-0.301801</td>\n",
       "      <td>-0.301174</td>\n",
       "      <td>-0.307043</td>\n",
       "      <td>-0.308123</td>\n",
       "      <td>-0.312796</td>\n",
       "      <td>-0.31331</td>\n",
       "      <td>-0.298723</td>\n",
       "      <td>-0.307682</td>\n",
       "      <td>-0.297409</td>\n",
       "      <td>-0.298946</td>\n",
       "      <td>-0.409881</td>\n",
       "      <td>-0.411999</td>\n",
       "      <td>-0.417128</td>\n",
       "      <td>-0.418755</td>\n",
       "      <td>-0.371965</td>\n",
       "      <td>-0.405741</td>\n",
       "    </tr>\n",
       "  </tbody>\n",
       "</table>\n",
       "</div>"
      ],
      "text/plain": [
       "   DEP_DELAY  CRS_ELAPSED_TIME  AIR_TIME  DISTANCE  FLIGHT_STATUS  \\\n",
       "0  -0.321391          1.529193  1.414654  1.172975      -0.768317   \n",
       "1  -0.384870         -0.705450 -0.755912 -0.730105      -0.768317   \n",
       "\n",
       "   OP_CARRIER_Allegiant Air  OP_CARRIER_American Airlines  \\\n",
       "0                 -0.050067                     -0.436987   \n",
       "1                 -0.050067                     -0.436987   \n",
       "\n",
       "   OP_CARRIER_Delta Airlines  OP_CARRIER_Endeavor Air  OP_CARRIER_Envoy Air  \\\n",
       "0                  -0.444443                -0.181004             -0.187551   \n",
       "1                  -0.444443                -0.181004             -0.187551   \n",
       "\n",
       "   OP_CARRIER_ExpressJet  OP_CARRIER_Frontier Airlines  \\\n",
       "0              -0.160379                     -0.127262   \n",
       "1              -0.160379                     -0.127262   \n",
       "\n",
       "   OP_CARRIER_Hawaiian Airlines  OP_CARRIER_JetBlue Airways  \\\n",
       "0                     -0.036521                   -0.213085   \n",
       "1                     -0.036521                   -0.213085   \n",
       "\n",
       "   OP_CARRIER_Mesa Airline  OP_CARRIER_PSA Airlines  \\\n",
       "0                -0.160239                -0.185638   \n",
       "1                -0.160239                -0.185638   \n",
       "\n",
       "   OP_CARRIER_Republic Airways  OP_CARRIER_SkyWest Airlines  \\\n",
       "0                     -0.21801                    -0.331799   \n",
       "1                     -0.21801                    -0.331799   \n",
       "\n",
       "   OP_CARRIER_Southwest Airlines  OP_CARRIER_Spirit Airlines  \\\n",
       "0                      -0.408159                   -0.164808   \n",
       "1                      -0.408159                   -0.164808   \n",
       "\n",
       "   OP_CARRIER_United Airlines  OP_CARRIER_Virgin America  DEST_Atlanta  \\\n",
       "0                    2.836956                  -0.058718      -0.32781   \n",
       "1                    2.836956                  -0.058718      -0.32781   \n",
       "\n",
       "   DEST_Boston  DEST_Charlotte  DEST_Chicago  DEST_Dallas-Fort Worth  \\\n",
       "0    -0.193782       -0.243678     -0.337531               -0.270339   \n",
       "1    -0.193782       -0.243678     -0.337531               -0.270339   \n",
       "\n",
       "   DEST_Denver  DEST_Detroit  DEST_Houston  DEST_Las Vegas  DEST_Los Angeles  \\\n",
       "0     4.024041     -0.201662     -0.246484       -0.203853         -0.241257   \n",
       "1    -0.248506     -0.201662     -0.246484       -0.203853         -0.241257   \n",
       "\n",
       "   DEST_Minneapolis  DEST_New York  DEST_Newark  DEST_Orlando  \\\n",
       "0         -0.202764      -0.279531    -0.189913     -0.188279   \n",
       "1         -0.202764      -0.279531    -0.189913     -0.188279   \n",
       "\n",
       "   DEST_Philadelphia  DEST_Phoenix  DEST_Salt Lake City  DEST_San Francisco  \\\n",
       "0           -0.17047     -0.212175            -0.170563           -0.212592   \n",
       "1           -0.17047     -0.212175            -0.170563            4.703843   \n",
       "\n",
       "   DEST_Seattle  CRS_DEP_TIME_2  CRS_DEP_TIME_3  CRS_DEP_TIME_4  \\\n",
       "0      -0.19016       -0.789857        1.318873       -0.469791   \n",
       "1      -0.19016        1.266053       -0.758223       -0.469791   \n",
       "\n",
       "   CRS_ARR_TIME_2  CRS_ARR_TIME_3  CRS_ARR_TIME_4   MONTH_2   MONTH_3  \\\n",
       "0       -0.677184        1.357611       -0.666194 -0.279091 -0.301801   \n",
       "1       -0.677184        1.357611       -0.666194 -0.279091 -0.301801   \n",
       "\n",
       "    MONTH_4   MONTH_5   MONTH_6   MONTH_7  MONTH_8   MONTH_9  MONTH_10  \\\n",
       "0 -0.301174 -0.307043 -0.308123 -0.312796 -0.31331 -0.298723 -0.307682   \n",
       "1 -0.301174 -0.307043 -0.308123 -0.312796 -0.31331 -0.298723 -0.307682   \n",
       "\n",
       "   MONTH_11  MONTH_12  WEEKDAY_1  WEEKDAY_2  WEEKDAY_3  WEEKDAY_4  WEEKDAY_5  \\\n",
       "0 -0.297409 -0.298946  -0.409881  -0.411999  -0.417128  -0.418755  -0.371965   \n",
       "1 -0.297409 -0.298946  -0.409881  -0.411999  -0.417128  -0.418755  -0.371965   \n",
       "\n",
       "   WEEKDAY_6  \n",
       "0  -0.405741  \n",
       "1  -0.405741  "
      ]
     },
     "execution_count": 12,
     "metadata": {},
     "output_type": "execute_result"
    }
   ],
   "source": [
    "df_s.head(2)"
   ]
  },
  {
   "cell_type": "code",
   "execution_count": 13,
   "metadata": {
    "ExecuteTime": {
     "end_time": "2020-10-14T21:53:58.128575Z",
     "start_time": "2020-10-14T21:53:50.399830Z"
    }
   },
   "outputs": [],
   "source": [
    "X_train, X_test, y_train, y_test = train_test_split(X, y, test_size=0.25)"
   ]
  },
  {
   "cell_type": "markdown",
   "metadata": {},
   "source": [
    "# Modeling"
   ]
  },
  {
   "cell_type": "markdown",
   "metadata": {},
   "source": [
    "## Model 1"
   ]
  },
  {
   "cell_type": "code",
   "execution_count": 14,
   "metadata": {
    "ExecuteTime": {
     "end_time": "2020-10-15T12:18:31.507689Z",
     "start_time": "2020-10-15T12:18:31.459201Z"
    }
   },
   "outputs": [
    {
     "name": "stdout",
     "output_type": "stream",
     "text": [
      "Model: \"sequential\"\n",
      "_________________________________________________________________\n",
      " Layer (type)                Output Shape              Param #   \n",
      "=================================================================\n",
      " dense (Dense)               (None, 50)                3200      \n",
      "                                                                 \n",
      " dense_1 (Dense)             (None, 30)                1530      \n",
      "                                                                 \n",
      " dense_2 (Dense)             (None, 10)                310       \n",
      "                                                                 \n",
      " dense_3 (Dense)             (None, 1)                 11        \n",
      "                                                                 \n",
      "=================================================================\n",
      "Total params: 5,051\n",
      "Trainable params: 5,051\n",
      "Non-trainable params: 0\n",
      "_________________________________________________________________\n"
     ]
    }
   ],
   "source": [
    "model_1 = Sequential()\n",
    "\n",
    "model_1.add(Dense(50, activation='relu', input_shape=(63,)))\n",
    "\n",
    "model_1.add(Dense(30, activation='relu'))\n",
    "\n",
    "model_1.add(Dense(10, activation='relu'))\n",
    "\n",
    "model_1.add(Dense(1, activation='sigmoid'))\n",
    "\n",
    "model_1.summary()"
   ]
  },
  {
   "cell_type": "code",
   "execution_count": 25,
   "metadata": {},
   "outputs": [
    {
     "name": "stdout",
     "output_type": "stream",
     "text": [
      "^C\n"
     ]
    }
   ],
   "source": [
    "!conda install graphviz"
   ]
  },
  {
   "cell_type": "code",
   "execution_count": 22,
   "metadata": {},
   "outputs": [
    {
     "ename": "ExecutableNotFound",
     "evalue": "failed to execute WindowsPath('dot'), make sure the Graphviz executables are on your systems' PATH",
     "output_type": "error",
     "traceback": [
      "\u001b[1;31m---------------------------------------------------------------------------\u001b[0m",
      "\u001b[1;31mFileNotFoundError\u001b[0m                         Traceback (most recent call last)",
      "\u001b[1;32m~\\Anaconda3\\lib\\site-packages\\graphviz\\backend\\execute.py\u001b[0m in \u001b[0;36mrun_check\u001b[1;34m(cmd, input_lines, encoding, quiet, **kwargs)\u001b[0m\n\u001b[0;32m     80\u001b[0m         \u001b[1;32melse\u001b[0m\u001b[1;33m:\u001b[0m\u001b[1;33m\u001b[0m\u001b[1;33m\u001b[0m\u001b[0m\n\u001b[1;32m---> 81\u001b[1;33m             \u001b[0mproc\u001b[0m \u001b[1;33m=\u001b[0m \u001b[0msubprocess\u001b[0m\u001b[1;33m.\u001b[0m\u001b[0mrun\u001b[0m\u001b[1;33m(\u001b[0m\u001b[0mcmd\u001b[0m\u001b[1;33m,\u001b[0m \u001b[1;33m**\u001b[0m\u001b[0mkwargs\u001b[0m\u001b[1;33m)\u001b[0m\u001b[1;33m\u001b[0m\u001b[1;33m\u001b[0m\u001b[0m\n\u001b[0m\u001b[0;32m     82\u001b[0m     \u001b[1;32mexcept\u001b[0m \u001b[0mOSError\u001b[0m \u001b[1;32mas\u001b[0m \u001b[0me\u001b[0m\u001b[1;33m:\u001b[0m\u001b[1;33m\u001b[0m\u001b[1;33m\u001b[0m\u001b[0m\n",
      "\u001b[1;32m~\\Anaconda3\\lib\\subprocess.py\u001b[0m in \u001b[0;36mrun\u001b[1;34m(input, capture_output, timeout, check, *popenargs, **kwargs)\u001b[0m\n\u001b[0;32m    504\u001b[0m \u001b[1;33m\u001b[0m\u001b[0m\n\u001b[1;32m--> 505\u001b[1;33m     \u001b[1;32mwith\u001b[0m \u001b[0mPopen\u001b[0m\u001b[1;33m(\u001b[0m\u001b[1;33m*\u001b[0m\u001b[0mpopenargs\u001b[0m\u001b[1;33m,\u001b[0m \u001b[1;33m**\u001b[0m\u001b[0mkwargs\u001b[0m\u001b[1;33m)\u001b[0m \u001b[1;32mas\u001b[0m \u001b[0mprocess\u001b[0m\u001b[1;33m:\u001b[0m\u001b[1;33m\u001b[0m\u001b[1;33m\u001b[0m\u001b[0m\n\u001b[0m\u001b[0;32m    506\u001b[0m         \u001b[1;32mtry\u001b[0m\u001b[1;33m:\u001b[0m\u001b[1;33m\u001b[0m\u001b[1;33m\u001b[0m\u001b[0m\n",
      "\u001b[1;32m~\\Anaconda3\\lib\\subprocess.py\u001b[0m in \u001b[0;36m__init__\u001b[1;34m(self, args, bufsize, executable, stdin, stdout, stderr, preexec_fn, close_fds, shell, cwd, env, universal_newlines, startupinfo, creationflags, restore_signals, start_new_session, pass_fds, user, group, extra_groups, encoding, errors, text, umask)\u001b[0m\n\u001b[0;32m    950\u001b[0m \u001b[1;33m\u001b[0m\u001b[0m\n\u001b[1;32m--> 951\u001b[1;33m             self._execute_child(args, executable, preexec_fn, close_fds,\n\u001b[0m\u001b[0;32m    952\u001b[0m                                 \u001b[0mpass_fds\u001b[0m\u001b[1;33m,\u001b[0m \u001b[0mcwd\u001b[0m\u001b[1;33m,\u001b[0m \u001b[0menv\u001b[0m\u001b[1;33m,\u001b[0m\u001b[1;33m\u001b[0m\u001b[1;33m\u001b[0m\u001b[0m\n",
      "\u001b[1;32m~\\Anaconda3\\lib\\subprocess.py\u001b[0m in \u001b[0;36m_execute_child\u001b[1;34m(self, args, executable, preexec_fn, close_fds, pass_fds, cwd, env, startupinfo, creationflags, shell, p2cread, p2cwrite, c2pread, c2pwrite, errread, errwrite, unused_restore_signals, unused_gid, unused_gids, unused_uid, unused_umask, unused_start_new_session)\u001b[0m\n\u001b[0;32m   1419\u001b[0m             \u001b[1;32mtry\u001b[0m\u001b[1;33m:\u001b[0m\u001b[1;33m\u001b[0m\u001b[1;33m\u001b[0m\u001b[0m\n\u001b[1;32m-> 1420\u001b[1;33m                 hp, ht, pid, tid = _winapi.CreateProcess(executable, args,\n\u001b[0m\u001b[0;32m   1421\u001b[0m                                          \u001b[1;31m# no special security\u001b[0m\u001b[1;33m\u001b[0m\u001b[1;33m\u001b[0m\u001b[0m\n",
      "\u001b[1;31mFileNotFoundError\u001b[0m: [WinError 2] The system cannot find the file specified",
      "\nThe above exception was the direct cause of the following exception:\n",
      "\u001b[1;31mExecutableNotFound\u001b[0m                        Traceback (most recent call last)",
      "\u001b[1;32m~\\AppData\\Local\\Temp\\ipykernel_25316\\507058364.py\u001b[0m in \u001b[0;36m<module>\u001b[1;34m\u001b[0m\n\u001b[0;32m      1\u001b[0m \u001b[1;32mfrom\u001b[0m \u001b[0mann_visualizer\u001b[0m\u001b[1;33m.\u001b[0m\u001b[0mvisualize\u001b[0m \u001b[1;32mimport\u001b[0m \u001b[0mann_viz\u001b[0m\u001b[1;33m;\u001b[0m\u001b[1;33m\u001b[0m\u001b[1;33m\u001b[0m\u001b[0m\n\u001b[0;32m      2\u001b[0m \u001b[1;33m\u001b[0m\u001b[0m\n\u001b[1;32m----> 3\u001b[1;33m \u001b[0mann_viz\u001b[0m\u001b[1;33m(\u001b[0m\u001b[0mmodel_1\u001b[0m\u001b[1;33m,\u001b[0m \u001b[0mtitle\u001b[0m\u001b[1;33m=\u001b[0m\u001b[1;34m\"Model 1\"\u001b[0m\u001b[1;33m)\u001b[0m\u001b[1;33m\u001b[0m\u001b[1;33m\u001b[0m\u001b[0m\n\u001b[0m",
      "\u001b[1;32m~\\Anaconda3\\lib\\site-packages\\ann_visualizer\\visualize.py\u001b[0m in \u001b[0;36mann_viz\u001b[1;34m(model, view, filename, title)\u001b[0m\n\u001b[0;32m    204\u001b[0m         \u001b[0mg\u001b[0m\u001b[1;33m.\u001b[0m\u001b[0medge_attr\u001b[0m\u001b[1;33m.\u001b[0m\u001b[0mupdate\u001b[0m\u001b[1;33m(\u001b[0m\u001b[0marrowhead\u001b[0m\u001b[1;33m=\u001b[0m\u001b[1;34m\"none\"\u001b[0m\u001b[1;33m,\u001b[0m \u001b[0mcolor\u001b[0m\u001b[1;33m=\u001b[0m\u001b[1;34m\"#707070\"\u001b[0m\u001b[1;33m)\u001b[0m\u001b[1;33m;\u001b[0m\u001b[1;33m\u001b[0m\u001b[1;33m\u001b[0m\u001b[0m\n\u001b[0;32m    205\u001b[0m         \u001b[1;32mif\u001b[0m \u001b[0mview\u001b[0m \u001b[1;33m==\u001b[0m \u001b[1;32mTrue\u001b[0m\u001b[1;33m:\u001b[0m\u001b[1;33m\u001b[0m\u001b[1;33m\u001b[0m\u001b[0m\n\u001b[1;32m--> 206\u001b[1;33m             \u001b[0mg\u001b[0m\u001b[1;33m.\u001b[0m\u001b[0mview\u001b[0m\u001b[1;33m(\u001b[0m\u001b[1;33m)\u001b[0m\u001b[1;33m;\u001b[0m\u001b[1;33m\u001b[0m\u001b[1;33m\u001b[0m\u001b[0m\n\u001b[0m",
      "\u001b[1;32m~\\Anaconda3\\lib\\site-packages\\graphviz\\_tools.py\u001b[0m in \u001b[0;36mwrapper\u001b[1;34m(*args, **kwargs)\u001b[0m\n\u001b[0;32m    169\u001b[0m                               category=category)\n\u001b[0;32m    170\u001b[0m \u001b[1;33m\u001b[0m\u001b[0m\n\u001b[1;32m--> 171\u001b[1;33m             \u001b[1;32mreturn\u001b[0m \u001b[0mfunc\u001b[0m\u001b[1;33m(\u001b[0m\u001b[1;33m*\u001b[0m\u001b[0margs\u001b[0m\u001b[1;33m,\u001b[0m \u001b[1;33m**\u001b[0m\u001b[0mkwargs\u001b[0m\u001b[1;33m)\u001b[0m\u001b[1;33m\u001b[0m\u001b[1;33m\u001b[0m\u001b[0m\n\u001b[0m\u001b[0;32m    172\u001b[0m \u001b[1;33m\u001b[0m\u001b[0m\n\u001b[0;32m    173\u001b[0m         \u001b[1;32mreturn\u001b[0m \u001b[0mwrapper\u001b[0m\u001b[1;33m\u001b[0m\u001b[1;33m\u001b[0m\u001b[0m\n",
      "\u001b[1;32m~\\Anaconda3\\lib\\site-packages\\graphviz\\rendering.py\u001b[0m in \u001b[0;36mview\u001b[1;34m(self, filename, directory, cleanup, quiet, quiet_view)\u001b[0m\n\u001b[0;32m    183\u001b[0m             \u001b[1;32mand\u001b[0m \u001b[0mno\u001b[0m \u001b[0mway\u001b[0m \u001b[0mto\u001b[0m \u001b[0mretrieve\u001b[0m \u001b[0mthe\u001b[0m \u001b[0mapplication\u001b[0m\u001b[0;31m'\u001b[0m\u001b[0ms\u001b[0m \u001b[0mexit\u001b[0m \u001b[0mstatus\u001b[0m\u001b[1;33m.\u001b[0m\u001b[1;33m\u001b[0m\u001b[1;33m\u001b[0m\u001b[0m\n\u001b[0;32m    184\u001b[0m         \"\"\"\n\u001b[1;32m--> 185\u001b[1;33m         return self.render(filename=filename, directory=directory, view=True,\n\u001b[0m\u001b[0;32m    186\u001b[0m                            cleanup=cleanup, quiet=quiet, quiet_view=quiet_view)\n",
      "\u001b[1;32m~\\Anaconda3\\lib\\site-packages\\graphviz\\_tools.py\u001b[0m in \u001b[0;36mwrapper\u001b[1;34m(*args, **kwargs)\u001b[0m\n\u001b[0;32m    169\u001b[0m                               category=category)\n\u001b[0;32m    170\u001b[0m \u001b[1;33m\u001b[0m\u001b[0m\n\u001b[1;32m--> 171\u001b[1;33m             \u001b[1;32mreturn\u001b[0m \u001b[0mfunc\u001b[0m\u001b[1;33m(\u001b[0m\u001b[1;33m*\u001b[0m\u001b[0margs\u001b[0m\u001b[1;33m,\u001b[0m \u001b[1;33m**\u001b[0m\u001b[0mkwargs\u001b[0m\u001b[1;33m)\u001b[0m\u001b[1;33m\u001b[0m\u001b[1;33m\u001b[0m\u001b[0m\n\u001b[0m\u001b[0;32m    172\u001b[0m \u001b[1;33m\u001b[0m\u001b[0m\n\u001b[0;32m    173\u001b[0m         \u001b[1;32mreturn\u001b[0m \u001b[0mwrapper\u001b[0m\u001b[1;33m\u001b[0m\u001b[1;33m\u001b[0m\u001b[0m\n",
      "\u001b[1;32m~\\Anaconda3\\lib\\site-packages\\graphviz\\rendering.py\u001b[0m in \u001b[0;36mrender\u001b[1;34m(self, filename, directory, view, cleanup, format, renderer, formatter, neato_no_op, quiet, quiet_view, outfile, engine, raise_if_result_exists, overwrite_source)\u001b[0m\n\u001b[0;32m    120\u001b[0m         \u001b[0margs\u001b[0m\u001b[1;33m.\u001b[0m\u001b[0mappend\u001b[0m\u001b[1;33m(\u001b[0m\u001b[0mfilepath\u001b[0m\u001b[1;33m)\u001b[0m\u001b[1;33m\u001b[0m\u001b[1;33m\u001b[0m\u001b[0m\n\u001b[0;32m    121\u001b[0m \u001b[1;33m\u001b[0m\u001b[0m\n\u001b[1;32m--> 122\u001b[1;33m         \u001b[0mrendered\u001b[0m \u001b[1;33m=\u001b[0m \u001b[0mself\u001b[0m\u001b[1;33m.\u001b[0m\u001b[0m_render\u001b[0m\u001b[1;33m(\u001b[0m\u001b[1;33m*\u001b[0m\u001b[0margs\u001b[0m\u001b[1;33m,\u001b[0m \u001b[1;33m**\u001b[0m\u001b[0mkwargs\u001b[0m\u001b[1;33m)\u001b[0m\u001b[1;33m\u001b[0m\u001b[1;33m\u001b[0m\u001b[0m\n\u001b[0m\u001b[0;32m    123\u001b[0m \u001b[1;33m\u001b[0m\u001b[0m\n\u001b[0;32m    124\u001b[0m         \u001b[1;32mif\u001b[0m \u001b[0mcleanup\u001b[0m\u001b[1;33m:\u001b[0m\u001b[1;33m\u001b[0m\u001b[1;33m\u001b[0m\u001b[0m\n",
      "\u001b[1;32m~\\Anaconda3\\lib\\site-packages\\graphviz\\_tools.py\u001b[0m in \u001b[0;36mwrapper\u001b[1;34m(*args, **kwargs)\u001b[0m\n\u001b[0;32m    169\u001b[0m                               category=category)\n\u001b[0;32m    170\u001b[0m \u001b[1;33m\u001b[0m\u001b[0m\n\u001b[1;32m--> 171\u001b[1;33m             \u001b[1;32mreturn\u001b[0m \u001b[0mfunc\u001b[0m\u001b[1;33m(\u001b[0m\u001b[1;33m*\u001b[0m\u001b[0margs\u001b[0m\u001b[1;33m,\u001b[0m \u001b[1;33m**\u001b[0m\u001b[0mkwargs\u001b[0m\u001b[1;33m)\u001b[0m\u001b[1;33m\u001b[0m\u001b[1;33m\u001b[0m\u001b[0m\n\u001b[0m\u001b[0;32m    172\u001b[0m \u001b[1;33m\u001b[0m\u001b[0m\n\u001b[0;32m    173\u001b[0m         \u001b[1;32mreturn\u001b[0m \u001b[0mwrapper\u001b[0m\u001b[1;33m\u001b[0m\u001b[1;33m\u001b[0m\u001b[0m\n",
      "\u001b[1;32m~\\Anaconda3\\lib\\site-packages\\graphviz\\backend\\rendering.py\u001b[0m in \u001b[0;36mrender\u001b[1;34m(engine, format, filepath, renderer, formatter, neato_no_op, quiet, outfile, raise_if_result_exists, overwrite_filepath)\u001b[0m\n\u001b[0;32m    322\u001b[0m     \u001b[0mcmd\u001b[0m \u001b[1;33m+=\u001b[0m \u001b[0margs\u001b[0m\u001b[1;33m\u001b[0m\u001b[1;33m\u001b[0m\u001b[0m\n\u001b[0;32m    323\u001b[0m \u001b[1;33m\u001b[0m\u001b[0m\n\u001b[1;32m--> 324\u001b[1;33m     execute.run_check(cmd,\n\u001b[0m\u001b[0;32m    325\u001b[0m                       \u001b[0mcwd\u001b[0m\u001b[1;33m=\u001b[0m\u001b[0mfilepath\u001b[0m\u001b[1;33m.\u001b[0m\u001b[0mparent\u001b[0m \u001b[1;32mif\u001b[0m \u001b[0mfilepath\u001b[0m\u001b[1;33m.\u001b[0m\u001b[0mparent\u001b[0m\u001b[1;33m.\u001b[0m\u001b[0mparts\u001b[0m \u001b[1;32melse\u001b[0m \u001b[1;32mNone\u001b[0m\u001b[1;33m,\u001b[0m\u001b[1;33m\u001b[0m\u001b[1;33m\u001b[0m\u001b[0m\n\u001b[0;32m    326\u001b[0m                       \u001b[0mquiet\u001b[0m\u001b[1;33m=\u001b[0m\u001b[0mquiet\u001b[0m\u001b[1;33m,\u001b[0m\u001b[1;33m\u001b[0m\u001b[1;33m\u001b[0m\u001b[0m\n",
      "\u001b[1;32m~\\Anaconda3\\lib\\site-packages\\graphviz\\backend\\execute.py\u001b[0m in \u001b[0;36mrun_check\u001b[1;34m(cmd, input_lines, encoding, quiet, **kwargs)\u001b[0m\n\u001b[0;32m     82\u001b[0m     \u001b[1;32mexcept\u001b[0m \u001b[0mOSError\u001b[0m \u001b[1;32mas\u001b[0m \u001b[0me\u001b[0m\u001b[1;33m:\u001b[0m\u001b[1;33m\u001b[0m\u001b[1;33m\u001b[0m\u001b[0m\n\u001b[0;32m     83\u001b[0m         \u001b[1;32mif\u001b[0m \u001b[0me\u001b[0m\u001b[1;33m.\u001b[0m\u001b[0merrno\u001b[0m \u001b[1;33m==\u001b[0m \u001b[0merrno\u001b[0m\u001b[1;33m.\u001b[0m\u001b[0mENOENT\u001b[0m\u001b[1;33m:\u001b[0m\u001b[1;33m\u001b[0m\u001b[1;33m\u001b[0m\u001b[0m\n\u001b[1;32m---> 84\u001b[1;33m             \u001b[1;32mraise\u001b[0m \u001b[0mExecutableNotFound\u001b[0m\u001b[1;33m(\u001b[0m\u001b[0mcmd\u001b[0m\u001b[1;33m)\u001b[0m \u001b[1;32mfrom\u001b[0m \u001b[0me\u001b[0m\u001b[1;33m\u001b[0m\u001b[1;33m\u001b[0m\u001b[0m\n\u001b[0m\u001b[0;32m     85\u001b[0m         \u001b[1;32mraise\u001b[0m\u001b[1;33m\u001b[0m\u001b[1;33m\u001b[0m\u001b[0m\n\u001b[0;32m     86\u001b[0m \u001b[1;33m\u001b[0m\u001b[0m\n",
      "\u001b[1;31mExecutableNotFound\u001b[0m: failed to execute WindowsPath('dot'), make sure the Graphviz executables are on your systems' PATH"
     ]
    }
   ],
   "source": [
    "from ann_visualizer.visualize import ann_viz;\n",
    "\n",
    "ann_viz(model_1, title=\"Model 1\")"
   ]
  },
  {
   "cell_type": "code",
   "execution_count": 19,
   "metadata": {},
   "outputs": [
    {
     "data": {
      "text/html": [
       "\n",
       "      <iframe id=\"tensorboard-frame-da0dae206ee50df4\" width=\"100%\" height=\"800\" frameborder=\"0\">\n",
       "      </iframe>\n",
       "      <script>\n",
       "        (function() {\n",
       "          const frame = document.getElementById(\"tensorboard-frame-da0dae206ee50df4\");\n",
       "          const url = new URL(\"/\", window.location);\n",
       "          const port = 6006;\n",
       "          if (port) {\n",
       "            url.port = port;\n",
       "          }\n",
       "          frame.src = url;\n",
       "        })();\n",
       "      </script>\n",
       "    "
      ],
      "text/plain": [
       "<IPython.core.display.HTML object>"
      ]
     },
     "metadata": {},
     "output_type": "display_data"
    }
   ],
   "source": [
    "%load_ext tensorboard\n",
    "%tensorboard --logdir logs"
   ]
  },
  {
   "cell_type": "code",
   "execution_count": 15,
   "metadata": {
    "ExecuteTime": {
     "end_time": "2020-10-15T12:18:32.281367Z",
     "start_time": "2020-10-15T12:18:32.245874Z"
    }
   },
   "outputs": [],
   "source": [
    "model_1.compile(loss='binary_crossentropy', optimizer='adam', metrics=['accuracy'])"
   ]
  },
  {
   "cell_type": "code",
   "execution_count": 16,
   "metadata": {
    "ExecuteTime": {
     "end_time": "2020-10-15T13:06:22.586710Z",
     "start_time": "2020-10-15T12:18:32.856938Z"
    },
    "scrolled": false
   },
   "outputs": [
    {
     "name": "stdout",
     "output_type": "stream",
     "text": [
      "Epoch 1/10\n",
      "83997/83997 [==============================] - 115s 1ms/step - loss: 0.3432 - accuracy: 0.8580 - val_loss: 0.3260 - val_accuracy: 0.8645\n",
      "Epoch 2/10\n",
      "83997/83997 [==============================] - 109s 1ms/step - loss: 0.3276 - accuracy: 0.8636 - val_loss: 0.3209 - val_accuracy: 0.8667\n",
      "Epoch 3/10\n",
      "83997/83997 [==============================] - 131s 2ms/step - loss: 0.3258 - accuracy: 0.8646 - val_loss: 0.3205 - val_accuracy: 0.8670\n",
      "Epoch 4/10\n",
      "83997/83997 [==============================] - 135s 2ms/step - loss: 0.3249 - accuracy: 0.8650 - val_loss: 0.3273 - val_accuracy: 0.8636\n",
      "Epoch 5/10\n",
      "83997/83997 [==============================] - 135s 2ms/step - loss: 0.3242 - accuracy: 0.8653 - val_loss: 0.3225 - val_accuracy: 0.8656\n",
      "Epoch 6/10\n",
      "83997/83997 [==============================] - 136s 2ms/step - loss: 0.3236 - accuracy: 0.8656 - val_loss: 0.3249 - val_accuracy: 0.8630\n",
      "Epoch 7/10\n",
      "83997/83997 [==============================] - 104s 1ms/step - loss: 0.3231 - accuracy: 0.8658 - val_loss: 0.3191 - val_accuracy: 0.8673\n",
      "Epoch 8/10\n",
      "83997/83997 [==============================] - 73s 870us/step - loss: 0.3228 - accuracy: 0.8659 - val_loss: 0.3186 - val_accuracy: 0.8678\n",
      "Epoch 9/10\n",
      "83997/83997 [==============================] - 73s 870us/step - loss: 0.3222 - accuracy: 0.8661 - val_loss: 0.3246 - val_accuracy: 0.8651\n",
      "Epoch 10/10\n",
      "83997/83997 [==============================] - 75s 887us/step - loss: 0.3218 - accuracy: 0.8663 - val_loss: 0.3195 - val_accuracy: 0.8677\n"
     ]
    }
   ],
   "source": [
    "results1 = model_1.fit(X_train, y_train, epochs=10, batch_size=32, validation_split=0.1)"
   ]
  },
  {
   "cell_type": "code",
   "execution_count": 17,
   "metadata": {
    "ExecuteTime": {
     "end_time": "2020-10-15T14:37:36.625247Z",
     "start_time": "2020-10-15T14:37:36.324406Z"
    }
   },
   "outputs": [
    {
     "data": {
      "image/png": "[encoded data removed]",
      "text/plain": [
       "<Figure size 640x480 with 1 Axes>"
      ]
     },
     "metadata": {},
     "output_type": "display_data"
    },
    {
     "data": {
      "image/png": "[encoded data removed]",
      "text/plain": [
       "<Figure size 640x480 with 1 Axes>"
      ]
     },
     "metadata": {},
     "output_type": "display_data"
    }
   ],
   "source": [
    "visualize_training_results(results1)"
   ]
  },
  {
   "cell_type": "code",
   "execution_count": 18,
   "metadata": {
    "ExecuteTime": {
     "end_time": "2020-10-15T14:46:51.476780Z",
     "start_time": "2020-10-15T14:46:34.505162Z"
    }
   },
   "outputs": [
    {
     "name": "stdout",
     "output_type": "stream",
     "text": [
      "31110/31110 [==============================] - 18s 568us/step\n"
     ]
    }
   ],
   "source": [
    "y_pred_m1 = model_1.predict(X_test)\n",
    "y_pred_m1 =(y_pred_m1 > 0.5)"
   ]
  },
  {
   "cell_type": "code",
   "execution_count": 19,
   "metadata": {
    "ExecuteTime": {
     "end_time": "2020-10-15T14:47:05.172628Z",
     "start_time": "2020-10-15T14:47:01.147235Z"
    }
   },
   "outputs": [
    {
     "name": "stdout",
     "output_type": "stream",
     "text": [
      "[[601485  24560]\n",
      " [107286 262186]]\n",
      "------------------\n",
      "              precision    recall  f1-score   support\n",
      "\n",
      "         0.0       0.85      0.96      0.90    626045\n",
      "         1.0       0.91      0.71      0.80    369472\n",
      "\n",
      "    accuracy                           0.87    995517\n",
      "   macro avg       0.88      0.84      0.85    995517\n",
      "weighted avg       0.87      0.87      0.86    995517\n",
      "\n"
     ]
    }
   ],
   "source": [
    "cm_m1 = confusion_matrix(y_test, y_pred_m1)\n",
    "print(cm_m1)\n",
    "print(\"------------------\")\n",
    "print(classification_report(y_test, y_pred_m1))"
   ]
  },
  {
   "cell_type": "code",
   "execution_count": 20,
   "metadata": {
    "ExecuteTime": {
     "end_time": "2020-10-15T14:50:15.205077Z",
     "start_time": "2020-10-15T14:50:15.036081Z"
    }
   },
   "outputs": [
    {
     "data": {
      "image/png": "[encoded data removed]",
      "text/plain": [
       "<Figure size 800x700 with 2 Axes>"
      ]
     },
     "metadata": {},
     "output_type": "display_data"
    }
   ],
   "source": [
    "conf_matrix(cm_m1)"
   ]
  },
  {
   "cell_type": "code",
   "execution_count": 21,
   "metadata": {
    "ExecuteTime": {
     "end_time": "2020-10-15T14:47:35.913159Z",
     "start_time": "2020-10-15T14:47:34.530973Z"
    },
    "scrolled": true
   },
   "outputs": [
    {
     "name": "stdout",
     "output_type": "stream",
     "text": [
      "Accuracy: 86.76 %\n",
      "Precision score: 91.43 %\n",
      "Recall score: 70.96 %\n",
      "F1 score: 79.91 %\n"
     ]
    }
   ],
   "source": [
    "model_metrics(y_test, y_pred_m1)"
   ]
  },
  {
   "cell_type": "markdown",
   "metadata": {
    "ExecuteTime": {
     "end_time": "2020-10-15T14:50:45.973943Z",
     "start_time": "2020-10-15T14:50:45.970118Z"
    }
   },
   "source": [
    "========================================================================================="
   ]
  },
  {
   "cell_type": "markdown",
   "metadata": {
    "ExecuteTime": {
     "end_time": "2020-10-15T15:00:23.710547Z",
     "start_time": "2020-10-15T15:00:23.706458Z"
    }
   },
   "source": [
    "<b>FROM HERE ONWARDS THE MODELS HAVE A DIFFERENT SET OF FEATURES WITH ALL THE MONTHS BEING DROPPED. AFTER DOING A FEATURE SELECTION IT WAS CLEAR THAT THESE WOULD NOT HAVE ANY RELEVANCE IN THE MODEL AND THEREFORE WOULD CAUSE NOISE. "
   ]
  },
  {
   "cell_type": "markdown",
   "metadata": {
    "ExecuteTime": {
     "end_time": "2020-10-15T14:50:45.973943Z",
     "start_time": "2020-10-15T14:50:45.970118Z"
    }
   },
   "source": [
    "========================================================================================="
   ]
  },
  {
   "cell_type": "code",
   "execution_count": 22,
   "metadata": {
    "ExecuteTime": {
     "end_time": "2020-10-14T23:05:23.052570Z",
     "start_time": "2020-10-14T23:05:19.038556Z"
    }
   },
   "outputs": [],
   "source": [
    "y = df['FLIGHT_STATUS']\n",
    "X = df.drop(['FLIGHT_STATUS', 'DEP_DELAY', 'MONTH_2', 'MONTH_3', 'MONTH_4', 'MONTH_5', 'MONTH_6', 'MONTH_7', 'MONTH_8', 'MONTH_9', 'MONTH_10', 'MONTH_11', 'MONTH_12'], axis=1)"
   ]
  },
  {
   "cell_type": "markdown",
   "metadata": {},
   "source": [
    "## Model 2"
   ]
  },
  {
   "cell_type": "code",
   "execution_count": 23,
   "metadata": {
    "ExecuteTime": {
     "end_time": "2020-10-14T23:12:57.121546Z",
     "start_time": "2020-10-14T23:12:57.065749Z"
    }
   },
   "outputs": [
    {
     "name": "stdout",
     "output_type": "stream",
     "text": [
      "Model: \"sequential_1\"\n",
      "_________________________________________________________________\n",
      " Layer (type)                Output Shape              Param #   \n",
      "=================================================================\n",
      " dense_4 (Dense)             (None, 50)                3200      \n",
      "                                                                 \n",
      " dense_5 (Dense)             (None, 30)                1530      \n",
      "                                                                 \n",
      " dense_6 (Dense)             (None, 10)                310       \n",
      "                                                                 \n",
      " dense_7 (Dense)             (None, 1)                 11        \n",
      "                                                                 \n",
      "=================================================================\n",
      "Total params: 5,051\n",
      "Trainable params: 5,051\n",
      "Non-trainable params: 0\n",
      "_________________________________________________________________\n"
     ]
    }
   ],
   "source": [
    "model_2 = Sequential()\n",
    "\n",
    "model_2.add(Dense(50, activation='relu', input_shape=(63,)))\n",
    "\n",
    "model_2.add(Dense(30, activation='relu'))\n",
    "\n",
    "model_2.add(Dense(10, activation='relu'))\n",
    "\n",
    "model_2.add(Dense(1, activation='sigmoid'))\n",
    "\n",
    "model_2.summary()"
   ]
  },
  {
   "cell_type": "code",
   "execution_count": 24,
   "metadata": {
    "ExecuteTime": {
     "end_time": "2020-10-14T23:12:58.022908Z",
     "start_time": "2020-10-14T23:12:57.984190Z"
    }
   },
   "outputs": [],
   "source": [
    "model_2.compile(loss='binary_crossentropy', optimizer='adam', metrics=['accuracy'])"
   ]
  },
  {
   "cell_type": "code",
   "execution_count": 25,
   "metadata": {
    "ExecuteTime": {
     "end_time": "2020-10-14T23:45:06.436178Z",
     "start_time": "2020-10-14T23:12:58.581281Z"
    },
    "scrolled": false
   },
   "outputs": [
    {
     "name": "stdout",
     "output_type": "stream",
     "text": [
      "Epoch 1/10\n",
      "83997/83997 [==============================] - 75s 889us/step - loss: 0.3393 - accuracy: 0.8588 - val_loss: 0.3335 - val_accuracy: 0.8593\n",
      "Epoch 2/10\n",
      "83997/83997 [==============================] - 72s 855us/step - loss: 0.3276 - accuracy: 0.8639 - val_loss: 0.3253 - val_accuracy: 0.8634\n",
      "Epoch 3/10\n",
      "83997/83997 [==============================] - 73s 875us/step - loss: 0.3257 - accuracy: 0.8647 - val_loss: 0.3204 - val_accuracy: 0.8675\n",
      "Epoch 4/10\n",
      "83997/83997 [==============================] - 74s 876us/step - loss: 0.3245 - accuracy: 0.8651 - val_loss: 0.3278 - val_accuracy: 0.8655\n",
      "Epoch 5/10\n",
      "83997/83997 [==============================] - 73s 866us/step - loss: 0.3236 - accuracy: 0.8656 - val_loss: 0.3197 - val_accuracy: 0.8680\n",
      "Epoch 6/10\n",
      "83997/83997 [==============================] - 73s 869us/step - loss: 0.3230 - accuracy: 0.8658 - val_loss: 0.3210 - val_accuracy: 0.8676\n",
      "Epoch 7/10\n",
      "83997/83997 [==============================] - 76s 900us/step - loss: 0.3225 - accuracy: 0.8660 - val_loss: 0.3200 - val_accuracy: 0.8670\n",
      "Epoch 8/10\n",
      "83997/83997 [==============================] - 74s 883us/step - loss: 0.3220 - accuracy: 0.8661 - val_loss: 0.3264 - val_accuracy: 0.8644\n",
      "Epoch 9/10\n",
      "83997/83997 [==============================] - 74s 879us/step - loss: 0.3216 - accuracy: 0.8663 - val_loss: 0.3216 - val_accuracy: 0.8656\n",
      "Epoch 10/10\n",
      "83997/83997 [==============================] - 73s 868us/step - loss: 0.3213 - accuracy: 0.8665 - val_loss: 0.3216 - val_accuracy: 0.8661\n"
     ]
    }
   ],
   "source": [
    "results2 = model_2.fit(X_train, y_train, epochs=10, batch_size=32, validation_split=0.1)"
   ]
  },
  {
   "cell_type": "code",
   "execution_count": 26,
   "metadata": {
    "ExecuteTime": {
     "end_time": "2020-10-15T14:37:45.022257Z",
     "start_time": "2020-10-15T14:37:44.692480Z"
    }
   },
   "outputs": [
    {
     "data": {
      "image/png": "[encoded data removed]",
      "text/plain": [
       "<Figure size 640x480 with 1 Axes>"
      ]
     },
     "metadata": {},
     "output_type": "display_data"
    },
    {
     "data": {
      "image/png": "[encoded data removed]",
      "text/plain": [
       "<Figure size 640x480 with 1 Axes>"
      ]
     },
     "metadata": {},
     "output_type": "display_data"
    }
   ],
   "source": [
    "visualize_training_results(results2)"
   ]
  },
  {
   "cell_type": "code",
   "execution_count": 27,
   "metadata": {
    "ExecuteTime": {
     "end_time": "2020-10-15T14:45:50.259628Z",
     "start_time": "2020-10-15T14:45:35.281655Z"
    }
   },
   "outputs": [
    {
     "name": "stdout",
     "output_type": "stream",
     "text": [
      "31110/31110 [==============================] - 18s 572us/step\n"
     ]
    }
   ],
   "source": [
    "y_pred_m2 = model_2.predict(X_test)\n",
    "y_pred_m2 =(y_pred_m2 > 0.5)"
   ]
  },
  {
   "cell_type": "code",
   "execution_count": 28,
   "metadata": {
    "ExecuteTime": {
     "end_time": "2020-10-15T14:45:55.802995Z",
     "start_time": "2020-10-15T14:45:51.763679Z"
    }
   },
   "outputs": [
    {
     "name": "stdout",
     "output_type": "stream",
     "text": [
      "[[605166  20879]\n",
      " [112691 256781]]\n",
      "------------------\n",
      "              precision    recall  f1-score   support\n",
      "\n",
      "         0.0       0.84      0.97      0.90    626045\n",
      "         1.0       0.92      0.69      0.79    369472\n",
      "\n",
      "    accuracy                           0.87    995517\n",
      "   macro avg       0.88      0.83      0.85    995517\n",
      "weighted avg       0.87      0.87      0.86    995517\n",
      "\n"
     ]
    }
   ],
   "source": [
    "cm_m2 = confusion_matrix(y_test, y_pred_m2)\n",
    "print(cm_m2)\n",
    "print(\"------------------\")\n",
    "print(classification_report(y_test, y_pred_m2))"
   ]
  },
  {
   "cell_type": "code",
   "execution_count": 29,
   "metadata": {
    "ExecuteTime": {
     "end_time": "2020-10-15T14:45:58.087428Z",
     "start_time": "2020-10-15T14:45:57.919496Z"
    }
   },
   "outputs": [
    {
     "data": {
      "image/png": "[encoded data removed]",
      "text/plain": [
       "<Figure size 800x700 with 2 Axes>"
      ]
     },
     "metadata": {},
     "output_type": "display_data"
    }
   ],
   "source": [
    "conf_matrix(cm_m2)"
   ]
  },
  {
   "cell_type": "code",
   "execution_count": 30,
   "metadata": {
    "ExecuteTime": {
     "end_time": "2020-10-15T14:56:05.158367Z",
     "start_time": "2020-10-15T14:56:03.656387Z"
    }
   },
   "outputs": [
    {
     "name": "stdout",
     "output_type": "stream",
     "text": [
      "Accuracy: 86.58 %\n",
      "Precision score: 92.48 %\n",
      "Recall score: 69.5 %\n",
      "F1 score: 79.36 %\n"
     ]
    }
   ],
   "source": [
    "model_metrics(y_test, y_pred_m2)"
   ]
  },
  {
   "cell_type": "markdown",
   "metadata": {
    "ExecuteTime": {
     "end_time": "2020-10-15T14:50:45.973943Z",
     "start_time": "2020-10-15T14:50:45.970118Z"
    }
   },
   "source": [
    "========================================================================================="
   ]
  },
  {
   "cell_type": "markdown",
   "metadata": {
    "ExecuteTime": {
     "end_time": "2020-10-15T14:50:45.973943Z",
     "start_time": "2020-10-15T14:50:45.970118Z"
    }
   },
   "source": [
    "========================================================================================="
   ]
  },
  {
   "cell_type": "markdown",
   "metadata": {},
   "source": [
    "## Model 3"
   ]
  },
  {
   "cell_type": "code",
   "execution_count": 31,
   "metadata": {
    "ExecuteTime": {
     "end_time": "2020-10-14T23:54:17.935112Z",
     "start_time": "2020-10-14T23:54:17.876978Z"
    }
   },
   "outputs": [
    {
     "name": "stdout",
     "output_type": "stream",
     "text": [
      "Model: \"sequential_2\"\n",
      "_________________________________________________________________\n",
      " Layer (type)                Output Shape              Param #   \n",
      "=================================================================\n",
      " dense_8 (Dense)             (None, 50)                3200      \n",
      "                                                                 \n",
      " dense_9 (Dense)             (None, 30)                1530      \n",
      "                                                                 \n",
      " dense_10 (Dense)            (None, 15)                465       \n",
      "                                                                 \n",
      " dense_11 (Dense)            (None, 5)                 80        \n",
      "                                                                 \n",
      " dense_12 (Dense)            (None, 1)                 6         \n",
      "                                                                 \n",
      "=================================================================\n",
      "Total params: 5,281\n",
      "Trainable params: 5,281\n",
      "Non-trainable params: 0\n",
      "_________________________________________________________________\n"
     ]
    }
   ],
   "source": [
    "model_3 = Sequential()\n",
    "\n",
    "model_3.add(Dense(50, activation='relu', input_shape=(63,)))\n",
    "\n",
    "model_3.add(Dense(30, activation='relu'))\n",
    "\n",
    "model_3.add(Dense(15, activation='relu'))\n",
    "\n",
    "model_3.add(Dense(5, activation='relu'))\n",
    "\n",
    "model_3.add(Dense(1, activation='sigmoid'))\n",
    "\n",
    "model_3.summary()"
   ]
  },
  {
   "cell_type": "code",
   "execution_count": 32,
   "metadata": {
    "ExecuteTime": {
     "end_time": "2020-10-14T23:54:18.557240Z",
     "start_time": "2020-10-14T23:54:18.524183Z"
    }
   },
   "outputs": [],
   "source": [
    "model_3.compile(loss='binary_crossentropy', optimizer='adam', metrics=['accuracy'])"
   ]
  },
  {
   "cell_type": "code",
   "execution_count": 33,
   "metadata": {
    "ExecuteTime": {
     "end_time": "2020-10-14T23:59:06.689222Z",
     "start_time": "2020-10-14T23:54:19.084290Z"
    }
   },
   "outputs": [
    {
     "name": "stdout",
     "output_type": "stream",
     "text": [
      "Epoch 1/2\n",
      "83997/83997 [==============================] - 77s 910us/step - loss: 0.3497 - accuracy: 0.8576 - val_loss: 0.3274 - val_accuracy: 0.8648\n",
      "Epoch 2/2\n",
      "83997/83997 [==============================] - 76s 903us/step - loss: 0.3281 - accuracy: 0.8636 - val_loss: 0.3240 - val_accuracy: 0.8660\n"
     ]
    }
   ],
   "source": [
    "results3 = model_3.fit(X_train, y_train, epochs=2, batch_size=32, validation_split=0.1)"
   ]
  },
  {
   "cell_type": "code",
   "execution_count": 36,
   "metadata": {
    "ExecuteTime": {
     "end_time": "2020-10-15T15:10:10.267244Z",
     "start_time": "2020-10-15T15:09:54.693888Z"
    }
   },
   "outputs": [
    {
     "name": "stdout",
     "output_type": "stream",
     "text": [
      "31110/31110 [==============================] - 18s 582us/step\n"
     ]
    }
   ],
   "source": [
    "y_pred_m3 = model_3.predict(X_test)\n",
    "y_pred_m3 =(y_pred_m3>0.5)"
   ]
  },
  {
   "cell_type": "code",
   "execution_count": 37,
   "metadata": {
    "ExecuteTime": {
     "end_time": "2020-10-15T15:10:14.677168Z",
     "start_time": "2020-10-15T15:10:10.596212Z"
    }
   },
   "outputs": [
    {
     "name": "stdout",
     "output_type": "stream",
     "text": [
      "[[595805  30240]\n",
      " [103002 266470]]\n",
      "------------------\n",
      "              precision    recall  f1-score   support\n",
      "\n",
      "         0.0       0.85      0.95      0.90    626045\n",
      "         1.0       0.90      0.72      0.80    369472\n",
      "\n",
      "    accuracy                           0.87    995517\n",
      "   macro avg       0.88      0.84      0.85    995517\n",
      "weighted avg       0.87      0.87      0.86    995517\n",
      "\n"
     ]
    }
   ],
   "source": [
    "cm_m3 = confusion_matrix(y_test, y_pred_m3)\n",
    "print(cm_m3)\n",
    "print(\"------------------\")\n",
    "print(classification_report(y_test, y_pred_m3))"
   ]
  },
  {
   "cell_type": "code",
   "execution_count": 38,
   "metadata": {
    "ExecuteTime": {
     "end_time": "2020-10-15T15:10:15.128252Z",
     "start_time": "2020-10-15T15:10:14.975060Z"
    }
   },
   "outputs": [
    {
     "data": {
      "image/png": "[encoded data removed]",
      "text/plain": [
       "<Figure size 800x700 with 2 Axes>"
      ]
     },
     "metadata": {},
     "output_type": "display_data"
    }
   ],
   "source": [
    "conf_matrix(cm_m3)"
   ]
  },
  {
   "cell_type": "code",
   "execution_count": 39,
   "metadata": {
    "ExecuteTime": {
     "end_time": "2020-10-15T15:10:16.791369Z",
     "start_time": "2020-10-15T15:10:15.428775Z"
    }
   },
   "outputs": [
    {
     "name": "stdout",
     "output_type": "stream",
     "text": [
      "Accuracy: 86.62 %\n",
      "Precision score: 89.81 %\n",
      "Recall score: 72.12 %\n",
      "F1 score: 80.0 %\n"
     ]
    }
   ],
   "source": [
    "model_metrics(y_test, y_pred_m3)"
   ]
  },
  {
   "cell_type": "markdown",
   "metadata": {
    "ExecuteTime": {
     "end_time": "2020-10-15T14:50:45.973943Z",
     "start_time": "2020-10-15T14:50:45.970118Z"
    }
   },
   "source": [
    "========================================================================================="
   ]
  },
  {
   "cell_type": "markdown",
   "metadata": {
    "ExecuteTime": {
     "end_time": "2020-10-15T14:50:45.973943Z",
     "start_time": "2020-10-15T14:50:45.970118Z"
    }
   },
   "source": [
    "========================================================================================="
   ]
  },
  {
   "cell_type": "markdown",
   "metadata": {},
   "source": [
    "## Model 4"
   ]
  },
  {
   "cell_type": "code",
   "execution_count": 40,
   "metadata": {
    "ExecuteTime": {
     "end_time": "2020-10-15T00:05:01.524212Z",
     "start_time": "2020-10-15T00:05:01.472887Z"
    }
   },
   "outputs": [
    {
     "name": "stdout",
     "output_type": "stream",
     "text": [
      "Model: \"sequential_3\"\n",
      "_________________________________________________________________\n",
      " Layer (type)                Output Shape              Param #   \n",
      "=================================================================\n",
      " dense_13 (Dense)            (None, 50)                3200      \n",
      "                                                                 \n",
      " dense_14 (Dense)            (None, 30)                1530      \n",
      "                                                                 \n",
      " dense_15 (Dense)            (None, 15)                465       \n",
      "                                                                 \n",
      " dense_16 (Dense)            (None, 5)                 80        \n",
      "                                                                 \n",
      " dense_17 (Dense)            (None, 1)                 6         \n",
      "                                                                 \n",
      "=================================================================\n",
      "Total params: 5,281\n",
      "Trainable params: 5,281\n",
      "Non-trainable params: 0\n",
      "_________________________________________________________________\n"
     ]
    }
   ],
   "source": [
    "model_4 = Sequential()\n",
    "\n",
    "model_4.add(Dense(50, activation='tanh', input_shape=(63,)))\n",
    "\n",
    "model_4.add(Dense(30, activation='tanh'))\n",
    "\n",
    "model_4.add(Dense(15, activation='tanh'))\n",
    "\n",
    "model_4.add(Dense(5, activation='relu'))\n",
    "\n",
    "model_4.add(Dense(1, activation='sigmoid'))\n",
    "\n",
    "model_4.summary()"
   ]
  },
  {
   "cell_type": "code",
   "execution_count": 41,
   "metadata": {
    "ExecuteTime": {
     "end_time": "2020-10-15T00:05:04.012034Z",
     "start_time": "2020-10-15T00:05:03.980706Z"
    }
   },
   "outputs": [],
   "source": [
    "model_4.compile(loss='binary_crossentropy', optimizer='adam', metrics=['accuracy'])"
   ]
  },
  {
   "cell_type": "code",
   "execution_count": 42,
   "metadata": {
    "ExecuteTime": {
     "end_time": "2020-10-15T00:09:49.857937Z",
     "start_time": "2020-10-15T00:05:04.355697Z"
    }
   },
   "outputs": [
    {
     "name": "stdout",
     "output_type": "stream",
     "text": [
      "Epoch 1/2\n",
      "83997/83997 [==============================] - 75s 885us/step - loss: 0.3660 - accuracy: 0.8532 - val_loss: 0.3557 - val_accuracy: 0.8559\n",
      "Epoch 2/2\n",
      "83997/83997 [==============================] - 75s 896us/step - loss: 0.3513 - accuracy: 0.8571 - val_loss: 0.3385 - val_accuracy: 0.8644\n"
     ]
    }
   ],
   "source": [
    "results4 = model_4.fit(X_train, y_train, epochs=2, batch_size=32, validation_split=0.1)"
   ]
  },
  {
   "cell_type": "code",
   "execution_count": 43,
   "metadata": {
    "ExecuteTime": {
     "end_time": "2020-10-15T15:05:32.972805Z",
     "start_time": "2020-10-15T15:05:15.285792Z"
    }
   },
   "outputs": [
    {
     "name": "stdout",
     "output_type": "stream",
     "text": [
      "31110/31110 [==============================] - 19s 599us/step\n"
     ]
    }
   ],
   "source": [
    "y_pred_m4 = model_4.predict(X_test)\n",
    "y_pred_m4 =(y_pred_m4>0.5)"
   ]
  },
  {
   "cell_type": "code",
   "execution_count": 44,
   "metadata": {
    "ExecuteTime": {
     "end_time": "2020-10-15T15:05:43.942945Z",
     "start_time": "2020-10-15T15:05:39.290650Z"
    }
   },
   "outputs": [
    {
     "name": "stdout",
     "output_type": "stream",
     "text": [
      "[[590947  35098]\n",
      " [ 99582 269890]]\n",
      "------------------\n",
      "              precision    recall  f1-score   support\n",
      "\n",
      "         0.0       0.86      0.94      0.90    626045\n",
      "         1.0       0.88      0.73      0.80    369472\n",
      "\n",
      "    accuracy                           0.86    995517\n",
      "   macro avg       0.87      0.84      0.85    995517\n",
      "weighted avg       0.87      0.86      0.86    995517\n",
      "\n"
     ]
    }
   ],
   "source": [
    "cm_m4 = confusion_matrix(y_test, y_pred_m4)\n",
    "print(cm_m4)\n",
    "print(\"------------------\")\n",
    "print(classification_report(y_test, y_pred_m4))"
   ]
  },
  {
   "cell_type": "code",
   "execution_count": 45,
   "metadata": {
    "ExecuteTime": {
     "end_time": "2020-10-15T15:05:55.702147Z",
     "start_time": "2020-10-15T15:05:55.528398Z"
    }
   },
   "outputs": [
    {
     "data": {
      "image/png": "[encoded data removed]",
      "text/plain": [
       "<Figure size 800x700 with 2 Axes>"
      ]
     },
     "metadata": {},
     "output_type": "display_data"
    }
   ],
   "source": [
    "conf_matrix(cm_m4)"
   ]
  },
  {
   "cell_type": "code",
   "execution_count": 46,
   "metadata": {
    "ExecuteTime": {
     "end_time": "2020-10-15T15:06:15.980245Z",
     "start_time": "2020-10-15T15:06:14.604236Z"
    }
   },
   "outputs": [
    {
     "name": "stdout",
     "output_type": "stream",
     "text": [
      "Accuracy: 86.47 %\n",
      "Precision score: 88.49 %\n",
      "Recall score: 73.05 %\n",
      "F1 score: 80.03 %\n"
     ]
    }
   ],
   "source": [
    "model_metrics(y_test, y_pred_m4)"
   ]
  },
  {
   "cell_type": "markdown",
   "metadata": {
    "ExecuteTime": {
     "end_time": "2020-10-15T14:50:45.973943Z",
     "start_time": "2020-10-15T14:50:45.970118Z"
    }
   },
   "source": [
    "========================================================================================="
   ]
  },
  {
   "cell_type": "markdown",
   "metadata": {
    "ExecuteTime": {
     "end_time": "2020-10-15T14:50:45.973943Z",
     "start_time": "2020-10-15T14:50:45.970118Z"
    }
   },
   "source": [
    "========================================================================================="
   ]
  },
  {
   "cell_type": "markdown",
   "metadata": {},
   "source": [
    "## Model 5"
   ]
  },
  {
   "cell_type": "code",
   "execution_count": 47,
   "metadata": {
    "ExecuteTime": {
     "end_time": "2020-10-15T00:23:42.050893Z",
     "start_time": "2020-10-15T00:23:41.997950Z"
    }
   },
   "outputs": [
    {
     "name": "stdout",
     "output_type": "stream",
     "text": [
      "Model: \"sequential_4\"\n",
      "_________________________________________________________________\n",
      " Layer (type)                Output Shape              Param #   \n",
      "=================================================================\n",
      " dense_18 (Dense)            (None, 50)                3200      \n",
      "                                                                 \n",
      " dense_19 (Dense)            (None, 30)                1530      \n",
      "                                                                 \n",
      " dense_20 (Dense)            (None, 15)                465       \n",
      "                                                                 \n",
      " dense_21 (Dense)            (None, 5)                 80        \n",
      "                                                                 \n",
      " dense_22 (Dense)            (None, 1)                 6         \n",
      "                                                                 \n",
      "=================================================================\n",
      "Total params: 5,281\n",
      "Trainable params: 5,281\n",
      "Non-trainable params: 0\n",
      "_________________________________________________________________\n"
     ]
    }
   ],
   "source": [
    "model_5 = Sequential()\n",
    "\n",
    "model_5.add(Dense(50, activation='tanh', input_shape=(63,)))\n",
    "\n",
    "model_5.add(Dense(30, activation='tanh'))\n",
    "\n",
    "model_5.add(Dense(15, activation='tanh'))\n",
    "\n",
    "model_5.add(Dense(5, activation='relu'))\n",
    "\n",
    "model_5.add(Dense(1, activation='sigmoid'))\n",
    "\n",
    "model_5.summary()"
   ]
  },
  {
   "cell_type": "code",
   "execution_count": 48,
   "metadata": {
    "ExecuteTime": {
     "end_time": "2020-10-15T00:23:53.858142Z",
     "start_time": "2020-10-15T00:23:53.824545Z"
    }
   },
   "outputs": [],
   "source": [
    "model_5.compile(loss='binary_crossentropy', optimizer='adam', metrics=['accuracy'])"
   ]
  },
  {
   "cell_type": "code",
   "execution_count": 49,
   "metadata": {
    "ExecuteTime": {
     "end_time": "2020-10-15T07:43:39.250446Z",
     "start_time": "2020-10-15T00:24:14.077675Z"
    }
   },
   "outputs": [
    {
     "name": "stdout",
     "output_type": "stream",
     "text": [
      "Epoch 1/25\n",
      "83997/83997 [==============================] - 76s 893us/step - loss: 0.3601 - accuracy: 0.8528 - val_loss: 0.3693 - val_accuracy: 0.8450\n",
      "Epoch 2/25\n",
      "83997/83997 [==============================] - 75s 892us/step - loss: 0.3513 - accuracy: 0.8564 - val_loss: 0.3470 - val_accuracy: 0.8556\n",
      "Epoch 3/25\n",
      "83997/83997 [==============================] - 77s 921us/step - loss: 0.3496 - accuracy: 0.8569 - val_loss: 0.3373 - val_accuracy: 0.8625\n",
      "Epoch 4/25\n",
      "83997/83997 [==============================] - 78s 926us/step - loss: 0.3487 - accuracy: 0.8569 - val_loss: 0.3571 - val_accuracy: 0.8497\n",
      "Epoch 5/25\n",
      "83997/83997 [==============================] - 78s 929us/step - loss: 0.3478 - accuracy: 0.8565 - val_loss: 0.3451 - val_accuracy: 0.8534\n",
      "Epoch 6/25\n",
      "83997/83997 [==============================] - 78s 928us/step - loss: 0.3451 - accuracy: 0.8572 - val_loss: 0.3388 - val_accuracy: 0.8615\n",
      "Epoch 7/25\n",
      "83997/83997 [==============================] - 78s 932us/step - loss: 0.3454 - accuracy: 0.8575 - val_loss: 0.3370 - val_accuracy: 0.8620\n",
      "Epoch 8/25\n",
      "83997/83997 [==============================] - 78s 931us/step - loss: 0.3467 - accuracy: 0.8561 - val_loss: 0.3917 - val_accuracy: 0.8368\n",
      "Epoch 9/25\n",
      "83997/83997 [==============================] - 78s 929us/step - loss: 0.3448 - accuracy: 0.8572 - val_loss: 0.3500 - val_accuracy: 0.8587\n",
      "Epoch 10/25\n",
      "83997/83997 [==============================] - 78s 923us/step - loss: 0.3441 - accuracy: 0.8571 - val_loss: 0.3445 - val_accuracy: 0.8542\n",
      "Epoch 11/25\n",
      "83997/83997 [==============================] - 78s 930us/step - loss: 0.3435 - accuracy: 0.8575 - val_loss: 0.3449 - val_accuracy: 0.8599\n",
      "Epoch 12/25\n",
      "83997/83997 [==============================] - 78s 928us/step - loss: 0.3443 - accuracy: 0.8572 - val_loss: 0.3468 - val_accuracy: 0.8515\n",
      "Epoch 13/25\n",
      "83997/83997 [==============================] - 79s 938us/step - loss: 0.3430 - accuracy: 0.8584 - val_loss: 0.3550 - val_accuracy: 0.8551\n",
      "Epoch 14/25\n",
      "83997/83997 [==============================] - 79s 935us/step - loss: 0.3437 - accuracy: 0.8580 - val_loss: 0.3435 - val_accuracy: 0.8578\n",
      "Epoch 15/25\n",
      "83997/83997 [==============================] - 78s 930us/step - loss: 0.3444 - accuracy: 0.8580 - val_loss: 0.3464 - val_accuracy: 0.8603\n",
      "Epoch 16/25\n",
      "83997/83997 [==============================] - 78s 928us/step - loss: 0.3445 - accuracy: 0.8579 - val_loss: 0.3414 - val_accuracy: 0.8580\n",
      "Epoch 17/25\n",
      "83997/83997 [==============================] - 80s 953us/step - loss: 0.3428 - accuracy: 0.8586 - val_loss: 0.3435 - val_accuracy: 0.8645\n",
      "Epoch 18/25\n",
      "83997/83997 [==============================] - 78s 929us/step - loss: 0.3436 - accuracy: 0.8584 - val_loss: 0.3444 - val_accuracy: 0.8588\n",
      "Epoch 19/25\n",
      "83997/83997 [==============================] - 79s 942us/step - loss: 0.3428 - accuracy: 0.8587 - val_loss: 0.3474 - val_accuracy: 0.8521\n",
      "Epoch 20/25\n",
      "83997/83997 [==============================] - 77s 916us/step - loss: 0.3446 - accuracy: 0.8579 - val_loss: 0.3465 - val_accuracy: 0.8517\n",
      "Epoch 21/25\n",
      "83997/83997 [==============================] - 78s 923us/step - loss: 0.3431 - accuracy: 0.8589 - val_loss: 0.3378 - val_accuracy: 0.8600\n",
      "Epoch 22/25\n",
      "83997/83997 [==============================] - 76s 904us/step - loss: 0.3437 - accuracy: 0.8588 - val_loss: 0.3414 - val_accuracy: 0.8518\n",
      "Epoch 23/25\n",
      "83997/83997 [==============================] - 75s 896us/step - loss: 0.3437 - accuracy: 0.8586 - val_loss: 0.3421 - val_accuracy: 0.8609\n",
      "Epoch 24/25\n",
      "83997/83997 [==============================] - 75s 897us/step - loss: 0.3446 - accuracy: 0.8583 - val_loss: 0.3439 - val_accuracy: 0.8573\n",
      "Epoch 25/25\n",
      "83997/83997 [==============================] - 75s 897us/step - loss: 0.3440 - accuracy: 0.8583 - val_loss: 0.3422 - val_accuracy: 0.8591\n"
     ]
    }
   ],
   "source": [
    "results5 = model_5.fit(X_train, y_train, epochs=25, batch_size=32, validation_split=0.1)"
   ]
  },
  {
   "cell_type": "code",
   "execution_count": 50,
   "metadata": {
    "ExecuteTime": {
     "end_time": "2020-10-15T14:37:52.511081Z",
     "start_time": "2020-10-15T14:37:52.212256Z"
    }
   },
   "outputs": [
    {
     "data": {
      "image/png": "[encoded data removed]",
      "text/plain": [
       "<Figure size 640x480 with 1 Axes>"
      ]
     },
     "metadata": {},
     "output_type": "display_data"
    },
    {
     "data": {
      "image/png": "[encoded data removed]",
      "text/plain": [
       "<Figure size 640x480 with 1 Axes>"
      ]
     },
     "metadata": {},
     "output_type": "display_data"
    }
   ],
   "source": [
    "visualize_training_results(results5)"
   ]
  },
  {
   "cell_type": "code",
   "execution_count": 51,
   "metadata": {
    "ExecuteTime": {
     "end_time": "2020-10-15T11:47:42.797806Z",
     "start_time": "2020-10-15T11:47:27.909236Z"
    }
   },
   "outputs": [
    {
     "name": "stdout",
     "output_type": "stream",
     "text": [
      "31110/31110 [==============================] - 18s 582us/step\n"
     ]
    }
   ],
   "source": [
    "y_pred_m5 = model_5.predict(X_test)\n",
    "y_pred_m5 =(y_pred_m5 > 0.5)"
   ]
  },
  {
   "cell_type": "code",
   "execution_count": 52,
   "metadata": {
    "ExecuteTime": {
     "end_time": "2020-10-15T11:47:58.046112Z",
     "start_time": "2020-10-15T11:47:53.805685Z"
    }
   },
   "outputs": [
    {
     "name": "stdout",
     "output_type": "stream",
     "text": [
      "[[582213  43832]\n",
      " [ 96163 273309]]\n",
      "------------------\n",
      "              precision    recall  f1-score   support\n",
      "\n",
      "         0.0       0.86      0.93      0.89    626045\n",
      "         1.0       0.86      0.74      0.80    369472\n",
      "\n",
      "    accuracy                           0.86    995517\n",
      "   macro avg       0.86      0.83      0.84    995517\n",
      "weighted avg       0.86      0.86      0.86    995517\n",
      "\n"
     ]
    }
   ],
   "source": [
    "cm_m5 = confusion_matrix(y_test, y_pred_m5)\n",
    "print(cm_m5)\n",
    "print(\"------------------\")\n",
    "print(classification_report(y_test, y_pred_m5))"
   ]
  },
  {
   "cell_type": "code",
   "execution_count": 53,
   "metadata": {
    "ExecuteTime": {
     "end_time": "2020-10-15T14:44:07.371650Z",
     "start_time": "2020-10-15T14:44:07.200374Z"
    }
   },
   "outputs": [
    {
     "data": {
      "image/png": "[encoded data removed]",
      "text/plain": [
       "<Figure size 800x700 with 2 Axes>"
      ]
     },
     "metadata": {},
     "output_type": "display_data"
    }
   ],
   "source": [
    "conf_matrix(cm_m5)"
   ]
  },
  {
   "cell_type": "code",
   "execution_count": 54,
   "metadata": {
    "ExecuteTime": {
     "end_time": "2020-10-15T11:48:56.484150Z",
     "start_time": "2020-10-15T11:48:55.107616Z"
    }
   },
   "outputs": [
    {
     "name": "stdout",
     "output_type": "stream",
     "text": [
      "Accuracy: 85.94 %\n",
      "Precision score: 86.18 %\n",
      "Recall score: 73.97 %\n",
      "F1 score: 79.61 %\n"
     ]
    }
   ],
   "source": [
    "model_metrics(y_test, y_pred_m5)"
   ]
  },
  {
   "cell_type": "markdown",
   "metadata": {
    "ExecuteTime": {
     "end_time": "2020-10-15T14:50:45.973943Z",
     "start_time": "2020-10-15T14:50:45.970118Z"
    }
   },
   "source": [
    "========================================================================================="
   ]
  },
  {
   "cell_type": "markdown",
   "metadata": {
    "ExecuteTime": {
     "end_time": "2020-10-15T14:50:45.973943Z",
     "start_time": "2020-10-15T14:50:45.970118Z"
    }
   },
   "source": [
    "========================================================================================="
   ]
  },
  {
   "cell_type": "markdown",
   "metadata": {},
   "source": [
    "## Model 6"
   ]
  },
  {
   "cell_type": "code",
   "execution_count": 55,
   "metadata": {
    "ExecuteTime": {
     "end_time": "2020-10-15T09:41:05.706901Z",
     "start_time": "2020-10-15T09:41:05.592957Z"
    }
   },
   "outputs": [
    {
     "name": "stdout",
     "output_type": "stream",
     "text": [
      "Model: \"sequential_5\"\n",
      "_________________________________________________________________\n",
      " Layer (type)                Output Shape              Param #   \n",
      "=================================================================\n",
      " dense_23 (Dense)            (None, 50)                3200      \n",
      "                                                                 \n",
      " dense_24 (Dense)            (None, 40)                2040      \n",
      "                                                                 \n",
      " dense_25 (Dense)            (None, 30)                1230      \n",
      "                                                                 \n",
      " dense_26 (Dense)            (None, 10)                310       \n",
      "                                                                 \n",
      " dense_27 (Dense)            (None, 5)                 55        \n",
      "                                                                 \n",
      " dense_28 (Dense)            (None, 1)                 6         \n",
      "                                                                 \n",
      "=================================================================\n",
      "Total params: 6,841\n",
      "Trainable params: 6,841\n",
      "Non-trainable params: 0\n",
      "_________________________________________________________________\n"
     ]
    }
   ],
   "source": [
    "model_6 = Sequential()\n",
    "\n",
    "model_6.add(Dense(50, activation='tanh', input_shape=(63,)))\n",
    "\n",
    "model_6.add(Dense(40, activation='relu'))\n",
    "\n",
    "model_6.add(Dense(30, activation='tanh'))\n",
    "\n",
    "model_6.add(Dense(10, activation='relu'))\n",
    "\n",
    "model_6.add(Dense(5, activation='relu'))\n",
    "\n",
    "model_6.add(Dense(1, activation='sigmoid'))\n",
    "\n",
    "model_6.summary()"
   ]
  },
  {
   "cell_type": "code",
   "execution_count": 56,
   "metadata": {
    "ExecuteTime": {
     "end_time": "2020-10-15T09:41:06.606661Z",
     "start_time": "2020-10-15T09:41:06.571075Z"
    }
   },
   "outputs": [],
   "source": [
    "model_6.compile(loss='binary_crossentropy', optimizer='adam', metrics=['accuracy'])"
   ]
  },
  {
   "cell_type": "code",
   "execution_count": 57,
   "metadata": {
    "ExecuteTime": {
     "end_time": "2020-10-15T09:57:52.454183Z",
     "start_time": "2020-10-15T09:41:07.622947Z"
    }
   },
   "outputs": [
    {
     "name": "stdout",
     "output_type": "stream",
     "text": [
      "Epoch 1/2\n",
      "268790/268790 [==============================] - 238s 884us/step - loss: 0.3830 - accuracy: 0.8421 - val_loss: 0.3899 - val_accuracy: 0.8014\n",
      "Epoch 2/2\n",
      "268790/268790 [==============================] - 238s 885us/step - loss: 0.3779 - accuracy: 0.8432 - val_loss: 0.3550 - val_accuracy: 0.8612\n"
     ]
    }
   ],
   "source": [
    "results6 = model_6.fit(X_train, y_train, epochs=2, batch_size=10, validation_split=0.1)"
   ]
  },
  {
   "cell_type": "markdown",
   "metadata": {},
   "source": [
    "No need for the visualizations because of the low epoch number. This was just a parameters test."
   ]
  },
  {
   "cell_type": "code",
   "execution_count": 58,
   "metadata": {
    "ExecuteTime": {
     "end_time": "2020-10-15T11:22:31.152659Z",
     "start_time": "2020-10-15T11:21:23.231640Z"
    }
   },
   "outputs": [
    {
     "name": "stdout",
     "output_type": "stream",
     "text": [
      "93330/93330 [==============================] - 61s 656us/step - loss: 0.3549 - accuracy: 0.8609\n"
     ]
    },
    {
     "data": {
      "text/plain": [
       "[0.35490259528160095, 0.8609288334846497]"
      ]
     },
     "execution_count": 58,
     "metadata": {},
     "output_type": "execute_result"
    }
   ],
   "source": [
    "eval_model = model_6.evaluate(X_train, y_train)\n",
    "eval_model"
   ]
  },
  {
   "cell_type": "code",
   "execution_count": 59,
   "metadata": {
    "ExecuteTime": {
     "end_time": "2020-10-15T12:11:49.627102Z",
     "start_time": "2020-10-15T12:11:35.047756Z"
    }
   },
   "outputs": [
    {
     "name": "stdout",
     "output_type": "stream",
     "text": [
      "31110/31110 [==============================] - 18s 576us/step\n"
     ]
    }
   ],
   "source": [
    "y_pred_m6 = model_6.predict(X_test)\n",
    "y_pred_m6 =(y_pred_m6>0.5)"
   ]
  },
  {
   "cell_type": "code",
   "execution_count": 60,
   "metadata": {
    "ExecuteTime": {
     "end_time": "2020-10-15T12:11:53.943303Z",
     "start_time": "2020-10-15T12:11:49.942599Z"
    }
   },
   "outputs": [
    {
     "name": "stdout",
     "output_type": "stream",
     "text": [
      "[[607015  19030]\n",
      " [119568 249904]]\n",
      "------------------\n",
      "              precision    recall  f1-score   support\n",
      "\n",
      "         0.0       0.84      0.97      0.90    626045\n",
      "         1.0       0.93      0.68      0.78    369472\n",
      "\n",
      "    accuracy                           0.86    995517\n",
      "   macro avg       0.88      0.82      0.84    995517\n",
      "weighted avg       0.87      0.86      0.85    995517\n",
      "\n"
     ]
    }
   ],
   "source": [
    "cm_m6 = confusion_matrix(y_test, y_pred_m6)\n",
    "print(cm_m6)\n",
    "print(\"------------------\")\n",
    "print(classification_report(y_test, y_pred_m6))"
   ]
  },
  {
   "cell_type": "code",
   "execution_count": 61,
   "metadata": {
    "ExecuteTime": {
     "end_time": "2020-10-15T14:43:35.067690Z",
     "start_time": "2020-10-15T14:43:34.856073Z"
    }
   },
   "outputs": [
    {
     "data": {
      "image/png": "[encoded data removed]",
      "text/plain": [
       "<Figure size 800x700 with 2 Axes>"
      ]
     },
     "metadata": {},
     "output_type": "display_data"
    }
   ],
   "source": [
    "conf_matrix(cm_m6)"
   ]
  },
  {
   "cell_type": "code",
   "execution_count": 63,
   "metadata": {
    "ExecuteTime": {
     "end_time": "2020-10-15T11:36:38.425717Z",
     "start_time": "2020-10-15T11:36:37.053476Z"
    }
   },
   "outputs": [
    {
     "name": "stdout",
     "output_type": "stream",
     "text": [
      "Accuracy: 86.08 %\n",
      "Precision score: 92.92 %\n",
      "Recall score: 67.64 %\n",
      "F1 score: 78.29 %\n"
     ]
    }
   ],
   "source": [
    "model_metrics(y_test, y_pred_m6)"
   ]
  },
  {
   "cell_type": "markdown",
   "metadata": {},
   "source": [
    "## Model 7"
   ]
  },
  {
   "cell_type": "code",
   "execution_count": null,
   "metadata": {
    "ExecuteTime": {
     "end_time": "2020-10-15T18:04:30.883480Z",
     "start_time": "2020-10-15T18:04:30.828793Z"
    }
   },
   "outputs": [],
   "source": [
    "model_7 = Sequential()\n",
    "\n",
    "model_7.add(Dense(50, activation='tanh', input_shape=(63,)))\n",
    "\n",
    "model_7.add(Dense(30, activation='tanh'))\n",
    "\n",
    "model_7.add(Dense(15, activation='tanh'))\n",
    "\n",
    "model_7.add(Dense(5, activation='relu'))\n",
    "\n",
    "model_7.add(Dense(1, activation='sigmoid'))\n",
    "\n",
    "model_7.summary()"
   ]
  },
  {
   "cell_type": "code",
   "execution_count": null,
   "metadata": {
    "ExecuteTime": {
     "end_time": "2020-10-15T18:04:31.850669Z",
     "start_time": "2020-10-15T18:04:31.819095Z"
    }
   },
   "outputs": [],
   "source": [
    "model_7.compile(loss='binary_crossentropy', optimizer='adam', metrics=['accuracy'])"
   ]
  },
  {
   "cell_type": "code",
   "execution_count": null,
   "metadata": {},
   "outputs": [],
   "source": []
  },
  {
   "cell_type": "code",
   "execution_count": null,
   "metadata": {},
   "outputs": [],
   "source": []
  }
 ],
 "metadata": {
  "kernelspec": {
   "display_name": "Python 3 (ipykernel)",
   "language": "python",
   "name": "python3"
  },
  "language_info": {
   "codemirror_mode": {
    "name": "ipython",
    "version": 3
   },
   "file_extension": ".py",
   "mimetype": "text/x-python",
   "name": "python",
   "nbconvert_exporter": "python",
   "pygments_lexer": "ipython3",
   "version": "3.9.13"
  },
  "toc": {
   "base_numbering": 1,
   "nav_menu": {},
   "number_sections": true,
   "sideBar": true,
   "skip_h1_title": false,
   "title_cell": "Table of Contents",
   "title_sidebar": "Contents",
   "toc_cell": false,
   "toc_position": {},
   "toc_section_display": true,
   "toc_window_display": false
  },
  "varInspector": {
   "cols": {
    "lenName": 16,
    "lenType": 16,
    "lenVar": 40
   },
   "kernels_config": {
    "python": {
     "delete_cmd_postfix": "",
     "delete_cmd_prefix": "del ",
     "library": "var_list.py",
     "varRefreshCmd": "print(var_dic_list())"
    },
    "r": {
     "delete_cmd_postfix": ") ",
     "delete_cmd_prefix": "rm(",
     "library": "var_list.r",
     "varRefreshCmd": "cat(var_dic_list()) "
    }
   },
   "types_to_exclude": [
    "module",
    "function",
    "builtin_function_or_method",
    "instance",
    "_Feature"
   ],
   "window_display": false
  }
 },
 "nbformat": 4,
 "nbformat_minor": 4
}
