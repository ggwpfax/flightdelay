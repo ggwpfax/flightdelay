{
 "cells": [
  {
   "cell_type": "markdown",
   "metadata": {},
   "source": [
    "<font size=\"8\"><b>PREDICTING FLIGHT DELAYS</b></font>"
   ]
  },
  {
   "cell_type": "markdown",
   "metadata": {},
   "source": [
    "<font size=\"6\"><b>AdaBoost - with DEP_DELAY</b></font>"
   ]
  },
  {
   "cell_type": "markdown",
   "metadata": {},
   "source": [
    "![Figure_6](img/Figure_6.png)"
   ]
  },
  {
   "cell_type": "code",
   "execution_count": 1,
   "metadata": {
    "ExecuteTime": {
     "end_time": "2020-10-12T00:48:53.431643Z",
     "start_time": "2020-10-12T00:48:51.872759Z"
    }
   },
   "outputs": [],
   "source": [
    "import pandas as pd\n",
    "import numpy as np\n",
    "np.random.seed(0)\n",
    "import matplotlib.pyplot as plt\n",
    "%matplotlib inline\n",
    "import seaborn as sns\n",
    "import xgboost as xgb\n",
    "sns.set_style('darkgrid')\n",
    "pd.set_option('display.max_columns', None)\n",
    "import datetime, warnings, scipy\n",
    "warnings.filterwarnings(\"ignore\")\n",
    "\n",
    "from sklearn.svm import LinearSVC\n",
    "from sklearn.svm import SVC\n",
    "from sklearn import svm\n",
    "from sklearn.preprocessing import StandardScaler\n",
    "\n",
    "from sklearn.metrics import confusion_matrix\n",
    "from sklearn.model_selection import train_test_split, GridSearchCV, cross_val_score\n",
    "from sklearn import metrics\n",
    "from sklearn.tree import DecisionTreeClassifier\n",
    "from sklearn.ensemble import RandomForestClassifier, AdaBoostClassifier\n",
    "from sklearn.ensemble import BaggingClassifier\n",
    "from xgboost import XGBClassifier\n",
    "from sklearn.metrics import accuracy_score\n",
    "from sklearn.ensemble import AdaBoostClassifier, GradientBoostingClassifier\n",
    "from sklearn.metrics import accuracy_score, f1_score, confusion_matrix, classification_report"
   ]
  },
  {
   "cell_type": "code",
   "execution_count": 2,
   "metadata": {
    "ExecuteTime": {
     "end_time": "2020-10-12T00:49:05.523209Z",
     "start_time": "2020-10-12T00:48:53.456377Z"
    },
    "scrolled": true
   },
   "outputs": [
    {
     "data": {
      "text/html": [
       "<div>\n",
       "<style scoped>\n",
       "    .dataframe tbody tr th:only-of-type {\n",
       "        vertical-align: middle;\n",
       "    }\n",
       "\n",
       "    .dataframe tbody tr th {\n",
       "        vertical-align: top;\n",
       "    }\n",
       "\n",
       "    .dataframe thead th {\n",
       "        text-align: right;\n",
       "    }\n",
       "</style>\n",
       "<table border=\"1\" class=\"dataframe\">\n",
       "  <thead>\n",
       "    <tr style=\"text-align: right;\">\n",
       "      <th></th>\n",
       "      <th>DEP_DELAY</th>\n",
       "      <th>CRS_ELAPSED_TIME</th>\n",
       "      <th>AIR_TIME</th>\n",
       "      <th>DISTANCE</th>\n",
       "      <th>FLIGHT_STATUS</th>\n",
       "      <th>OP_CARRIER_Allegiant Air</th>\n",
       "      <th>OP_CARRIER_American Airlines</th>\n",
       "      <th>OP_CARRIER_Delta Airlines</th>\n",
       "      <th>OP_CARRIER_Endeavor Air</th>\n",
       "      <th>OP_CARRIER_Envoy Air</th>\n",
       "      <th>OP_CARRIER_ExpressJet</th>\n",
       "      <th>OP_CARRIER_Frontier Airlines</th>\n",
       "      <th>OP_CARRIER_Hawaiian Airlines</th>\n",
       "      <th>OP_CARRIER_JetBlue Airways</th>\n",
       "      <th>OP_CARRIER_Mesa Airline</th>\n",
       "      <th>OP_CARRIER_PSA Airlines</th>\n",
       "      <th>OP_CARRIER_Republic Airways</th>\n",
       "      <th>OP_CARRIER_SkyWest Airlines</th>\n",
       "      <th>OP_CARRIER_Southwest Airlines</th>\n",
       "      <th>OP_CARRIER_Spirit Airlines</th>\n",
       "      <th>OP_CARRIER_United Airlines</th>\n",
       "      <th>OP_CARRIER_Virgin America</th>\n",
       "      <th>DEST_Atlanta</th>\n",
       "      <th>DEST_Boston</th>\n",
       "      <th>DEST_Charlotte</th>\n",
       "      <th>DEST_Chicago</th>\n",
       "      <th>DEST_Dallas-Fort Worth</th>\n",
       "      <th>DEST_Denver</th>\n",
       "      <th>DEST_Detroit</th>\n",
       "      <th>DEST_Houston</th>\n",
       "      <th>DEST_Las Vegas</th>\n",
       "      <th>DEST_Los Angeles</th>\n",
       "      <th>DEST_Minneapolis</th>\n",
       "      <th>DEST_New York</th>\n",
       "      <th>DEST_Newark</th>\n",
       "      <th>DEST_Orlando</th>\n",
       "      <th>DEST_Philadelphia</th>\n",
       "      <th>DEST_Phoenix</th>\n",
       "      <th>DEST_Salt Lake City</th>\n",
       "      <th>DEST_San Francisco</th>\n",
       "      <th>DEST_Seattle</th>\n",
       "      <th>CRS_DEP_TIME_2</th>\n",
       "      <th>CRS_DEP_TIME_3</th>\n",
       "      <th>CRS_DEP_TIME_4</th>\n",
       "      <th>CRS_ARR_TIME_2</th>\n",
       "      <th>CRS_ARR_TIME_3</th>\n",
       "      <th>CRS_ARR_TIME_4</th>\n",
       "      <th>MONTH_2</th>\n",
       "      <th>MONTH_3</th>\n",
       "      <th>MONTH_4</th>\n",
       "      <th>MONTH_5</th>\n",
       "      <th>MONTH_6</th>\n",
       "      <th>MONTH_7</th>\n",
       "      <th>MONTH_8</th>\n",
       "      <th>MONTH_9</th>\n",
       "      <th>MONTH_10</th>\n",
       "      <th>MONTH_11</th>\n",
       "      <th>MONTH_12</th>\n",
       "      <th>WEEKDAY_1</th>\n",
       "      <th>WEEKDAY_2</th>\n",
       "      <th>WEEKDAY_3</th>\n",
       "      <th>WEEKDAY_4</th>\n",
       "      <th>WEEKDAY_5</th>\n",
       "      <th>WEEKDAY_6</th>\n",
       "    </tr>\n",
       "  </thead>\n",
       "  <tbody>\n",
       "    <tr>\n",
       "      <th>0</th>\n",
       "      <td>-5.0</td>\n",
       "      <td>268.0</td>\n",
       "      <td>225.0</td>\n",
       "      <td>1605.0</td>\n",
       "      <td>0</td>\n",
       "      <td>0</td>\n",
       "      <td>0</td>\n",
       "      <td>0</td>\n",
       "      <td>0</td>\n",
       "      <td>0</td>\n",
       "      <td>0</td>\n",
       "      <td>0</td>\n",
       "      <td>0</td>\n",
       "      <td>0</td>\n",
       "      <td>0</td>\n",
       "      <td>0</td>\n",
       "      <td>0</td>\n",
       "      <td>0</td>\n",
       "      <td>0</td>\n",
       "      <td>0</td>\n",
       "      <td>1</td>\n",
       "      <td>0</td>\n",
       "      <td>0</td>\n",
       "      <td>0</td>\n",
       "      <td>0</td>\n",
       "      <td>0</td>\n",
       "      <td>0</td>\n",
       "      <td>1</td>\n",
       "      <td>0</td>\n",
       "      <td>0</td>\n",
       "      <td>0</td>\n",
       "      <td>0</td>\n",
       "      <td>0</td>\n",
       "      <td>0</td>\n",
       "      <td>0</td>\n",
       "      <td>0</td>\n",
       "      <td>0</td>\n",
       "      <td>0</td>\n",
       "      <td>0</td>\n",
       "      <td>0</td>\n",
       "      <td>0</td>\n",
       "      <td>0</td>\n",
       "      <td>1</td>\n",
       "      <td>0</td>\n",
       "      <td>0</td>\n",
       "      <td>1</td>\n",
       "      <td>0</td>\n",
       "      <td>0</td>\n",
       "      <td>0</td>\n",
       "      <td>0</td>\n",
       "      <td>0</td>\n",
       "      <td>0</td>\n",
       "      <td>0</td>\n",
       "      <td>0</td>\n",
       "      <td>0</td>\n",
       "      <td>0</td>\n",
       "      <td>0</td>\n",
       "      <td>0</td>\n",
       "      <td>0</td>\n",
       "      <td>0</td>\n",
       "      <td>0</td>\n",
       "      <td>0</td>\n",
       "      <td>0</td>\n",
       "      <td>0</td>\n",
       "    </tr>\n",
       "    <tr>\n",
       "      <th>1</th>\n",
       "      <td>-8.0</td>\n",
       "      <td>99.0</td>\n",
       "      <td>65.0</td>\n",
       "      <td>414.0</td>\n",
       "      <td>0</td>\n",
       "      <td>0</td>\n",
       "      <td>0</td>\n",
       "      <td>0</td>\n",
       "      <td>0</td>\n",
       "      <td>0</td>\n",
       "      <td>0</td>\n",
       "      <td>0</td>\n",
       "      <td>0</td>\n",
       "      <td>0</td>\n",
       "      <td>0</td>\n",
       "      <td>0</td>\n",
       "      <td>0</td>\n",
       "      <td>0</td>\n",
       "      <td>0</td>\n",
       "      <td>0</td>\n",
       "      <td>1</td>\n",
       "      <td>0</td>\n",
       "      <td>0</td>\n",
       "      <td>0</td>\n",
       "      <td>0</td>\n",
       "      <td>0</td>\n",
       "      <td>0</td>\n",
       "      <td>0</td>\n",
       "      <td>0</td>\n",
       "      <td>0</td>\n",
       "      <td>0</td>\n",
       "      <td>0</td>\n",
       "      <td>0</td>\n",
       "      <td>0</td>\n",
       "      <td>0</td>\n",
       "      <td>0</td>\n",
       "      <td>0</td>\n",
       "      <td>0</td>\n",
       "      <td>0</td>\n",
       "      <td>1</td>\n",
       "      <td>0</td>\n",
       "      <td>1</td>\n",
       "      <td>0</td>\n",
       "      <td>0</td>\n",
       "      <td>0</td>\n",
       "      <td>1</td>\n",
       "      <td>0</td>\n",
       "      <td>0</td>\n",
       "      <td>0</td>\n",
       "      <td>0</td>\n",
       "      <td>0</td>\n",
       "      <td>0</td>\n",
       "      <td>0</td>\n",
       "      <td>0</td>\n",
       "      <td>0</td>\n",
       "      <td>0</td>\n",
       "      <td>0</td>\n",
       "      <td>0</td>\n",
       "      <td>0</td>\n",
       "      <td>0</td>\n",
       "      <td>0</td>\n",
       "      <td>0</td>\n",
       "      <td>0</td>\n",
       "      <td>0</td>\n",
       "    </tr>\n",
       "    <tr>\n",
       "      <th>2</th>\n",
       "      <td>-5.0</td>\n",
       "      <td>134.0</td>\n",
       "      <td>106.0</td>\n",
       "      <td>846.0</td>\n",
       "      <td>0</td>\n",
       "      <td>0</td>\n",
       "      <td>0</td>\n",
       "      <td>0</td>\n",
       "      <td>0</td>\n",
       "      <td>0</td>\n",
       "      <td>0</td>\n",
       "      <td>0</td>\n",
       "      <td>0</td>\n",
       "      <td>0</td>\n",
       "      <td>0</td>\n",
       "      <td>0</td>\n",
       "      <td>0</td>\n",
       "      <td>0</td>\n",
       "      <td>0</td>\n",
       "      <td>0</td>\n",
       "      <td>1</td>\n",
       "      <td>0</td>\n",
       "      <td>0</td>\n",
       "      <td>0</td>\n",
       "      <td>0</td>\n",
       "      <td>0</td>\n",
       "      <td>0</td>\n",
       "      <td>1</td>\n",
       "      <td>0</td>\n",
       "      <td>0</td>\n",
       "      <td>0</td>\n",
       "      <td>0</td>\n",
       "      <td>0</td>\n",
       "      <td>0</td>\n",
       "      <td>0</td>\n",
       "      <td>0</td>\n",
       "      <td>0</td>\n",
       "      <td>0</td>\n",
       "      <td>0</td>\n",
       "      <td>0</td>\n",
       "      <td>0</td>\n",
       "      <td>0</td>\n",
       "      <td>1</td>\n",
       "      <td>0</td>\n",
       "      <td>0</td>\n",
       "      <td>1</td>\n",
       "      <td>0</td>\n",
       "      <td>0</td>\n",
       "      <td>0</td>\n",
       "      <td>0</td>\n",
       "      <td>0</td>\n",
       "      <td>0</td>\n",
       "      <td>0</td>\n",
       "      <td>0</td>\n",
       "      <td>0</td>\n",
       "      <td>0</td>\n",
       "      <td>0</td>\n",
       "      <td>0</td>\n",
       "      <td>0</td>\n",
       "      <td>0</td>\n",
       "      <td>0</td>\n",
       "      <td>0</td>\n",
       "      <td>0</td>\n",
       "      <td>0</td>\n",
       "    </tr>\n",
       "    <tr>\n",
       "      <th>3</th>\n",
       "      <td>6.0</td>\n",
       "      <td>190.0</td>\n",
       "      <td>157.0</td>\n",
       "      <td>1120.0</td>\n",
       "      <td>0</td>\n",
       "      <td>0</td>\n",
       "      <td>0</td>\n",
       "      <td>0</td>\n",
       "      <td>0</td>\n",
       "      <td>0</td>\n",
       "      <td>0</td>\n",
       "      <td>0</td>\n",
       "      <td>0</td>\n",
       "      <td>0</td>\n",
       "      <td>0</td>\n",
       "      <td>0</td>\n",
       "      <td>0</td>\n",
       "      <td>0</td>\n",
       "      <td>0</td>\n",
       "      <td>0</td>\n",
       "      <td>1</td>\n",
       "      <td>0</td>\n",
       "      <td>0</td>\n",
       "      <td>0</td>\n",
       "      <td>0</td>\n",
       "      <td>1</td>\n",
       "      <td>0</td>\n",
       "      <td>0</td>\n",
       "      <td>0</td>\n",
       "      <td>0</td>\n",
       "      <td>0</td>\n",
       "      <td>0</td>\n",
       "      <td>0</td>\n",
       "      <td>0</td>\n",
       "      <td>0</td>\n",
       "      <td>0</td>\n",
       "      <td>0</td>\n",
       "      <td>0</td>\n",
       "      <td>0</td>\n",
       "      <td>0</td>\n",
       "      <td>0</td>\n",
       "      <td>0</td>\n",
       "      <td>1</td>\n",
       "      <td>0</td>\n",
       "      <td>0</td>\n",
       "      <td>1</td>\n",
       "      <td>0</td>\n",
       "      <td>0</td>\n",
       "      <td>0</td>\n",
       "      <td>0</td>\n",
       "      <td>0</td>\n",
       "      <td>0</td>\n",
       "      <td>0</td>\n",
       "      <td>0</td>\n",
       "      <td>0</td>\n",
       "      <td>0</td>\n",
       "      <td>0</td>\n",
       "      <td>0</td>\n",
       "      <td>0</td>\n",
       "      <td>0</td>\n",
       "      <td>0</td>\n",
       "      <td>0</td>\n",
       "      <td>0</td>\n",
       "      <td>0</td>\n",
       "    </tr>\n",
       "    <tr>\n",
       "      <th>6</th>\n",
       "      <td>-3.0</td>\n",
       "      <td>206.0</td>\n",
       "      <td>173.0</td>\n",
       "      <td>1222.0</td>\n",
       "      <td>0</td>\n",
       "      <td>0</td>\n",
       "      <td>0</td>\n",
       "      <td>0</td>\n",
       "      <td>0</td>\n",
       "      <td>0</td>\n",
       "      <td>0</td>\n",
       "      <td>0</td>\n",
       "      <td>0</td>\n",
       "      <td>0</td>\n",
       "      <td>0</td>\n",
       "      <td>0</td>\n",
       "      <td>0</td>\n",
       "      <td>0</td>\n",
       "      <td>0</td>\n",
       "      <td>0</td>\n",
       "      <td>1</td>\n",
       "      <td>0</td>\n",
       "      <td>0</td>\n",
       "      <td>0</td>\n",
       "      <td>0</td>\n",
       "      <td>0</td>\n",
       "      <td>0</td>\n",
       "      <td>0</td>\n",
       "      <td>0</td>\n",
       "      <td>0</td>\n",
       "      <td>1</td>\n",
       "      <td>0</td>\n",
       "      <td>0</td>\n",
       "      <td>0</td>\n",
       "      <td>0</td>\n",
       "      <td>0</td>\n",
       "      <td>0</td>\n",
       "      <td>0</td>\n",
       "      <td>0</td>\n",
       "      <td>0</td>\n",
       "      <td>0</td>\n",
       "      <td>1</td>\n",
       "      <td>0</td>\n",
       "      <td>0</td>\n",
       "      <td>1</td>\n",
       "      <td>0</td>\n",
       "      <td>0</td>\n",
       "      <td>0</td>\n",
       "      <td>0</td>\n",
       "      <td>0</td>\n",
       "      <td>0</td>\n",
       "      <td>0</td>\n",
       "      <td>0</td>\n",
       "      <td>0</td>\n",
       "      <td>0</td>\n",
       "      <td>0</td>\n",
       "      <td>0</td>\n",
       "      <td>0</td>\n",
       "      <td>0</td>\n",
       "      <td>0</td>\n",
       "      <td>0</td>\n",
       "      <td>0</td>\n",
       "      <td>0</td>\n",
       "      <td>0</td>\n",
       "    </tr>\n",
       "  </tbody>\n",
       "</table>\n",
       "</div>"
      ],
      "text/plain": [
       "   DEP_DELAY  CRS_ELAPSED_TIME  AIR_TIME  DISTANCE  FLIGHT_STATUS  \\\n",
       "0       -5.0             268.0     225.0    1605.0              0   \n",
       "1       -8.0              99.0      65.0     414.0              0   \n",
       "2       -5.0             134.0     106.0     846.0              0   \n",
       "3        6.0             190.0     157.0    1120.0              0   \n",
       "6       -3.0             206.0     173.0    1222.0              0   \n",
       "\n",
       "   OP_CARRIER_Allegiant Air  OP_CARRIER_American Airlines  \\\n",
       "0                         0                             0   \n",
       "1                         0                             0   \n",
       "2                         0                             0   \n",
       "3                         0                             0   \n",
       "6                         0                             0   \n",
       "\n",
       "   OP_CARRIER_Delta Airlines  OP_CARRIER_Endeavor Air  OP_CARRIER_Envoy Air  \\\n",
       "0                          0                        0                     0   \n",
       "1                          0                        0                     0   \n",
       "2                          0                        0                     0   \n",
       "3                          0                        0                     0   \n",
       "6                          0                        0                     0   \n",
       "\n",
       "   OP_CARRIER_ExpressJet  OP_CARRIER_Frontier Airlines  \\\n",
       "0                      0                             0   \n",
       "1                      0                             0   \n",
       "2                      0                             0   \n",
       "3                      0                             0   \n",
       "6                      0                             0   \n",
       "\n",
       "   OP_CARRIER_Hawaiian Airlines  OP_CARRIER_JetBlue Airways  \\\n",
       "0                             0                           0   \n",
       "1                             0                           0   \n",
       "2                             0                           0   \n",
       "3                             0                           0   \n",
       "6                             0                           0   \n",
       "\n",
       "   OP_CARRIER_Mesa Airline  OP_CARRIER_PSA Airlines  \\\n",
       "0                        0                        0   \n",
       "1                        0                        0   \n",
       "2                        0                        0   \n",
       "3                        0                        0   \n",
       "6                        0                        0   \n",
       "\n",
       "   OP_CARRIER_Republic Airways  OP_CARRIER_SkyWest Airlines  \\\n",
       "0                            0                            0   \n",
       "1                            0                            0   \n",
       "2                            0                            0   \n",
       "3                            0                            0   \n",
       "6                            0                            0   \n",
       "\n",
       "   OP_CARRIER_Southwest Airlines  OP_CARRIER_Spirit Airlines  \\\n",
       "0                              0                           0   \n",
       "1                              0                           0   \n",
       "2                              0                           0   \n",
       "3                              0                           0   \n",
       "6                              0                           0   \n",
       "\n",
       "   OP_CARRIER_United Airlines  OP_CARRIER_Virgin America  DEST_Atlanta  \\\n",
       "0                           1                          0             0   \n",
       "1                           1                          0             0   \n",
       "2                           1                          0             0   \n",
       "3                           1                          0             0   \n",
       "6                           1                          0             0   \n",
       "\n",
       "   DEST_Boston  DEST_Charlotte  DEST_Chicago  DEST_Dallas-Fort Worth  \\\n",
       "0            0               0             0                       0   \n",
       "1            0               0             0                       0   \n",
       "2            0               0             0                       0   \n",
       "3            0               0             1                       0   \n",
       "6            0               0             0                       0   \n",
       "\n",
       "   DEST_Denver  DEST_Detroit  DEST_Houston  DEST_Las Vegas  DEST_Los Angeles  \\\n",
       "0            1             0             0               0                 0   \n",
       "1            0             0             0               0                 0   \n",
       "2            1             0             0               0                 0   \n",
       "3            0             0             0               0                 0   \n",
       "6            0             0             0               1                 0   \n",
       "\n",
       "   DEST_Minneapolis  DEST_New York  DEST_Newark  DEST_Orlando  \\\n",
       "0                 0              0            0             0   \n",
       "1                 0              0            0             0   \n",
       "2                 0              0            0             0   \n",
       "3                 0              0            0             0   \n",
       "6                 0              0            0             0   \n",
       "\n",
       "   DEST_Philadelphia  DEST_Phoenix  DEST_Salt Lake City  DEST_San Francisco  \\\n",
       "0                  0             0                    0                   0   \n",
       "1                  0             0                    0                   1   \n",
       "2                  0             0                    0                   0   \n",
       "3                  0             0                    0                   0   \n",
       "6                  0             0                    0                   0   \n",
       "\n",
       "   DEST_Seattle  CRS_DEP_TIME_2  CRS_DEP_TIME_3  CRS_DEP_TIME_4  \\\n",
       "0             0               0               1               0   \n",
       "1             0               1               0               0   \n",
       "2             0               0               1               0   \n",
       "3             0               0               1               0   \n",
       "6             0               1               0               0   \n",
       "\n",
       "   CRS_ARR_TIME_2  CRS_ARR_TIME_3  CRS_ARR_TIME_4  MONTH_2  MONTH_3  MONTH_4  \\\n",
       "0               0               1               0        0        0        0   \n",
       "1               0               1               0        0        0        0   \n",
       "2               0               1               0        0        0        0   \n",
       "3               0               1               0        0        0        0   \n",
       "6               1               0               0        0        0        0   \n",
       "\n",
       "   MONTH_5  MONTH_6  MONTH_7  MONTH_8  MONTH_9  MONTH_10  MONTH_11  MONTH_12  \\\n",
       "0        0        0        0        0        0         0         0         0   \n",
       "1        0        0        0        0        0         0         0         0   \n",
       "2        0        0        0        0        0         0         0         0   \n",
       "3        0        0        0        0        0         0         0         0   \n",
       "6        0        0        0        0        0         0         0         0   \n",
       "\n",
       "   WEEKDAY_1  WEEKDAY_2  WEEKDAY_3  WEEKDAY_4  WEEKDAY_5  WEEKDAY_6  \n",
       "0          0          0          0          0          0          0  \n",
       "1          0          0          0          0          0          0  \n",
       "2          0          0          0          0          0          0  \n",
       "3          0          0          0          0          0          0  \n",
       "6          0          0          0          0          0          0  "
      ]
     },
     "execution_count": 2,
     "metadata": {},
     "output_type": "execute_result"
    }
   ],
   "source": [
    "dfm_ready = pd.read_csv('dfm_ready.csv', index_col=0)\n",
    "dfm_ready.head()"
   ]
  },
  {
   "cell_type": "code",
   "execution_count": 3,
   "metadata": {
    "ExecuteTime": {
     "end_time": "2020-10-12T00:49:05.649587Z",
     "start_time": "2020-10-12T00:49:05.640246Z"
    }
   },
   "outputs": [
    {
     "name": "stdout",
     "output_type": "stream",
     "text": [
      "<class 'pandas.core.frame.DataFrame'>\n",
      "Int64Index: 4008257 entries, 0 to 7213445\n",
      "Data columns (total 64 columns):\n",
      " #   Column                         Dtype  \n",
      "---  ------                         -----  \n",
      " 0   DEP_DELAY                      float64\n",
      " 1   CRS_ELAPSED_TIME               float64\n",
      " 2   AIR_TIME                       float64\n",
      " 3   DISTANCE                       float64\n",
      " 4   FLIGHT_STATUS                  int64  \n",
      " 5   OP_CARRIER_Allegiant Air       int64  \n",
      " 6   OP_CARRIER_American Airlines   int64  \n",
      " 7   OP_CARRIER_Delta Airlines      int64  \n",
      " 8   OP_CARRIER_Endeavor Air        int64  \n",
      " 9   OP_CARRIER_Envoy Air           int64  \n",
      " 10  OP_CARRIER_ExpressJet          int64  \n",
      " 11  OP_CARRIER_Frontier Airlines   int64  \n",
      " 12  OP_CARRIER_Hawaiian Airlines   int64  \n",
      " 13  OP_CARRIER_JetBlue Airways     int64  \n",
      " 14  OP_CARRIER_Mesa Airline        int64  \n",
      " 15  OP_CARRIER_PSA Airlines        int64  \n",
      " 16  OP_CARRIER_Republic Airways    int64  \n",
      " 17  OP_CARRIER_SkyWest Airlines    int64  \n",
      " 18  OP_CARRIER_Southwest Airlines  int64  \n",
      " 19  OP_CARRIER_Spirit Airlines     int64  \n",
      " 20  OP_CARRIER_United Airlines     int64  \n",
      " 21  OP_CARRIER_Virgin America      int64  \n",
      " 22  DEST_Atlanta                   int64  \n",
      " 23  DEST_Boston                    int64  \n",
      " 24  DEST_Charlotte                 int64  \n",
      " 25  DEST_Chicago                   int64  \n",
      " 26  DEST_Dallas-Fort Worth         int64  \n",
      " 27  DEST_Denver                    int64  \n",
      " 28  DEST_Detroit                   int64  \n",
      " 29  DEST_Houston                   int64  \n",
      " 30  DEST_Las Vegas                 int64  \n",
      " 31  DEST_Los Angeles               int64  \n",
      " 32  DEST_Minneapolis               int64  \n",
      " 33  DEST_New York                  int64  \n",
      " 34  DEST_Newark                    int64  \n",
      " 35  DEST_Orlando                   int64  \n",
      " 36  DEST_Philadelphia              int64  \n",
      " 37  DEST_Phoenix                   int64  \n",
      " 38  DEST_Salt Lake City            int64  \n",
      " 39  DEST_San Francisco             int64  \n",
      " 40  DEST_Seattle                   int64  \n",
      " 41  CRS_DEP_TIME_2                 int64  \n",
      " 42  CRS_DEP_TIME_3                 int64  \n",
      " 43  CRS_DEP_TIME_4                 int64  \n",
      " 44  CRS_ARR_TIME_2                 int64  \n",
      " 45  CRS_ARR_TIME_3                 int64  \n",
      " 46  CRS_ARR_TIME_4                 int64  \n",
      " 47  MONTH_2                        int64  \n",
      " 48  MONTH_3                        int64  \n",
      " 49  MONTH_4                        int64  \n",
      " 50  MONTH_5                        int64  \n",
      " 51  MONTH_6                        int64  \n",
      " 52  MONTH_7                        int64  \n",
      " 53  MONTH_8                        int64  \n",
      " 54  MONTH_9                        int64  \n",
      " 55  MONTH_10                       int64  \n",
      " 56  MONTH_11                       int64  \n",
      " 57  MONTH_12                       int64  \n",
      " 58  WEEKDAY_1                      int64  \n",
      " 59  WEEKDAY_2                      int64  \n",
      " 60  WEEKDAY_3                      int64  \n",
      " 61  WEEKDAY_4                      int64  \n",
      " 62  WEEKDAY_5                      int64  \n",
      " 63  WEEKDAY_6                      int64  \n",
      "dtypes: float64(4), int64(60)\n",
      "memory usage: 1.9 GB\n"
     ]
    }
   ],
   "source": [
    "dfm_ready.info()"
   ]
  },
  {
   "cell_type": "raw",
   "metadata": {},
   "source": []
  },
  {
   "cell_type": "markdown",
   "metadata": {},
   "source": [
    "In this second version of thee XGBoost, I will drop the DEP_DELAY just as a test. However, I do believe that the model should have it as this is a feature that you normally know before you board the plane and it does not necessarily suggest a delay at the arrival destination. \n",
    "\n",
    "There are a few factors that wee should have considered while cleaning the data and could have affected these decisions. These factors are that according to the OAG, a flight is not considered delayed from the departure nor the arrival city, if it is lower or equal than 15 minutes. That could have affected the EDA that I did plus the decisions made for the models in terms of variables. So it will definitely be a suggestion for a way forward.\n",
    "\n",
    "You can look at the source of the information <a href=\"https://www.oag.com/airline-on-time-performance-defining-late\">here</a>"
   ]
  },
  {
   "cell_type": "markdown",
   "metadata": {
    "ExecuteTime": {
     "end_time": "2020-10-11T10:08:15.709396Z",
     "start_time": "2020-10-11T10:08:15.707084Z"
    }
   },
   "source": [
    "# AdaBoost"
   ]
  },
  {
   "cell_type": "code",
   "execution_count": 4,
   "metadata": {
    "ExecuteTime": {
     "end_time": "2020-10-12T00:49:09.691886Z",
     "start_time": "2020-10-12T00:49:09.688962Z"
    }
   },
   "outputs": [],
   "source": [
    "# Instantiate an AdaBoosClassifier\n",
    "adaboost_clf = AdaBoostClassifier(random_state=42)\n",
    "                                 \n",
    "# Instantiate an GradientBoostingClassifier\n",
    "gbt_clf = GradientBoostingClassifier(random_state=42)"
   ]
  },
  {
   "cell_type": "code",
   "execution_count": 5,
   "metadata": {
    "ExecuteTime": {
     "end_time": "2020-10-12T00:49:55.314924Z",
     "start_time": "2020-10-12T00:49:54.081809Z"
    }
   },
   "outputs": [],
   "source": [
    "# Define features (X) and traget(y)\n",
    "y = dfm_ready['FLIGHT_STATUS']\n",
    "X = dfm_ready.drop(['FLIGHT_STATUS'], axis = 1)"
   ]
  },
  {
   "cell_type": "code",
   "execution_count": 7,
   "metadata": {
    "ExecuteTime": {
     "end_time": "2020-10-12T00:50:59.789062Z",
     "start_time": "2020-10-12T00:50:55.193724Z"
    }
   },
   "outputs": [],
   "source": [
    "# Perform the dataset split\n",
    "X_test, X_train, y_test, y_train = train_test_split(X, y, test_size=0.25, random_state=42)"
   ]
  },
  {
   "cell_type": "code",
   "execution_count": 8,
   "metadata": {
    "ExecuteTime": {
     "end_time": "2020-10-12T00:52:39.257434Z",
     "start_time": "2020-10-12T00:51:03.663748Z"
    }
   },
   "outputs": [
    {
     "data": {
      "text/plain": [
       "AdaBoostClassifier(random_state=42)"
      ]
     },
     "execution_count": 8,
     "metadata": {},
     "output_type": "execute_result"
    }
   ],
   "source": [
    "adaboost_clf.fit(X_train, y_train)"
   ]
  },
  {
   "cell_type": "code",
   "execution_count": 9,
   "metadata": {
    "ExecuteTime": {
     "end_time": "2020-10-12T00:57:04.465966Z",
     "start_time": "2020-10-12T00:52:39.579182Z"
    }
   },
   "outputs": [
    {
     "data": {
      "text/plain": [
       "GradientBoostingClassifier(random_state=42)"
      ]
     },
     "execution_count": 9,
     "metadata": {},
     "output_type": "execute_result"
    }
   ],
   "source": [
    "gbt_clf.fit(X_train, y_train)"
   ]
  },
  {
   "cell_type": "code",
   "execution_count": 10,
   "metadata": {
    "ExecuteTime": {
     "end_time": "2020-10-12T00:58:42.967726Z",
     "start_time": "2020-10-12T00:57:04.825769Z"
    }
   },
   "outputs": [],
   "source": [
    "# Using the models to predict labels on both training and test sets\n",
    "\n",
    "# AdaBoost model predictions\n",
    "adaboost_train_preds = adaboost_clf.predict(X_train)\n",
    "adaboost_test_preds = adaboost_clf.predict(X_test)\n",
    "\n",
    "# GradientBoosting model predictions\n",
    "gbt_clf_train_preds = gbt_clf.predict(X_train)\n",
    "gbt_clf_test_preds = gbt_clf.predict(X_test)"
   ]
  },
  {
   "cell_type": "code",
   "execution_count": 19,
   "metadata": {
    "ExecuteTime": {
     "end_time": "2020-10-12T12:39:00.260548Z",
     "start_time": "2020-10-12T12:38:57.159327Z"
    }
   },
   "outputs": [
    {
     "name": "stdout",
     "output_type": "stream",
     "text": [
      "Training Metrics\n",
      "----------------------------\n",
      "Model: AdaBoost\n",
      "Accuracy: 0.8172882996611996\n",
      "F1-Score: 0.7022851112473393\n",
      "\n",
      "Model: Gradient Boosted Trees\n",
      "Accuracy: 0.8318322663699461\n",
      "F1-Score: 0.7305988486324113\n",
      "\n",
      "Testing Metrics\n",
      "----------------------------\n",
      "Model: AdaBoost\n",
      "Accuracy: 0.816682034946537\n",
      "F1-Score: 0.7009717662009417\n",
      "\n",
      "Model: Gradient Boosted Trees\n",
      "Accuracy: 0.8309053447018687\n",
      "F1-Score: 0.7286903046990878\n"
     ]
    }
   ],
   "source": [
    "# Calculating the accuracy and f1-score for each model:\n",
    "\n",
    "def display_acc_and_f1_score(true, preds, model_name):\n",
    "    acc = accuracy_score(true, preds)\n",
    "    f1 = f1_score(true, preds)\n",
    "    print(\"Model: {}\".format(model_name))\n",
    "    print(\"Accuracy: {}\".format(acc))\n",
    "    print(\"F1-Score: {}\".format(f1))\n",
    "    \n",
    "print(\"Training Metrics\")\n",
    "print('----------------------------')\n",
    "display_acc_and_f1_score(y_train, adaboost_train_preds, model_name='AdaBoost')\n",
    "print(\"\")\n",
    "display_acc_and_f1_score(y_train, gbt_clf_train_preds, model_name='Gradient Boosted Trees')\n",
    "print(\"\")\n",
    "print(\"Testing Metrics\")\n",
    "print('----------------------------')\n",
    "display_acc_and_f1_score(y_test, adaboost_test_preds, model_name='AdaBoost')\n",
    "print(\"\")\n",
    "display_acc_and_f1_score(y_test, gbt_clf_test_preds, model_name='Gradient Boosted Trees')"
   ]
  },
  {
   "cell_type": "markdown",
   "metadata": {},
   "source": [
    "Confusion Matrix "
   ]
  },
  {
   "cell_type": "code",
   "execution_count": 12,
   "metadata": {
    "ExecuteTime": {
     "end_time": "2020-10-12T00:58:50.342388Z",
     "start_time": "2020-10-12T00:58:47.553458Z"
    }
   },
   "outputs": [
    {
     "data": {
      "text/plain": [
       "array([[1809181,   80227],\n",
       "       [ 470862,  645922]])"
      ]
     },
     "execution_count": 12,
     "metadata": {},
     "output_type": "execute_result"
    }
   ],
   "source": [
    "adaboost_confusion_matrix = confusion_matrix(y_test, adaboost_test_preds)\n",
    "adaboost_confusion_matrix"
   ]
  },
  {
   "cell_type": "code",
   "execution_count": 13,
   "metadata": {
    "ExecuteTime": {
     "end_time": "2020-10-12T00:58:53.415373Z",
     "start_time": "2020-10-12T00:58:50.704515Z"
    }
   },
   "outputs": [
    {
     "data": {
      "text/plain": [
       "array([[1815217,   74191],\n",
       "       [ 434140,  682644]])"
      ]
     },
     "execution_count": 13,
     "metadata": {},
     "output_type": "execute_result"
    }
   ],
   "source": [
    "gbt_confusion_matrix = confusion_matrix(y_test, gbt_clf_test_preds)\n",
    "gbt_confusion_matrix"
   ]
  },
  {
   "cell_type": "code",
   "execution_count": 14,
   "metadata": {
    "ExecuteTime": {
     "end_time": "2020-10-12T00:58:59.658289Z",
     "start_time": "2020-10-12T00:58:53.789021Z"
    }
   },
   "outputs": [
    {
     "name": "stdout",
     "output_type": "stream",
     "text": [
      "              precision    recall  f1-score   support\n",
      "\n",
      "           0       0.79      0.96      0.87   1889408\n",
      "           1       0.89      0.58      0.70   1116784\n",
      "\n",
      "    accuracy                           0.82   3006192\n",
      "   macro avg       0.84      0.77      0.78   3006192\n",
      "weighted avg       0.83      0.82      0.81   3006192\n",
      "\n"
     ]
    }
   ],
   "source": [
    "adaboost_classification_report = classification_report(y_test, adaboost_test_preds)\n",
    "print(adaboost_classification_report)"
   ]
  },
  {
   "cell_type": "code",
   "execution_count": 15,
   "metadata": {
    "ExecuteTime": {
     "end_time": "2020-10-12T00:59:06.399394Z",
     "start_time": "2020-10-12T00:59:00.069794Z"
    }
   },
   "outputs": [
    {
     "name": "stdout",
     "output_type": "stream",
     "text": [
      "              precision    recall  f1-score   support\n",
      "\n",
      "           0       0.81      0.96      0.88   1889408\n",
      "           1       0.90      0.61      0.73   1116784\n",
      "\n",
      "    accuracy                           0.83   3006192\n",
      "   macro avg       0.85      0.79      0.80   3006192\n",
      "weighted avg       0.84      0.83      0.82   3006192\n",
      "\n"
     ]
    }
   ],
   "source": [
    "gbt_classification_report = classification_report(y_test, gbt_clf_test_preds)\n",
    "print(gbt_classification_report)"
   ]
  },
  {
   "cell_type": "code",
   "execution_count": 16,
   "metadata": {
    "ExecuteTime": {
     "end_time": "2020-10-12T05:27:29.255826Z",
     "start_time": "2020-10-12T00:59:06.837124Z"
    }
   },
   "outputs": [
    {
     "name": "stdout",
     "output_type": "stream",
     "text": [
      "Mean Adaboost Cross-Val Score (k=5):\n",
      "0.7603938514565318\n"
     ]
    }
   ],
   "source": [
    "print('Mean Adaboost Cross-Val Score (k=5):')\n",
    "print(cross_val_score(adaboost_clf, X, y, cv=5).mean())"
   ]
  },
  {
   "cell_type": "code",
   "execution_count": 17,
   "metadata": {
    "ExecuteTime": {
     "end_time": "2020-10-12T10:08:09.027431Z",
     "start_time": "2020-10-12T05:27:30.749831Z"
    }
   },
   "outputs": [
    {
     "name": "stdout",
     "output_type": "stream",
     "text": [
      "Mean GBT Cross-Val Score (k=5):\n",
      "0.7727191597199039\n"
     ]
    }
   ],
   "source": [
    "print('Mean GBT Cross-Val Score (k=5):')\n",
    "print(cross_val_score(gbt_clf, X, y, cv=5).mean())"
   ]
  },
  {
   "cell_type": "code",
   "execution_count": null,
   "metadata": {},
   "outputs": [],
   "source": []
  }
 ],
 "metadata": {
  "kernelspec": {
   "display_name": "learn-env",
   "language": "python",
   "name": "learn-env"
  },
  "language_info": {
   "codemirror_mode": {
    "name": "ipython",
    "version": 3
   },
   "file_extension": ".py",
   "mimetype": "text/x-python",
   "name": "python",
   "nbconvert_exporter": "python",
   "pygments_lexer": "ipython3",
   "version": "3.6.9"
  },
  "toc": {
   "base_numbering": 1,
   "nav_menu": {},
   "number_sections": true,
   "sideBar": true,
   "skip_h1_title": false,
   "title_cell": "Table of Contents",
   "title_sidebar": "Contents",
   "toc_cell": false,
   "toc_position": {},
   "toc_section_display": true,
   "toc_window_display": false
  },
  "varInspector": {
   "cols": {
    "lenName": 16,
    "lenType": 16,
    "lenVar": 40
   },
   "kernels_config": {
    "python": {
     "delete_cmd_postfix": "",
     "delete_cmd_prefix": "del ",
     "library": "var_list.py",
     "varRefreshCmd": "print(var_dic_list())"
    },
    "r": {
     "delete_cmd_postfix": ") ",
     "delete_cmd_prefix": "rm(",
     "library": "var_list.r",
     "varRefreshCmd": "cat(var_dic_list()) "
    }
   },
   "types_to_exclude": [
    "module",
    "function",
    "builtin_function_or_method",
    "instance",
    "_Feature"
   ],
   "window_display": false
  }
 },
 "nbformat": 4,
 "nbformat_minor": 4
}
